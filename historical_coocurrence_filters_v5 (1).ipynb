{
 "cells": [
  {
   "cell_type": "code",
   "execution_count": 66,
   "metadata": {},
   "outputs": [],
   "source": [
    "import pandas as pd\n",
    "import numpy as np\n",
    "import matplotlib.pyplot as plt \n"
   ]
  },
  {
   "cell_type": "code",
   "execution_count": 2,
   "metadata": {},
   "outputs": [
    {
     "data": {
      "text/html": [
       "<div>\n",
       "<style scoped>\n",
       "    .dataframe tbody tr th:only-of-type {\n",
       "        vertical-align: middle;\n",
       "    }\n",
       "\n",
       "    .dataframe tbody tr th {\n",
       "        vertical-align: top;\n",
       "    }\n",
       "\n",
       "    .dataframe thead th {\n",
       "        text-align: right;\n",
       "    }\n",
       "</style>\n",
       "<table border=\"1\" class=\"dataframe\">\n",
       "  <thead>\n",
       "    <tr style=\"text-align: right;\">\n",
       "      <th></th>\n",
       "      <th>antecedents</th>\n",
       "      <th>consequents</th>\n",
       "      <th>antecedent support</th>\n",
       "      <th>consequent support</th>\n",
       "      <th>support</th>\n",
       "      <th>confidence</th>\n",
       "      <th>lift</th>\n",
       "      <th>leverage</th>\n",
       "      <th>conviction</th>\n",
       "      <th>antecedent_len</th>\n",
       "      <th>consequente_len</th>\n",
       "    </tr>\n",
       "  </thead>\n",
       "  <tbody>\n",
       "    <tr>\n",
       "      <th>0</th>\n",
       "      <td>frozenset({'Firebird'})</td>\n",
       "      <td>frozenset({'Informix'})</td>\n",
       "      <td>0.025381</td>\n",
       "      <td>0.030457</td>\n",
       "      <td>0.025381</td>\n",
       "      <td>1.000000</td>\n",
       "      <td>32.833333</td>\n",
       "      <td>0.024608</td>\n",
       "      <td>inf</td>\n",
       "      <td>1</td>\n",
       "      <td>1</td>\n",
       "    </tr>\n",
       "    <tr>\n",
       "      <th>1</th>\n",
       "      <td>frozenset({'Informix'})</td>\n",
       "      <td>frozenset({'Firebird'})</td>\n",
       "      <td>0.030457</td>\n",
       "      <td>0.025381</td>\n",
       "      <td>0.025381</td>\n",
       "      <td>0.833333</td>\n",
       "      <td>32.833333</td>\n",
       "      <td>0.024608</td>\n",
       "      <td>5.847716</td>\n",
       "      <td>1</td>\n",
       "      <td>1</td>\n",
       "    </tr>\n",
       "    <tr>\n",
       "      <th>2</th>\n",
       "      <td>frozenset({'Firebird'})</td>\n",
       "      <td>frozenset({'SAP Adaptive Server'})</td>\n",
       "      <td>0.025381</td>\n",
       "      <td>0.060914</td>\n",
       "      <td>0.025381</td>\n",
       "      <td>1.000000</td>\n",
       "      <td>16.416667</td>\n",
       "      <td>0.023835</td>\n",
       "      <td>inf</td>\n",
       "      <td>1</td>\n",
       "      <td>1</td>\n",
       "    </tr>\n",
       "    <tr>\n",
       "      <th>3</th>\n",
       "      <td>frozenset({'SapHana'})</td>\n",
       "      <td>frozenset({'SAP Adaptive Server'})</td>\n",
       "      <td>0.025381</td>\n",
       "      <td>0.060914</td>\n",
       "      <td>0.025381</td>\n",
       "      <td>1.000000</td>\n",
       "      <td>16.416667</td>\n",
       "      <td>0.023835</td>\n",
       "      <td>inf</td>\n",
       "      <td>1</td>\n",
       "      <td>1</td>\n",
       "    </tr>\n",
       "    <tr>\n",
       "      <th>4</th>\n",
       "      <td>frozenset({'SAP Adaptive Server'})</td>\n",
       "      <td>frozenset({'Firebird'})</td>\n",
       "      <td>0.060914</td>\n",
       "      <td>0.025381</td>\n",
       "      <td>0.025381</td>\n",
       "      <td>0.416667</td>\n",
       "      <td>16.416667</td>\n",
       "      <td>0.023835</td>\n",
       "      <td>1.670776</td>\n",
       "      <td>1</td>\n",
       "      <td>1</td>\n",
       "    </tr>\n",
       "    <tr>\n",
       "      <th>...</th>\n",
       "      <td>...</td>\n",
       "      <td>...</td>\n",
       "      <td>...</td>\n",
       "      <td>...</td>\n",
       "      <td>...</td>\n",
       "      <td>...</td>\n",
       "      <td>...</td>\n",
       "      <td>...</td>\n",
       "      <td>...</td>\n",
       "      <td>...</td>\n",
       "      <td>...</td>\n",
       "    </tr>\n",
       "    <tr>\n",
       "      <th>273</th>\n",
       "      <td>frozenset({'H2'})</td>\n",
       "      <td>frozenset({'Ehcache'})</td>\n",
       "      <td>0.243655</td>\n",
       "      <td>0.182741</td>\n",
       "      <td>0.060914</td>\n",
       "      <td>0.250000</td>\n",
       "      <td>1.368056</td>\n",
       "      <td>0.016388</td>\n",
       "      <td>1.089679</td>\n",
       "      <td>1</td>\n",
       "      <td>1</td>\n",
       "    </tr>\n",
       "    <tr>\n",
       "      <th>274</th>\n",
       "      <td>frozenset({'MySQL'})</td>\n",
       "      <td>frozenset({'Ehcache'})</td>\n",
       "      <td>0.411168</td>\n",
       "      <td>0.182741</td>\n",
       "      <td>0.096447</td>\n",
       "      <td>0.234568</td>\n",
       "      <td>1.283608</td>\n",
       "      <td>0.021309</td>\n",
       "      <td>1.067709</td>\n",
       "      <td>1</td>\n",
       "      <td>1</td>\n",
       "    </tr>\n",
       "    <tr>\n",
       "      <th>275</th>\n",
       "      <td>frozenset({'Ehcache'})</td>\n",
       "      <td>frozenset({'MySQL'})</td>\n",
       "      <td>0.182741</td>\n",
       "      <td>0.411168</td>\n",
       "      <td>0.096447</td>\n",
       "      <td>0.527778</td>\n",
       "      <td>1.283608</td>\n",
       "      <td>0.021309</td>\n",
       "      <td>1.246939</td>\n",
       "      <td>1</td>\n",
       "      <td>1</td>\n",
       "    </tr>\n",
       "    <tr>\n",
       "      <th>276</th>\n",
       "      <td>frozenset({'Redis'})</td>\n",
       "      <td>frozenset({'MS SQL Server'})</td>\n",
       "      <td>0.152284</td>\n",
       "      <td>0.131980</td>\n",
       "      <td>0.025381</td>\n",
       "      <td>0.166667</td>\n",
       "      <td>1.262821</td>\n",
       "      <td>0.005282</td>\n",
       "      <td>1.041624</td>\n",
       "      <td>1</td>\n",
       "      <td>1</td>\n",
       "    </tr>\n",
       "    <tr>\n",
       "      <th>277</th>\n",
       "      <td>frozenset({'MS SQL Server'})</td>\n",
       "      <td>frozenset({'Redis'})</td>\n",
       "      <td>0.131980</td>\n",
       "      <td>0.152284</td>\n",
       "      <td>0.025381</td>\n",
       "      <td>0.192308</td>\n",
       "      <td>1.262821</td>\n",
       "      <td>0.005282</td>\n",
       "      <td>1.049553</td>\n",
       "      <td>1</td>\n",
       "      <td>1</td>\n",
       "    </tr>\n",
       "  </tbody>\n",
       "</table>\n",
       "<p>278 rows × 11 columns</p>\n",
       "</div>"
      ],
      "text/plain": [
       "                            antecedents                         consequents  \\\n",
       "0               frozenset({'Firebird'})             frozenset({'Informix'})   \n",
       "1               frozenset({'Informix'})             frozenset({'Firebird'})   \n",
       "2               frozenset({'Firebird'})  frozenset({'SAP Adaptive Server'})   \n",
       "3                frozenset({'SapHana'})  frozenset({'SAP Adaptive Server'})   \n",
       "4    frozenset({'SAP Adaptive Server'})             frozenset({'Firebird'})   \n",
       "..                                  ...                                 ...   \n",
       "273                   frozenset({'H2'})              frozenset({'Ehcache'})   \n",
       "274                frozenset({'MySQL'})              frozenset({'Ehcache'})   \n",
       "275              frozenset({'Ehcache'})                frozenset({'MySQL'})   \n",
       "276                frozenset({'Redis'})        frozenset({'MS SQL Server'})   \n",
       "277        frozenset({'MS SQL Server'})                frozenset({'Redis'})   \n",
       "\n",
       "     antecedent support  consequent support   support  confidence       lift  \\\n",
       "0              0.025381            0.030457  0.025381    1.000000  32.833333   \n",
       "1              0.030457            0.025381  0.025381    0.833333  32.833333   \n",
       "2              0.025381            0.060914  0.025381    1.000000  16.416667   \n",
       "3              0.025381            0.060914  0.025381    1.000000  16.416667   \n",
       "4              0.060914            0.025381  0.025381    0.416667  16.416667   \n",
       "..                  ...                 ...       ...         ...        ...   \n",
       "273            0.243655            0.182741  0.060914    0.250000   1.368056   \n",
       "274            0.411168            0.182741  0.096447    0.234568   1.283608   \n",
       "275            0.182741            0.411168  0.096447    0.527778   1.283608   \n",
       "276            0.152284            0.131980  0.025381    0.166667   1.262821   \n",
       "277            0.131980            0.152284  0.025381    0.192308   1.262821   \n",
       "\n",
       "     leverage  conviction  antecedent_len  consequente_len  \n",
       "0    0.024608         inf               1                1  \n",
       "1    0.024608    5.847716               1                1  \n",
       "2    0.023835         inf               1                1  \n",
       "3    0.023835         inf               1                1  \n",
       "4    0.023835    1.670776               1                1  \n",
       "..        ...         ...             ...              ...  \n",
       "273  0.016388    1.089679               1                1  \n",
       "274  0.021309    1.067709               1                1  \n",
       "275  0.021309    1.246939               1                1  \n",
       "276  0.005282    1.041624               1                1  \n",
       "277  0.005282    1.049553               1                1  \n",
       "\n",
       "[278 rows x 11 columns]"
      ]
     },
     "execution_count": 2,
     "metadata": {},
     "output_type": "execute_result"
    }
   ],
   "source": [
    "df = pd.read_excel('historical_rules_commit5_197reg_021.xlsx', keep_default_na=False)\n",
    "#df = pd.read_excel(HISTORICAL_RULES_FILE , keep_default_na=False)\n",
    "df2 = df.copy()\n",
    "len(df)\n",
    "#df.head()\n",
    "df2"
   ]
  },
  {
   "cell_type": "code",
   "execution_count": 44,
   "metadata": {},
   "outputs": [
    {
     "data": {
      "text/html": [
       "<div>\n",
       "<style scoped>\n",
       "    .dataframe tbody tr th:only-of-type {\n",
       "        vertical-align: middle;\n",
       "    }\n",
       "\n",
       "    .dataframe tbody tr th {\n",
       "        vertical-align: top;\n",
       "    }\n",
       "\n",
       "    .dataframe thead th {\n",
       "        text-align: right;\n",
       "    }\n",
       "</style>\n",
       "<table border=\"1\" class=\"dataframe\">\n",
       "  <thead>\n",
       "    <tr style=\"text-align: right;\">\n",
       "      <th></th>\n",
       "      <th>antecedents</th>\n",
       "      <th>consequents</th>\n",
       "      <th>antecedent support</th>\n",
       "      <th>consequent support</th>\n",
       "      <th>support</th>\n",
       "      <th>confidence</th>\n",
       "      <th>lift</th>\n",
       "      <th>leverage</th>\n",
       "      <th>conviction</th>\n",
       "      <th>antecedent_len</th>\n",
       "      <th>consequente_len</th>\n",
       "    </tr>\n",
       "  </thead>\n",
       "  <tbody>\n",
       "    <tr>\n",
       "      <th>0</th>\n",
       "      <td>frozenset({'Firebird'})</td>\n",
       "      <td>frozenset({'Informix'})</td>\n",
       "      <td>0.025381</td>\n",
       "      <td>0.030457</td>\n",
       "      <td>0.025381</td>\n",
       "      <td>1.000000</td>\n",
       "      <td>32.833333</td>\n",
       "      <td>0.024608</td>\n",
       "      <td>inf</td>\n",
       "      <td>1</td>\n",
       "      <td>1</td>\n",
       "    </tr>\n",
       "    <tr>\n",
       "      <th>1</th>\n",
       "      <td>frozenset({'Informix'})</td>\n",
       "      <td>frozenset({'Firebird'})</td>\n",
       "      <td>0.030457</td>\n",
       "      <td>0.025381</td>\n",
       "      <td>0.025381</td>\n",
       "      <td>0.833333</td>\n",
       "      <td>32.833333</td>\n",
       "      <td>0.024608</td>\n",
       "      <td>5.847716</td>\n",
       "      <td>1</td>\n",
       "      <td>1</td>\n",
       "    </tr>\n",
       "    <tr>\n",
       "      <th>2</th>\n",
       "      <td>frozenset({'Firebird'})</td>\n",
       "      <td>frozenset({'SAP Adaptive Server'})</td>\n",
       "      <td>0.025381</td>\n",
       "      <td>0.060914</td>\n",
       "      <td>0.025381</td>\n",
       "      <td>1.000000</td>\n",
       "      <td>16.416667</td>\n",
       "      <td>0.023835</td>\n",
       "      <td>inf</td>\n",
       "      <td>1</td>\n",
       "      <td>1</td>\n",
       "    </tr>\n",
       "    <tr>\n",
       "      <th>3</th>\n",
       "      <td>frozenset({'SapHana'})</td>\n",
       "      <td>frozenset({'SAP Adaptive Server'})</td>\n",
       "      <td>0.025381</td>\n",
       "      <td>0.060914</td>\n",
       "      <td>0.025381</td>\n",
       "      <td>1.000000</td>\n",
       "      <td>16.416667</td>\n",
       "      <td>0.023835</td>\n",
       "      <td>inf</td>\n",
       "      <td>1</td>\n",
       "      <td>1</td>\n",
       "    </tr>\n",
       "    <tr>\n",
       "      <th>4</th>\n",
       "      <td>frozenset({'SAP Adaptive Server'})</td>\n",
       "      <td>frozenset({'Firebird'})</td>\n",
       "      <td>0.060914</td>\n",
       "      <td>0.025381</td>\n",
       "      <td>0.025381</td>\n",
       "      <td>0.416667</td>\n",
       "      <td>16.416667</td>\n",
       "      <td>0.023835</td>\n",
       "      <td>1.670776</td>\n",
       "      <td>1</td>\n",
       "      <td>1</td>\n",
       "    </tr>\n",
       "    <tr>\n",
       "      <th>...</th>\n",
       "      <td>...</td>\n",
       "      <td>...</td>\n",
       "      <td>...</td>\n",
       "      <td>...</td>\n",
       "      <td>...</td>\n",
       "      <td>...</td>\n",
       "      <td>...</td>\n",
       "      <td>...</td>\n",
       "      <td>...</td>\n",
       "      <td>...</td>\n",
       "      <td>...</td>\n",
       "    </tr>\n",
       "    <tr>\n",
       "      <th>273</th>\n",
       "      <td>frozenset({'H2'})</td>\n",
       "      <td>frozenset({'Ehcache'})</td>\n",
       "      <td>0.243655</td>\n",
       "      <td>0.182741</td>\n",
       "      <td>0.060914</td>\n",
       "      <td>0.250000</td>\n",
       "      <td>1.368056</td>\n",
       "      <td>0.016388</td>\n",
       "      <td>1.089679</td>\n",
       "      <td>1</td>\n",
       "      <td>1</td>\n",
       "    </tr>\n",
       "    <tr>\n",
       "      <th>274</th>\n",
       "      <td>frozenset({'MySQL'})</td>\n",
       "      <td>frozenset({'Ehcache'})</td>\n",
       "      <td>0.411168</td>\n",
       "      <td>0.182741</td>\n",
       "      <td>0.096447</td>\n",
       "      <td>0.234568</td>\n",
       "      <td>1.283608</td>\n",
       "      <td>0.021309</td>\n",
       "      <td>1.067709</td>\n",
       "      <td>1</td>\n",
       "      <td>1</td>\n",
       "    </tr>\n",
       "    <tr>\n",
       "      <th>275</th>\n",
       "      <td>frozenset({'Ehcache'})</td>\n",
       "      <td>frozenset({'MySQL'})</td>\n",
       "      <td>0.182741</td>\n",
       "      <td>0.411168</td>\n",
       "      <td>0.096447</td>\n",
       "      <td>0.527778</td>\n",
       "      <td>1.283608</td>\n",
       "      <td>0.021309</td>\n",
       "      <td>1.246939</td>\n",
       "      <td>1</td>\n",
       "      <td>1</td>\n",
       "    </tr>\n",
       "    <tr>\n",
       "      <th>276</th>\n",
       "      <td>frozenset({'Redis'})</td>\n",
       "      <td>frozenset({'MS SQL Server'})</td>\n",
       "      <td>0.152284</td>\n",
       "      <td>0.131980</td>\n",
       "      <td>0.025381</td>\n",
       "      <td>0.166667</td>\n",
       "      <td>1.262821</td>\n",
       "      <td>0.005282</td>\n",
       "      <td>1.041624</td>\n",
       "      <td>1</td>\n",
       "      <td>1</td>\n",
       "    </tr>\n",
       "    <tr>\n",
       "      <th>277</th>\n",
       "      <td>frozenset({'MS SQL Server'})</td>\n",
       "      <td>frozenset({'Redis'})</td>\n",
       "      <td>0.131980</td>\n",
       "      <td>0.152284</td>\n",
       "      <td>0.025381</td>\n",
       "      <td>0.192308</td>\n",
       "      <td>1.262821</td>\n",
       "      <td>0.005282</td>\n",
       "      <td>1.049553</td>\n",
       "      <td>1</td>\n",
       "      <td>1</td>\n",
       "    </tr>\n",
       "  </tbody>\n",
       "</table>\n",
       "<p>278 rows × 11 columns</p>\n",
       "</div>"
      ],
      "text/plain": [
       "                            antecedents                         consequents  \\\n",
       "0               frozenset({'Firebird'})             frozenset({'Informix'})   \n",
       "1               frozenset({'Informix'})             frozenset({'Firebird'})   \n",
       "2               frozenset({'Firebird'})  frozenset({'SAP Adaptive Server'})   \n",
       "3                frozenset({'SapHana'})  frozenset({'SAP Adaptive Server'})   \n",
       "4    frozenset({'SAP Adaptive Server'})             frozenset({'Firebird'})   \n",
       "..                                  ...                                 ...   \n",
       "273                   frozenset({'H2'})              frozenset({'Ehcache'})   \n",
       "274                frozenset({'MySQL'})              frozenset({'Ehcache'})   \n",
       "275              frozenset({'Ehcache'})                frozenset({'MySQL'})   \n",
       "276                frozenset({'Redis'})        frozenset({'MS SQL Server'})   \n",
       "277        frozenset({'MS SQL Server'})                frozenset({'Redis'})   \n",
       "\n",
       "     antecedent support  consequent support   support  confidence       lift  \\\n",
       "0              0.025381            0.030457  0.025381    1.000000  32.833333   \n",
       "1              0.030457            0.025381  0.025381    0.833333  32.833333   \n",
       "2              0.025381            0.060914  0.025381    1.000000  16.416667   \n",
       "3              0.025381            0.060914  0.025381    1.000000  16.416667   \n",
       "4              0.060914            0.025381  0.025381    0.416667  16.416667   \n",
       "..                  ...                 ...       ...         ...        ...   \n",
       "273            0.243655            0.182741  0.060914    0.250000   1.368056   \n",
       "274            0.411168            0.182741  0.096447    0.234568   1.283608   \n",
       "275            0.182741            0.411168  0.096447    0.527778   1.283608   \n",
       "276            0.152284            0.131980  0.025381    0.166667   1.262821   \n",
       "277            0.131980            0.152284  0.025381    0.192308   1.262821   \n",
       "\n",
       "     leverage  conviction  antecedent_len  consequente_len  \n",
       "0    0.024608         inf               1                1  \n",
       "1    0.024608    5.847716               1                1  \n",
       "2    0.023835         inf               1                1  \n",
       "3    0.023835         inf               1                1  \n",
       "4    0.023835    1.670776               1                1  \n",
       "..        ...         ...             ...              ...  \n",
       "273  0.016388    1.089679               1                1  \n",
       "274  0.021309    1.067709               1                1  \n",
       "275  0.021309    1.246939               1                1  \n",
       "276  0.005282    1.041624               1                1  \n",
       "277  0.005282    1.049553               1                1  \n",
       "\n",
       "[278 rows x 11 columns]"
      ]
     },
     "execution_count": 44,
     "metadata": {},
     "output_type": "execute_result"
    }
   ],
   "source": [
    "df3 = df.copy()\n",
    "df3"
   ]
  },
  {
   "cell_type": "code",
   "execution_count": 58,
   "metadata": {},
   "outputs": [],
   "source": [
    "antecedents_list = list(df3['antecedents'])\n",
    "consequents_list = list(df3['consequents'])"
   ]
  },
  {
   "cell_type": "code",
   "execution_count": 59,
   "metadata": {},
   "outputs": [],
   "source": [
    "import re\n",
    "\n",
    "def extract_strings(my_list):\n",
    "    sampleList = my_list\n",
    "    str_found_list = []\n",
    "\n",
    "    try:\n",
    "        marker = '\\''\n",
    "        regexPattern = marker + '(.+?)' + marker\n",
    "        for item in sampleList:\n",
    "            str_item = str(item)\n",
    "            if re.search(regexPattern, str_item):\n",
    "                str_found_list.append(re.search(regexPattern, str_item).group(1))\n",
    "            else:\n",
    "                str_found_list.append('Nothing found between two markers')\n",
    "    except:\n",
    "        str_found_list.append('Error occurred')\n",
    "\n",
    "    return str_found_list\n",
    "\n",
    "antecedents_list = extract_strings(antecedents_list)\n",
    "consequents_list = extract_strings(consequents_list)"
   ]
  },
  {
   "cell_type": "code",
   "execution_count": 69,
   "metadata": {},
   "outputs": [
    {
     "data": {
      "text/html": [
       "<div>\n",
       "<style scoped>\n",
       "    .dataframe tbody tr th:only-of-type {\n",
       "        vertical-align: middle;\n",
       "    }\n",
       "\n",
       "    .dataframe tbody tr th {\n",
       "        vertical-align: top;\n",
       "    }\n",
       "\n",
       "    .dataframe thead th {\n",
       "        text-align: right;\n",
       "    }\n",
       "</style>\n",
       "<table border=\"1\" class=\"dataframe\">\n",
       "  <thead>\n",
       "    <tr style=\"text-align: right;\">\n",
       "      <th></th>\n",
       "      <th>antecedents</th>\n",
       "      <th>consequents</th>\n",
       "      <th>antecedent support</th>\n",
       "      <th>consequent support</th>\n",
       "      <th>support</th>\n",
       "      <th>confidence</th>\n",
       "      <th>lift</th>\n",
       "      <th>leverage</th>\n",
       "      <th>conviction</th>\n",
       "      <th>antecedent_len</th>\n",
       "      <th>consequente_len</th>\n",
       "    </tr>\n",
       "  </thead>\n",
       "  <tbody>\n",
       "    <tr>\n",
       "      <th>0</th>\n",
       "      <td>Firebird</td>\n",
       "      <td>Informix</td>\n",
       "      <td>0.025381</td>\n",
       "      <td>0.030457</td>\n",
       "      <td>0.025381</td>\n",
       "      <td>1.000000</td>\n",
       "      <td>32.833333</td>\n",
       "      <td>0.024608</td>\n",
       "      <td>inf</td>\n",
       "      <td>1</td>\n",
       "      <td>1</td>\n",
       "    </tr>\n",
       "    <tr>\n",
       "      <th>1</th>\n",
       "      <td>Informix</td>\n",
       "      <td>Firebird</td>\n",
       "      <td>0.030457</td>\n",
       "      <td>0.025381</td>\n",
       "      <td>0.025381</td>\n",
       "      <td>0.833333</td>\n",
       "      <td>32.833333</td>\n",
       "      <td>0.024608</td>\n",
       "      <td>5.847716</td>\n",
       "      <td>1</td>\n",
       "      <td>1</td>\n",
       "    </tr>\n",
       "    <tr>\n",
       "      <th>2</th>\n",
       "      <td>Firebird</td>\n",
       "      <td>SAP Adaptive Server</td>\n",
       "      <td>0.025381</td>\n",
       "      <td>0.060914</td>\n",
       "      <td>0.025381</td>\n",
       "      <td>1.000000</td>\n",
       "      <td>16.416667</td>\n",
       "      <td>0.023835</td>\n",
       "      <td>inf</td>\n",
       "      <td>1</td>\n",
       "      <td>1</td>\n",
       "    </tr>\n",
       "    <tr>\n",
       "      <th>3</th>\n",
       "      <td>SapHana</td>\n",
       "      <td>SAP Adaptive Server</td>\n",
       "      <td>0.025381</td>\n",
       "      <td>0.060914</td>\n",
       "      <td>0.025381</td>\n",
       "      <td>1.000000</td>\n",
       "      <td>16.416667</td>\n",
       "      <td>0.023835</td>\n",
       "      <td>inf</td>\n",
       "      <td>1</td>\n",
       "      <td>1</td>\n",
       "    </tr>\n",
       "    <tr>\n",
       "      <th>4</th>\n",
       "      <td>SAP Adaptive Server</td>\n",
       "      <td>Firebird</td>\n",
       "      <td>0.060914</td>\n",
       "      <td>0.025381</td>\n",
       "      <td>0.025381</td>\n",
       "      <td>0.416667</td>\n",
       "      <td>16.416667</td>\n",
       "      <td>0.023835</td>\n",
       "      <td>1.670776</td>\n",
       "      <td>1</td>\n",
       "      <td>1</td>\n",
       "    </tr>\n",
       "    <tr>\n",
       "      <th>...</th>\n",
       "      <td>...</td>\n",
       "      <td>...</td>\n",
       "      <td>...</td>\n",
       "      <td>...</td>\n",
       "      <td>...</td>\n",
       "      <td>...</td>\n",
       "      <td>...</td>\n",
       "      <td>...</td>\n",
       "      <td>...</td>\n",
       "      <td>...</td>\n",
       "      <td>...</td>\n",
       "    </tr>\n",
       "    <tr>\n",
       "      <th>273</th>\n",
       "      <td>H2</td>\n",
       "      <td>Ehcache</td>\n",
       "      <td>0.243655</td>\n",
       "      <td>0.182741</td>\n",
       "      <td>0.060914</td>\n",
       "      <td>0.250000</td>\n",
       "      <td>1.368056</td>\n",
       "      <td>0.016388</td>\n",
       "      <td>1.089679</td>\n",
       "      <td>1</td>\n",
       "      <td>1</td>\n",
       "    </tr>\n",
       "    <tr>\n",
       "      <th>274</th>\n",
       "      <td>MySQL</td>\n",
       "      <td>Ehcache</td>\n",
       "      <td>0.411168</td>\n",
       "      <td>0.182741</td>\n",
       "      <td>0.096447</td>\n",
       "      <td>0.234568</td>\n",
       "      <td>1.283608</td>\n",
       "      <td>0.021309</td>\n",
       "      <td>1.067709</td>\n",
       "      <td>1</td>\n",
       "      <td>1</td>\n",
       "    </tr>\n",
       "    <tr>\n",
       "      <th>275</th>\n",
       "      <td>Ehcache</td>\n",
       "      <td>MySQL</td>\n",
       "      <td>0.182741</td>\n",
       "      <td>0.411168</td>\n",
       "      <td>0.096447</td>\n",
       "      <td>0.527778</td>\n",
       "      <td>1.283608</td>\n",
       "      <td>0.021309</td>\n",
       "      <td>1.246939</td>\n",
       "      <td>1</td>\n",
       "      <td>1</td>\n",
       "    </tr>\n",
       "    <tr>\n",
       "      <th>276</th>\n",
       "      <td>Redis</td>\n",
       "      <td>MS SQL Server</td>\n",
       "      <td>0.152284</td>\n",
       "      <td>0.131980</td>\n",
       "      <td>0.025381</td>\n",
       "      <td>0.166667</td>\n",
       "      <td>1.262821</td>\n",
       "      <td>0.005282</td>\n",
       "      <td>1.041624</td>\n",
       "      <td>1</td>\n",
       "      <td>1</td>\n",
       "    </tr>\n",
       "    <tr>\n",
       "      <th>277</th>\n",
       "      <td>MS SQL Server</td>\n",
       "      <td>Redis</td>\n",
       "      <td>0.131980</td>\n",
       "      <td>0.152284</td>\n",
       "      <td>0.025381</td>\n",
       "      <td>0.192308</td>\n",
       "      <td>1.262821</td>\n",
       "      <td>0.005282</td>\n",
       "      <td>1.049553</td>\n",
       "      <td>1</td>\n",
       "      <td>1</td>\n",
       "    </tr>\n",
       "  </tbody>\n",
       "</table>\n",
       "<p>278 rows × 11 columns</p>\n",
       "</div>"
      ],
      "text/plain": [
       "             antecedents          consequents  antecedent support  \\\n",
       "0               Firebird             Informix            0.025381   \n",
       "1               Informix             Firebird            0.030457   \n",
       "2               Firebird  SAP Adaptive Server            0.025381   \n",
       "3                SapHana  SAP Adaptive Server            0.025381   \n",
       "4    SAP Adaptive Server             Firebird            0.060914   \n",
       "..                   ...                  ...                 ...   \n",
       "273                   H2              Ehcache            0.243655   \n",
       "274                MySQL              Ehcache            0.411168   \n",
       "275              Ehcache                MySQL            0.182741   \n",
       "276                Redis        MS SQL Server            0.152284   \n",
       "277        MS SQL Server                Redis            0.131980   \n",
       "\n",
       "     consequent support   support  confidence       lift  leverage  \\\n",
       "0              0.030457  0.025381    1.000000  32.833333  0.024608   \n",
       "1              0.025381  0.025381    0.833333  32.833333  0.024608   \n",
       "2              0.060914  0.025381    1.000000  16.416667  0.023835   \n",
       "3              0.060914  0.025381    1.000000  16.416667  0.023835   \n",
       "4              0.025381  0.025381    0.416667  16.416667  0.023835   \n",
       "..                  ...       ...         ...        ...       ...   \n",
       "273            0.182741  0.060914    0.250000   1.368056  0.016388   \n",
       "274            0.182741  0.096447    0.234568   1.283608  0.021309   \n",
       "275            0.411168  0.096447    0.527778   1.283608  0.021309   \n",
       "276            0.131980  0.025381    0.166667   1.262821  0.005282   \n",
       "277            0.152284  0.025381    0.192308   1.262821  0.005282   \n",
       "\n",
       "     conviction  antecedent_len  consequente_len  \n",
       "0           inf               1                1  \n",
       "1      5.847716               1                1  \n",
       "2           inf               1                1  \n",
       "3           inf               1                1  \n",
       "4      1.670776               1                1  \n",
       "..          ...             ...              ...  \n",
       "273    1.089679               1                1  \n",
       "274    1.067709               1                1  \n",
       "275    1.246939               1                1  \n",
       "276    1.041624               1                1  \n",
       "277    1.049553               1                1  \n",
       "\n",
       "[278 rows x 11 columns]"
      ]
     },
     "execution_count": 69,
     "metadata": {},
     "output_type": "execute_result"
    }
   ],
   "source": [
    "df3['antecedents'] = np.resize(antecedents_list, len(df3))\n",
    "df3['consequents'] = np.resize(consequents_list, len(df3))\n",
    "df3"
   ]
  },
  {
   "cell_type": "code",
   "execution_count": 228,
   "metadata": {},
   "outputs": [
    {
     "data": {
      "text/plain": [
       "antecedents            string\n",
       "consequents            string\n",
       "antecedent support    float64\n",
       "consequent support    float64\n",
       "support               float64\n",
       "confidence            float64\n",
       "lift                  float64\n",
       "leverage              float64\n",
       "conviction            float64\n",
       "antecedent_len          int64\n",
       "consequente_len         int64\n",
       "dtype: object"
      ]
     },
     "execution_count": 228,
     "metadata": {},
     "output_type": "execute_result"
    }
   ],
   "source": [
    "df3 = df.copy()\n",
    "df3['antecedents'] = df3['antecedents'].astype('string')\n",
    "df3['consequents'] = df3['consequents'].astype('string')\n",
    "df3.dtypes"
   ]
  },
  {
   "cell_type": "code",
   "execution_count": 233,
   "metadata": {},
   "outputs": [],
   "source": [
    "#df3['antecedents'] = df3['antecedents'].replace('\"frozenset({\"','')\n",
    "#df3['antecedents'] = df3['antecedents'].replace('\"})\"','')\n",
    "#{r\"(?<=|)\\s+(?=|)\": '#'},\n",
    "#df3['Pattern'].replace({r\"(?<=|)\\s+(?=|)\": '#'}, regex=True, inplace=True)\n",
    "df3['antecedents'].replace({r\"frozenset\": '#'}, regex=True, inplace=True)"
   ]
  },
  {
   "cell_type": "code",
   "execution_count": 234,
   "metadata": {},
   "outputs": [
    {
     "data": {
      "text/html": [
       "<div>\n",
       "<style scoped>\n",
       "    .dataframe tbody tr th:only-of-type {\n",
       "        vertical-align: middle;\n",
       "    }\n",
       "\n",
       "    .dataframe tbody tr th {\n",
       "        vertical-align: top;\n",
       "    }\n",
       "\n",
       "    .dataframe thead th {\n",
       "        text-align: right;\n",
       "    }\n",
       "</style>\n",
       "<table border=\"1\" class=\"dataframe\">\n",
       "  <thead>\n",
       "    <tr style=\"text-align: right;\">\n",
       "      <th></th>\n",
       "      <th>antecedents</th>\n",
       "      <th>consequents</th>\n",
       "      <th>antecedent support</th>\n",
       "      <th>consequent support</th>\n",
       "      <th>support</th>\n",
       "      <th>confidence</th>\n",
       "      <th>lift</th>\n",
       "      <th>leverage</th>\n",
       "      <th>conviction</th>\n",
       "      <th>antecedent_len</th>\n",
       "      <th>consequente_len</th>\n",
       "    </tr>\n",
       "  </thead>\n",
       "  <tbody>\n",
       "    <tr>\n",
       "      <th>0</th>\n",
       "      <td>frozenset({'Firebird'})</td>\n",
       "      <td>frozenset({'Informix'})</td>\n",
       "      <td>0.025381</td>\n",
       "      <td>0.030457</td>\n",
       "      <td>0.025381</td>\n",
       "      <td>1.000000</td>\n",
       "      <td>32.833333</td>\n",
       "      <td>0.024608</td>\n",
       "      <td>inf</td>\n",
       "      <td>1</td>\n",
       "      <td>1</td>\n",
       "    </tr>\n",
       "    <tr>\n",
       "      <th>1</th>\n",
       "      <td>frozenset({'Informix'})</td>\n",
       "      <td>frozenset({'Firebird'})</td>\n",
       "      <td>0.030457</td>\n",
       "      <td>0.025381</td>\n",
       "      <td>0.025381</td>\n",
       "      <td>0.833333</td>\n",
       "      <td>32.833333</td>\n",
       "      <td>0.024608</td>\n",
       "      <td>5.847716</td>\n",
       "      <td>1</td>\n",
       "      <td>1</td>\n",
       "    </tr>\n",
       "    <tr>\n",
       "      <th>2</th>\n",
       "      <td>frozenset({'Firebird'})</td>\n",
       "      <td>frozenset({'SAP Adaptive Server'})</td>\n",
       "      <td>0.025381</td>\n",
       "      <td>0.060914</td>\n",
       "      <td>0.025381</td>\n",
       "      <td>1.000000</td>\n",
       "      <td>16.416667</td>\n",
       "      <td>0.023835</td>\n",
       "      <td>inf</td>\n",
       "      <td>1</td>\n",
       "      <td>1</td>\n",
       "    </tr>\n",
       "    <tr>\n",
       "      <th>3</th>\n",
       "      <td>frozenset({'SapHana'})</td>\n",
       "      <td>frozenset({'SAP Adaptive Server'})</td>\n",
       "      <td>0.025381</td>\n",
       "      <td>0.060914</td>\n",
       "      <td>0.025381</td>\n",
       "      <td>1.000000</td>\n",
       "      <td>16.416667</td>\n",
       "      <td>0.023835</td>\n",
       "      <td>inf</td>\n",
       "      <td>1</td>\n",
       "      <td>1</td>\n",
       "    </tr>\n",
       "    <tr>\n",
       "      <th>4</th>\n",
       "      <td>frozenset({'SAP Adaptive Server'})</td>\n",
       "      <td>frozenset({'Firebird'})</td>\n",
       "      <td>0.060914</td>\n",
       "      <td>0.025381</td>\n",
       "      <td>0.025381</td>\n",
       "      <td>0.416667</td>\n",
       "      <td>16.416667</td>\n",
       "      <td>0.023835</td>\n",
       "      <td>1.670776</td>\n",
       "      <td>1</td>\n",
       "      <td>1</td>\n",
       "    </tr>\n",
       "    <tr>\n",
       "      <th>...</th>\n",
       "      <td>...</td>\n",
       "      <td>...</td>\n",
       "      <td>...</td>\n",
       "      <td>...</td>\n",
       "      <td>...</td>\n",
       "      <td>...</td>\n",
       "      <td>...</td>\n",
       "      <td>...</td>\n",
       "      <td>...</td>\n",
       "      <td>...</td>\n",
       "      <td>...</td>\n",
       "    </tr>\n",
       "    <tr>\n",
       "      <th>273</th>\n",
       "      <td>frozenset({'H2'})</td>\n",
       "      <td>frozenset({'Ehcache'})</td>\n",
       "      <td>0.243655</td>\n",
       "      <td>0.182741</td>\n",
       "      <td>0.060914</td>\n",
       "      <td>0.250000</td>\n",
       "      <td>1.368056</td>\n",
       "      <td>0.016388</td>\n",
       "      <td>1.089679</td>\n",
       "      <td>1</td>\n",
       "      <td>1</td>\n",
       "    </tr>\n",
       "    <tr>\n",
       "      <th>274</th>\n",
       "      <td>frozenset({'MySQL'})</td>\n",
       "      <td>frozenset({'Ehcache'})</td>\n",
       "      <td>0.411168</td>\n",
       "      <td>0.182741</td>\n",
       "      <td>0.096447</td>\n",
       "      <td>0.234568</td>\n",
       "      <td>1.283608</td>\n",
       "      <td>0.021309</td>\n",
       "      <td>1.067709</td>\n",
       "      <td>1</td>\n",
       "      <td>1</td>\n",
       "    </tr>\n",
       "    <tr>\n",
       "      <th>275</th>\n",
       "      <td>frozenset({'Ehcache'})</td>\n",
       "      <td>frozenset({'MySQL'})</td>\n",
       "      <td>0.182741</td>\n",
       "      <td>0.411168</td>\n",
       "      <td>0.096447</td>\n",
       "      <td>0.527778</td>\n",
       "      <td>1.283608</td>\n",
       "      <td>0.021309</td>\n",
       "      <td>1.246939</td>\n",
       "      <td>1</td>\n",
       "      <td>1</td>\n",
       "    </tr>\n",
       "    <tr>\n",
       "      <th>276</th>\n",
       "      <td>frozenset({'Redis'})</td>\n",
       "      <td>frozenset({'MS SQL Server'})</td>\n",
       "      <td>0.152284</td>\n",
       "      <td>0.131980</td>\n",
       "      <td>0.025381</td>\n",
       "      <td>0.166667</td>\n",
       "      <td>1.262821</td>\n",
       "      <td>0.005282</td>\n",
       "      <td>1.041624</td>\n",
       "      <td>1</td>\n",
       "      <td>1</td>\n",
       "    </tr>\n",
       "    <tr>\n",
       "      <th>277</th>\n",
       "      <td>frozenset({'MS SQL Server'})</td>\n",
       "      <td>frozenset({'Redis'})</td>\n",
       "      <td>0.131980</td>\n",
       "      <td>0.152284</td>\n",
       "      <td>0.025381</td>\n",
       "      <td>0.192308</td>\n",
       "      <td>1.262821</td>\n",
       "      <td>0.005282</td>\n",
       "      <td>1.049553</td>\n",
       "      <td>1</td>\n",
       "      <td>1</td>\n",
       "    </tr>\n",
       "  </tbody>\n",
       "</table>\n",
       "<p>278 rows × 11 columns</p>\n",
       "</div>"
      ],
      "text/plain": [
       "                            antecedents                         consequents  \\\n",
       "0               frozenset({'Firebird'})             frozenset({'Informix'})   \n",
       "1               frozenset({'Informix'})             frozenset({'Firebird'})   \n",
       "2               frozenset({'Firebird'})  frozenset({'SAP Adaptive Server'})   \n",
       "3                frozenset({'SapHana'})  frozenset({'SAP Adaptive Server'})   \n",
       "4    frozenset({'SAP Adaptive Server'})             frozenset({'Firebird'})   \n",
       "..                                  ...                                 ...   \n",
       "273                   frozenset({'H2'})              frozenset({'Ehcache'})   \n",
       "274                frozenset({'MySQL'})              frozenset({'Ehcache'})   \n",
       "275              frozenset({'Ehcache'})                frozenset({'MySQL'})   \n",
       "276                frozenset({'Redis'})        frozenset({'MS SQL Server'})   \n",
       "277        frozenset({'MS SQL Server'})                frozenset({'Redis'})   \n",
       "\n",
       "     antecedent support  consequent support   support  confidence       lift  \\\n",
       "0              0.025381            0.030457  0.025381    1.000000  32.833333   \n",
       "1              0.030457            0.025381  0.025381    0.833333  32.833333   \n",
       "2              0.025381            0.060914  0.025381    1.000000  16.416667   \n",
       "3              0.025381            0.060914  0.025381    1.000000  16.416667   \n",
       "4              0.060914            0.025381  0.025381    0.416667  16.416667   \n",
       "..                  ...                 ...       ...         ...        ...   \n",
       "273            0.243655            0.182741  0.060914    0.250000   1.368056   \n",
       "274            0.411168            0.182741  0.096447    0.234568   1.283608   \n",
       "275            0.182741            0.411168  0.096447    0.527778   1.283608   \n",
       "276            0.152284            0.131980  0.025381    0.166667   1.262821   \n",
       "277            0.131980            0.152284  0.025381    0.192308   1.262821   \n",
       "\n",
       "     leverage  conviction  antecedent_len  consequente_len  \n",
       "0    0.024608         inf               1                1  \n",
       "1    0.024608    5.847716               1                1  \n",
       "2    0.023835         inf               1                1  \n",
       "3    0.023835         inf               1                1  \n",
       "4    0.023835    1.670776               1                1  \n",
       "..        ...         ...             ...              ...  \n",
       "273  0.016388    1.089679               1                1  \n",
       "274  0.021309    1.067709               1                1  \n",
       "275  0.021309    1.246939               1                1  \n",
       "276  0.005282    1.041624               1                1  \n",
       "277  0.005282    1.049553               1                1  \n",
       "\n",
       "[278 rows x 11 columns]"
      ]
     },
     "execution_count": 234,
     "metadata": {},
     "output_type": "execute_result"
    }
   ],
   "source": [
    "df3"
   ]
  },
  {
   "cell_type": "code",
   "execution_count": 210,
   "metadata": {},
   "outputs": [
    {
     "ename": "AttributeError",
     "evalue": "'StringMethods' object has no attribute 'removeprefix'",
     "output_type": "error",
     "traceback": [
      "\u001b[0;31m---------------------------------------------------------------------------\u001b[0m",
      "\u001b[0;31mAttributeError\u001b[0m                            Traceback (most recent call last)",
      "\u001b[0;32m<ipython-input-210-512025c5786f>\u001b[0m in \u001b[0;36m<module>\u001b[0;34m\u001b[0m\n\u001b[0;32m----> 1\u001b[0;31m \u001b[0mdf3\u001b[0m\u001b[0;34m[\u001b[0m\u001b[0;34m'antecedents'\u001b[0m\u001b[0;34m]\u001b[0m \u001b[0;34m=\u001b[0m \u001b[0mdf3\u001b[0m\u001b[0;34m[\u001b[0m\u001b[0;34m'antecedents'\u001b[0m\u001b[0;34m]\u001b[0m\u001b[0;34m.\u001b[0m\u001b[0mstr\u001b[0m\u001b[0;34m.\u001b[0m\u001b[0mremoveprefix\u001b[0m\u001b[0;34m(\u001b[0m\u001b[0;34m\"frozenset({\"\u001b[0m\u001b[0;34m)\u001b[0m\u001b[0;34m\u001b[0m\u001b[0;34m\u001b[0m\u001b[0m\n\u001b[0m\u001b[1;32m      2\u001b[0m \u001b[0mdf3\u001b[0m\u001b[0;34m[\u001b[0m\u001b[0;34m'antecedents'\u001b[0m\u001b[0;34m]\u001b[0m \u001b[0;34m=\u001b[0m \u001b[0mdf3\u001b[0m\u001b[0;34m[\u001b[0m\u001b[0;34m'antecedents'\u001b[0m\u001b[0;34m]\u001b[0m\u001b[0;34m.\u001b[0m\u001b[0mstr\u001b[0m\u001b[0;34m.\u001b[0m\u001b[0mremovesuffix\u001b[0m\u001b[0;34m(\u001b[0m\u001b[0;34m\"})\"\u001b[0m\u001b[0;34m)\u001b[0m\u001b[0;34m\u001b[0m\u001b[0;34m\u001b[0m\u001b[0m\n\u001b[1;32m      3\u001b[0m \u001b[0;34m\u001b[0m\u001b[0m\n\u001b[1;32m      4\u001b[0m \u001b[0mdf3\u001b[0m\u001b[0;34m[\u001b[0m\u001b[0;34m'consequents'\u001b[0m\u001b[0;34m]\u001b[0m \u001b[0;34m=\u001b[0m \u001b[0mdf3\u001b[0m\u001b[0;34m[\u001b[0m\u001b[0;34m'consequents'\u001b[0m\u001b[0;34m]\u001b[0m\u001b[0;34m.\u001b[0m\u001b[0mstr\u001b[0m\u001b[0;34m.\u001b[0m\u001b[0mremoveprefix\u001b[0m\u001b[0;34m(\u001b[0m\u001b[0;34m\"frozenset({\"\u001b[0m\u001b[0;34m)\u001b[0m\u001b[0;34m\u001b[0m\u001b[0;34m\u001b[0m\u001b[0m\n\u001b[1;32m      5\u001b[0m \u001b[0mdf3\u001b[0m\u001b[0;34m[\u001b[0m\u001b[0;34m'consequents'\u001b[0m\u001b[0;34m]\u001b[0m \u001b[0;34m=\u001b[0m \u001b[0mdf3\u001b[0m\u001b[0;34m[\u001b[0m\u001b[0;34m'consequents'\u001b[0m\u001b[0;34m]\u001b[0m\u001b[0;34m.\u001b[0m\u001b[0mstr\u001b[0m\u001b[0;34m.\u001b[0m\u001b[0mremovesuffix\u001b[0m\u001b[0;34m(\u001b[0m\u001b[0;34m\"})\"\u001b[0m\u001b[0;34m)\u001b[0m\u001b[0;34m\u001b[0m\u001b[0;34m\u001b[0m\u001b[0m\n",
      "\u001b[0;31mAttributeError\u001b[0m: 'StringMethods' object has no attribute 'removeprefix'"
     ]
    }
   ],
   "source": [
    "#Pelo que vi esta função só funciona a partir do python 3.9, estou usando o 3.7\n",
    "df3['antecedents'] = df3['antecedents'].str.remove(\"frozenset({\")\n",
    "df3['antecedents'] = df3['antecedents'].str.remove(\"})\")\n",
    "\n",
    "df3['consequents'] = df3['consequents'].str.removeprefix(\"frozenset({\")\n",
    "df3['consequents'] = df3['consequents'].str.removesuffix(\"})\")"
   ]
  },
  {
   "cell_type": "code",
   "execution_count": 203,
   "metadata": {},
   "outputs": [
    {
     "name": "stdout",
     "output_type": "stream",
     "text": [
      "  antecedents consequents  C\n",
      "0  (bbb, aaa)      (ccc,)  1\n",
      "1  (bbb, aaa)      (ccc,)  3\n",
      "2  (bbb, aaa)      (ccc,)  5\n",
      "3      (nbb,)  (nbb, ddd)  7\n",
      "4      (nbb,)  (nbb, ddd)  1\n",
      "5      (nbb,)  (nbb, ddd)  0\n"
     ]
    }
   ],
   "source": [
    "\n",
    "#print (df)\n",
    "\n",
    "cols = ['antecedents','consequents']\n",
    "df5[cols] = df5[cols].applymap(lambda x: tuple(x))\n",
    "print (df5)"
   ]
  },
  {
   "cell_type": "code",
   "execution_count": 227,
   "metadata": {},
   "outputs": [
    {
     "name": "stdout",
     "output_type": "stream",
     "text": [
      "                                           antecedents  \\\n",
      "0    [f, r, o, z, e, n, s, e, t, (, {, ', F, i, r, ...   \n",
      "1    [f, r, o, z, e, n, s, e, t, (, {, ', I, n, f, ...   \n",
      "2    [f, r, o, z, e, n, s, e, t, (, {, ', F, i, r, ...   \n",
      "3    [f, r, o, z, e, n, s, e, t, (, {, ', S, a, p, ...   \n",
      "4    [f, r, o, z, e, n, s, e, t, (, {, ', S, A, P, ...   \n",
      "..                                                 ...   \n",
      "273  [f, r, o, z, e, n, s, e, t, (, {, ', H, 2, ', ...   \n",
      "274  [f, r, o, z, e, n, s, e, t, (, {, ', M, y, S, ...   \n",
      "275  [f, r, o, z, e, n, s, e, t, (, {, ', E, h, c, ...   \n",
      "276  [f, r, o, z, e, n, s, e, t, (, {, ', R, e, d, ...   \n",
      "277  [f, r, o, z, e, n, s, e, t, (, {, ', M, S,  , ...   \n",
      "\n",
      "                                           consequents  antecedent support  \\\n",
      "0    [f, r, o, z, e, n, s, e, t, (, {, ', I, n, f, ...            0.025381   \n",
      "1    [f, r, o, z, e, n, s, e, t, (, {, ', F, i, r, ...            0.030457   \n",
      "2    [f, r, o, z, e, n, s, e, t, (, {, ', S, A, P, ...            0.025381   \n",
      "3    [f, r, o, z, e, n, s, e, t, (, {, ', S, A, P, ...            0.025381   \n",
      "4    [f, r, o, z, e, n, s, e, t, (, {, ', F, i, r, ...            0.060914   \n",
      "..                                                 ...                 ...   \n",
      "273  [f, r, o, z, e, n, s, e, t, (, {, ', E, h, c, ...            0.243655   \n",
      "274  [f, r, o, z, e, n, s, e, t, (, {, ', E, h, c, ...            0.411168   \n",
      "275  [f, r, o, z, e, n, s, e, t, (, {, ', M, y, S, ...            0.182741   \n",
      "276  [f, r, o, z, e, n, s, e, t, (, {, ', M, S,  , ...            0.152284   \n",
      "277  [f, r, o, z, e, n, s, e, t, (, {, ', R, e, d, ...            0.131980   \n",
      "\n",
      "     consequent support   support  confidence       lift  leverage  \\\n",
      "0              0.030457  0.025381    1.000000  32.833333  0.024608   \n",
      "1              0.025381  0.025381    0.833333  32.833333  0.024608   \n",
      "2              0.060914  0.025381    1.000000  16.416667  0.023835   \n",
      "3              0.060914  0.025381    1.000000  16.416667  0.023835   \n",
      "4              0.025381  0.025381    0.416667  16.416667  0.023835   \n",
      "..                  ...       ...         ...        ...       ...   \n",
      "273            0.182741  0.060914    0.250000   1.368056  0.016388   \n",
      "274            0.182741  0.096447    0.234568   1.283608  0.021309   \n",
      "275            0.411168  0.096447    0.527778   1.283608  0.021309   \n",
      "276            0.131980  0.025381    0.166667   1.262821  0.005282   \n",
      "277            0.152284  0.025381    0.192308   1.262821  0.005282   \n",
      "\n",
      "     conviction  antecedent_len  consequente_len  \n",
      "0           inf               1                1  \n",
      "1      5.847716               1                1  \n",
      "2           inf               1                1  \n",
      "3           inf               1                1  \n",
      "4      1.670776               1                1  \n",
      "..          ...             ...              ...  \n",
      "273    1.089679               1                1  \n",
      "274    1.067709               1                1  \n",
      "275    1.246939               1                1  \n",
      "276    1.041624               1                1  \n",
      "277    1.049553               1                1  \n",
      "\n",
      "[278 rows x 11 columns]\n"
     ]
    }
   ],
   "source": [
    "df3 = df.copy()\n",
    "cols = ['antecedents','consequents']\n",
    "df3[cols] = df3[cols].applymap(lambda x: list(x))\n",
    "print (df3)"
   ]
  },
  {
   "cell_type": "code",
   "execution_count": 221,
   "metadata": {},
   "outputs": [
    {
     "name": "stdout",
     "output_type": "stream",
     "text": [
      "                            antecedents                         consequents  \\\n",
      "0               frozenset({'Firebird'})             frozenset({'Informix'})   \n",
      "1               frozenset({'Informix'})             frozenset({'Firebird'})   \n",
      "2               frozenset({'Firebird'})  frozenset({'SAP Adaptive Server'})   \n",
      "3                frozenset({'SapHana'})  frozenset({'SAP Adaptive Server'})   \n",
      "4    frozenset({'SAP Adaptive Server'})             frozenset({'Firebird'})   \n",
      "..                                  ...                                 ...   \n",
      "273                   frozenset({'H2'})              frozenset({'Ehcache'})   \n",
      "274                frozenset({'MySQL'})              frozenset({'Ehcache'})   \n",
      "275              frozenset({'Ehcache'})                frozenset({'MySQL'})   \n",
      "276                frozenset({'Redis'})        frozenset({'MS SQL Server'})   \n",
      "277        frozenset({'MS SQL Server'})                frozenset({'Redis'})   \n",
      "\n",
      "     antecedent support  consequent support   support  confidence       lift  \\\n",
      "0              0.025381            0.030457  0.025381    1.000000  32.833333   \n",
      "1              0.030457            0.025381  0.025381    0.833333  32.833333   \n",
      "2              0.025381            0.060914  0.025381    1.000000  16.416667   \n",
      "3              0.025381            0.060914  0.025381    1.000000  16.416667   \n",
      "4              0.060914            0.025381  0.025381    0.416667  16.416667   \n",
      "..                  ...                 ...       ...         ...        ...   \n",
      "273            0.243655            0.182741  0.060914    0.250000   1.368056   \n",
      "274            0.411168            0.182741  0.096447    0.234568   1.283608   \n",
      "275            0.182741            0.411168  0.096447    0.527778   1.283608   \n",
      "276            0.152284            0.131980  0.025381    0.166667   1.262821   \n",
      "277            0.131980            0.152284  0.025381    0.192308   1.262821   \n",
      "\n",
      "     leverage  conviction  antecedent_len  consequente_len  \n",
      "0    0.024608         inf               1                1  \n",
      "1    0.024608    5.847716               1                1  \n",
      "2    0.023835         inf               1                1  \n",
      "3    0.023835         inf               1                1  \n",
      "4    0.023835    1.670776               1                1  \n",
      "..        ...         ...             ...              ...  \n",
      "273  0.016388    1.089679               1                1  \n",
      "274  0.021309    1.067709               1                1  \n",
      "275  0.021309    1.246939               1                1  \n",
      "276  0.005282    1.041624               1                1  \n",
      "277  0.005282    1.049553               1                1  \n",
      "\n",
      "[278 rows x 11 columns]\n"
     ]
    }
   ],
   "source": [
    "df4 = (df3.explode('antecedents')\n",
    "         .reset_index(drop=True)\n",
    "         .explode('consequents')\n",
    "         .reset_index(drop=True))\n",
    "print (df4)"
   ]
  },
  {
   "cell_type": "code",
   "execution_count": 224,
   "metadata": {},
   "outputs": [
    {
     "data": {
      "text/plain": [
       "antecedents            object\n",
       "consequents            object\n",
       "antecedent support    float64\n",
       "consequent support    float64\n",
       "support               float64\n",
       "confidence            float64\n",
       "lift                  float64\n",
       "leverage              float64\n",
       "conviction            float64\n",
       "antecedent_len          int64\n",
       "consequente_len         int64\n",
       "dtype: object"
      ]
     },
     "execution_count": 224,
     "metadata": {},
     "output_type": "execute_result"
    }
   ],
   "source": [
    "df3.dtypes"
   ]
  },
  {
   "cell_type": "code",
   "execution_count": 223,
   "metadata": {},
   "outputs": [],
   "source": [
    "df['antecedents'] = df['antecedents'].astype(str)\n",
    "df['consequents'] = df['consequents'].astype(str)"
   ]
  },
  {
   "attachments": {},
   "cell_type": "markdown",
   "metadata": {},
   "source": [
    "Top 10 BDs Session\n",
    "Presentation of the 10 most frequent BDs (consequents=antecedents)."
   ]
  },
  {
   "cell_type": "code",
   "execution_count": 5,
   "metadata": {},
   "outputs": [
    {
     "data": {
      "text/html": [
       "<div>\n",
       "<style scoped>\n",
       "    .dataframe tbody tr th:only-of-type {\n",
       "        vertical-align: middle;\n",
       "    }\n",
       "\n",
       "    .dataframe tbody tr th {\n",
       "        vertical-align: top;\n",
       "    }\n",
       "\n",
       "    .dataframe thead th {\n",
       "        text-align: right;\n",
       "    }\n",
       "</style>\n",
       "<table border=\"1\" class=\"dataframe\">\n",
       "  <thead>\n",
       "    <tr style=\"text-align: right;\">\n",
       "      <th></th>\n",
       "      <th>antecedents</th>\n",
       "      <th>consequents</th>\n",
       "      <th>antecedent support</th>\n",
       "      <th>consequent support</th>\n",
       "      <th>support</th>\n",
       "      <th>confidence</th>\n",
       "      <th>lift</th>\n",
       "      <th>leverage</th>\n",
       "      <th>conviction</th>\n",
       "      <th>antecedent_len</th>\n",
       "      <th>consequente_len</th>\n",
       "    </tr>\n",
       "  </thead>\n",
       "  <tbody>\n",
       "    <tr>\n",
       "      <th>197</th>\n",
       "      <td>frozenset({'PostgreSQL'})</td>\n",
       "      <td>frozenset({'MySQL'})</td>\n",
       "      <td>0.248731</td>\n",
       "      <td>0.411168</td>\n",
       "      <td>0.223350</td>\n",
       "      <td>0.897959</td>\n",
       "      <td>2.183925</td>\n",
       "      <td>0.121080</td>\n",
       "      <td>5.770558</td>\n",
       "      <td>1</td>\n",
       "      <td>1</td>\n",
       "    </tr>\n",
       "    <tr>\n",
       "      <th>196</th>\n",
       "      <td>frozenset({'MySQL'})</td>\n",
       "      <td>frozenset({'PostgreSQL'})</td>\n",
       "      <td>0.411168</td>\n",
       "      <td>0.248731</td>\n",
       "      <td>0.223350</td>\n",
       "      <td>0.543210</td>\n",
       "      <td>2.183925</td>\n",
       "      <td>0.121080</td>\n",
       "      <td>1.644670</td>\n",
       "      <td>1</td>\n",
       "      <td>1</td>\n",
       "    </tr>\n",
       "    <tr>\n",
       "      <th>240</th>\n",
       "      <td>frozenset({'MySQL'})</td>\n",
       "      <td>frozenset({'H2'})</td>\n",
       "      <td>0.411168</td>\n",
       "      <td>0.243655</td>\n",
       "      <td>0.182741</td>\n",
       "      <td>0.444444</td>\n",
       "      <td>1.824074</td>\n",
       "      <td>0.082558</td>\n",
       "      <td>1.361421</td>\n",
       "      <td>1</td>\n",
       "      <td>1</td>\n",
       "    </tr>\n",
       "    <tr>\n",
       "      <th>241</th>\n",
       "      <td>frozenset({'H2'})</td>\n",
       "      <td>frozenset({'MySQL'})</td>\n",
       "      <td>0.243655</td>\n",
       "      <td>0.411168</td>\n",
       "      <td>0.182741</td>\n",
       "      <td>0.750000</td>\n",
       "      <td>1.824074</td>\n",
       "      <td>0.082558</td>\n",
       "      <td>2.355330</td>\n",
       "      <td>1</td>\n",
       "      <td>1</td>\n",
       "    </tr>\n",
       "    <tr>\n",
       "      <th>211</th>\n",
       "      <td>frozenset({'MySQL'})</td>\n",
       "      <td>frozenset({'Oracle'})</td>\n",
       "      <td>0.411168</td>\n",
       "      <td>0.218274</td>\n",
       "      <td>0.177665</td>\n",
       "      <td>0.432099</td>\n",
       "      <td>1.979615</td>\n",
       "      <td>0.087918</td>\n",
       "      <td>1.376517</td>\n",
       "      <td>1</td>\n",
       "      <td>1</td>\n",
       "    </tr>\n",
       "    <tr>\n",
       "      <th>...</th>\n",
       "      <td>...</td>\n",
       "      <td>...</td>\n",
       "      <td>...</td>\n",
       "      <td>...</td>\n",
       "      <td>...</td>\n",
       "      <td>...</td>\n",
       "      <td>...</td>\n",
       "      <td>...</td>\n",
       "      <td>...</td>\n",
       "      <td>...</td>\n",
       "      <td>...</td>\n",
       "    </tr>\n",
       "    <tr>\n",
       "      <th>96</th>\n",
       "      <td>frozenset({'MariaDB'})</td>\n",
       "      <td>frozenset({'Cassandra'})</td>\n",
       "      <td>0.116751</td>\n",
       "      <td>0.055838</td>\n",
       "      <td>0.025381</td>\n",
       "      <td>0.217391</td>\n",
       "      <td>3.893281</td>\n",
       "      <td>0.018862</td>\n",
       "      <td>1.206430</td>\n",
       "      <td>1</td>\n",
       "      <td>1</td>\n",
       "    </tr>\n",
       "    <tr>\n",
       "      <th>97</th>\n",
       "      <td>frozenset({'Cassandra'})</td>\n",
       "      <td>frozenset({'MariaDB'})</td>\n",
       "      <td>0.055838</td>\n",
       "      <td>0.116751</td>\n",
       "      <td>0.025381</td>\n",
       "      <td>0.454545</td>\n",
       "      <td>3.893281</td>\n",
       "      <td>0.018862</td>\n",
       "      <td>1.619289</td>\n",
       "      <td>1</td>\n",
       "      <td>1</td>\n",
       "    </tr>\n",
       "    <tr>\n",
       "      <th>102</th>\n",
       "      <td>frozenset({'Oracle'})</td>\n",
       "      <td>frozenset({'Informix'})</td>\n",
       "      <td>0.218274</td>\n",
       "      <td>0.030457</td>\n",
       "      <td>0.025381</td>\n",
       "      <td>0.116279</td>\n",
       "      <td>3.817829</td>\n",
       "      <td>0.018733</td>\n",
       "      <td>1.097115</td>\n",
       "      <td>1</td>\n",
       "      <td>1</td>\n",
       "    </tr>\n",
       "    <tr>\n",
       "      <th>103</th>\n",
       "      <td>frozenset({'Informix'})</td>\n",
       "      <td>frozenset({'Oracle'})</td>\n",
       "      <td>0.030457</td>\n",
       "      <td>0.218274</td>\n",
       "      <td>0.025381</td>\n",
       "      <td>0.833333</td>\n",
       "      <td>3.817829</td>\n",
       "      <td>0.018733</td>\n",
       "      <td>4.690355</td>\n",
       "      <td>1</td>\n",
       "      <td>1</td>\n",
       "    </tr>\n",
       "    <tr>\n",
       "      <th>277</th>\n",
       "      <td>frozenset({'MS SQL Server'})</td>\n",
       "      <td>frozenset({'Redis'})</td>\n",
       "      <td>0.131980</td>\n",
       "      <td>0.152284</td>\n",
       "      <td>0.025381</td>\n",
       "      <td>0.192308</td>\n",
       "      <td>1.262821</td>\n",
       "      <td>0.005282</td>\n",
       "      <td>1.049553</td>\n",
       "      <td>1</td>\n",
       "      <td>1</td>\n",
       "    </tr>\n",
       "  </tbody>\n",
       "</table>\n",
       "<p>278 rows × 11 columns</p>\n",
       "</div>"
      ],
      "text/plain": [
       "                      antecedents                consequents  \\\n",
       "197     frozenset({'PostgreSQL'})       frozenset({'MySQL'})   \n",
       "196          frozenset({'MySQL'})  frozenset({'PostgreSQL'})   \n",
       "240          frozenset({'MySQL'})          frozenset({'H2'})   \n",
       "241             frozenset({'H2'})       frozenset({'MySQL'})   \n",
       "211          frozenset({'MySQL'})      frozenset({'Oracle'})   \n",
       "..                            ...                        ...   \n",
       "96         frozenset({'MariaDB'})   frozenset({'Cassandra'})   \n",
       "97       frozenset({'Cassandra'})     frozenset({'MariaDB'})   \n",
       "102         frozenset({'Oracle'})    frozenset({'Informix'})   \n",
       "103       frozenset({'Informix'})      frozenset({'Oracle'})   \n",
       "277  frozenset({'MS SQL Server'})       frozenset({'Redis'})   \n",
       "\n",
       "     antecedent support  consequent support   support  confidence      lift  \\\n",
       "197            0.248731            0.411168  0.223350    0.897959  2.183925   \n",
       "196            0.411168            0.248731  0.223350    0.543210  2.183925   \n",
       "240            0.411168            0.243655  0.182741    0.444444  1.824074   \n",
       "241            0.243655            0.411168  0.182741    0.750000  1.824074   \n",
       "211            0.411168            0.218274  0.177665    0.432099  1.979615   \n",
       "..                  ...                 ...       ...         ...       ...   \n",
       "96             0.116751            0.055838  0.025381    0.217391  3.893281   \n",
       "97             0.055838            0.116751  0.025381    0.454545  3.893281   \n",
       "102            0.218274            0.030457  0.025381    0.116279  3.817829   \n",
       "103            0.030457            0.218274  0.025381    0.833333  3.817829   \n",
       "277            0.131980            0.152284  0.025381    0.192308  1.262821   \n",
       "\n",
       "     leverage  conviction  antecedent_len  consequente_len  \n",
       "197  0.121080    5.770558               1                1  \n",
       "196  0.121080    1.644670               1                1  \n",
       "240  0.082558    1.361421               1                1  \n",
       "241  0.082558    2.355330               1                1  \n",
       "211  0.087918    1.376517               1                1  \n",
       "..        ...         ...             ...              ...  \n",
       "96   0.018862    1.206430               1                1  \n",
       "97   0.018862    1.619289               1                1  \n",
       "102  0.018733    1.097115               1                1  \n",
       "103  0.018733    4.690355               1                1  \n",
       "277  0.005282    1.049553               1                1  \n",
       "\n",
       "[278 rows x 11 columns]"
      ]
     },
     "execution_count": 5,
     "metadata": {},
     "output_type": "execute_result"
    }
   ],
   "source": [
    "rules1b = df2.sort_values(['support',], ascending=[False])\n",
    "rules1b"
   ]
  },
  {
   "cell_type": "code",
   "execution_count": 6,
   "metadata": {},
   "outputs": [
    {
     "data": {
      "text/html": [
       "<div>\n",
       "<style scoped>\n",
       "    .dataframe tbody tr th:only-of-type {\n",
       "        vertical-align: middle;\n",
       "    }\n",
       "\n",
       "    .dataframe tbody tr th {\n",
       "        vertical-align: top;\n",
       "    }\n",
       "\n",
       "    .dataframe thead th {\n",
       "        text-align: right;\n",
       "    }\n",
       "</style>\n",
       "<table border=\"1\" class=\"dataframe\">\n",
       "  <thead>\n",
       "    <tr style=\"text-align: right;\">\n",
       "      <th></th>\n",
       "      <th>antecedent support</th>\n",
       "      <th>consequent support</th>\n",
       "      <th>support</th>\n",
       "      <th>confidence</th>\n",
       "      <th>lift</th>\n",
       "      <th>leverage</th>\n",
       "      <th>conviction</th>\n",
       "      <th>antecedent_len</th>\n",
       "      <th>consequente_len</th>\n",
       "    </tr>\n",
       "    <tr>\n",
       "      <th>antecedents</th>\n",
       "      <th></th>\n",
       "      <th></th>\n",
       "      <th></th>\n",
       "      <th></th>\n",
       "      <th></th>\n",
       "      <th></th>\n",
       "      <th></th>\n",
       "      <th></th>\n",
       "      <th></th>\n",
       "    </tr>\n",
       "  </thead>\n",
       "  <tbody>\n",
       "    <tr>\n",
       "      <th>frozenset({'MySQL'})</th>\n",
       "      <td>0.411168</td>\n",
       "      <td>0.096226</td>\n",
       "      <td>0.076142</td>\n",
       "      <td>0.185185</td>\n",
       "      <td>2.006815</td>\n",
       "      <td>0.036577</td>\n",
       "      <td>1.131984</td>\n",
       "      <td>1</td>\n",
       "      <td>1</td>\n",
       "    </tr>\n",
       "    <tr>\n",
       "      <th>frozenset({'PostgreSQL'})</th>\n",
       "      <td>0.248731</td>\n",
       "      <td>0.106368</td>\n",
       "      <td>0.067144</td>\n",
       "      <td>0.269944</td>\n",
       "      <td>2.836579</td>\n",
       "      <td>0.040686</td>\n",
       "      <td>1.454370</td>\n",
       "      <td>1</td>\n",
       "      <td>1</td>\n",
       "    </tr>\n",
       "    <tr>\n",
       "      <th>frozenset({'H2'})</th>\n",
       "      <td>0.243655</td>\n",
       "      <td>0.114213</td>\n",
       "      <td>0.059898</td>\n",
       "      <td>0.245833</td>\n",
       "      <td>2.545042</td>\n",
       "      <td>0.032070</td>\n",
       "      <td>1.235423</td>\n",
       "      <td>1</td>\n",
       "      <td>1</td>\n",
       "    </tr>\n",
       "    <tr>\n",
       "      <th>frozenset({'Oracle'})</th>\n",
       "      <td>0.218274</td>\n",
       "      <td>0.125709</td>\n",
       "      <td>0.068976</td>\n",
       "      <td>0.316005</td>\n",
       "      <td>3.018079</td>\n",
       "      <td>0.041537</td>\n",
       "      <td>1.438750</td>\n",
       "      <td>1</td>\n",
       "      <td>1</td>\n",
       "    </tr>\n",
       "    <tr>\n",
       "      <th>frozenset({'Ehcache'})</th>\n",
       "      <td>0.182741</td>\n",
       "      <td>0.159898</td>\n",
       "      <td>0.048646</td>\n",
       "      <td>0.266204</td>\n",
       "      <td>1.899812</td>\n",
       "      <td>0.019426</td>\n",
       "      <td>1.158931</td>\n",
       "      <td>1</td>\n",
       "      <td>1</td>\n",
       "    </tr>\n",
       "    <tr>\n",
       "      <th>frozenset({'Redis'})</th>\n",
       "      <td>0.152284</td>\n",
       "      <td>0.131345</td>\n",
       "      <td>0.045368</td>\n",
       "      <td>0.297917</td>\n",
       "      <td>3.112965</td>\n",
       "      <td>0.025366</td>\n",
       "      <td>1.266139</td>\n",
       "      <td>1</td>\n",
       "      <td>1</td>\n",
       "    </tr>\n",
       "    <tr>\n",
       "      <th>frozenset({'MS SQL Server'})</th>\n",
       "      <td>0.131980</td>\n",
       "      <td>0.130785</td>\n",
       "      <td>0.054046</td>\n",
       "      <td>0.409502</td>\n",
       "      <td>4.067144</td>\n",
       "      <td>0.036785</td>\n",
       "      <td>3.469726</td>\n",
       "      <td>1</td>\n",
       "      <td>1</td>\n",
       "    </tr>\n",
       "    <tr>\n",
       "      <th>frozenset({'MariaDB'})</th>\n",
       "      <td>0.116751</td>\n",
       "      <td>0.155910</td>\n",
       "      <td>0.046410</td>\n",
       "      <td>0.397516</td>\n",
       "      <td>2.781077</td>\n",
       "      <td>0.028208</td>\n",
       "      <td>1.829583</td>\n",
       "      <td>1</td>\n",
       "      <td>1</td>\n",
       "    </tr>\n",
       "    <tr>\n",
       "      <th>frozenset({'SQLite'})</th>\n",
       "      <td>0.111675</td>\n",
       "      <td>0.146285</td>\n",
       "      <td>0.043378</td>\n",
       "      <td>0.388430</td>\n",
       "      <td>4.351964</td>\n",
       "      <td>0.027042</td>\n",
       "      <td>1.429399</td>\n",
       "      <td>1</td>\n",
       "      <td>1</td>\n",
       "    </tr>\n",
       "    <tr>\n",
       "      <th>frozenset({'Elasticsearch'})</th>\n",
       "      <td>0.101523</td>\n",
       "      <td>0.147933</td>\n",
       "      <td>0.038434</td>\n",
       "      <td>0.378571</td>\n",
       "      <td>3.596818</td>\n",
       "      <td>0.023415</td>\n",
       "      <td>1.398659</td>\n",
       "      <td>1</td>\n",
       "      <td>1</td>\n",
       "    </tr>\n",
       "    <tr>\n",
       "      <th>frozenset({'MongoDB'})</th>\n",
       "      <td>0.101523</td>\n",
       "      <td>0.166244</td>\n",
       "      <td>0.039763</td>\n",
       "      <td>0.391667</td>\n",
       "      <td>2.985432</td>\n",
       "      <td>0.022886</td>\n",
       "      <td>1.441378</td>\n",
       "      <td>1</td>\n",
       "      <td>1</td>\n",
       "    </tr>\n",
       "    <tr>\n",
       "      <th>frozenset({'IBM DB2'})</th>\n",
       "      <td>0.096447</td>\n",
       "      <td>0.146818</td>\n",
       "      <td>0.051933</td>\n",
       "      <td>0.538462</td>\n",
       "      <td>5.276676</td>\n",
       "      <td>0.037773</td>\n",
       "      <td>3.542034</td>\n",
       "      <td>1</td>\n",
       "      <td>1</td>\n",
       "    </tr>\n",
       "    <tr>\n",
       "      <th>frozenset({'Google Cloud Datastore'})</th>\n",
       "      <td>0.071066</td>\n",
       "      <td>0.263959</td>\n",
       "      <td>0.030457</td>\n",
       "      <td>0.428571</td>\n",
       "      <td>1.732449</td>\n",
       "      <td>0.011698</td>\n",
       "      <td>1.296214</td>\n",
       "      <td>1</td>\n",
       "      <td>1</td>\n",
       "    </tr>\n",
       "  </tbody>\n",
       "</table>\n",
       "</div>"
      ],
      "text/plain": [
       "                                       antecedent support  consequent support  \\\n",
       "antecedents                                                                     \n",
       "frozenset({'MySQL'})                             0.411168            0.096226   \n",
       "frozenset({'PostgreSQL'})                        0.248731            0.106368   \n",
       "frozenset({'H2'})                                0.243655            0.114213   \n",
       "frozenset({'Oracle'})                            0.218274            0.125709   \n",
       "frozenset({'Ehcache'})                           0.182741            0.159898   \n",
       "frozenset({'Redis'})                             0.152284            0.131345   \n",
       "frozenset({'MS SQL Server'})                     0.131980            0.130785   \n",
       "frozenset({'MariaDB'})                           0.116751            0.155910   \n",
       "frozenset({'SQLite'})                            0.111675            0.146285   \n",
       "frozenset({'Elasticsearch'})                     0.101523            0.147933   \n",
       "frozenset({'MongoDB'})                           0.101523            0.166244   \n",
       "frozenset({'IBM DB2'})                           0.096447            0.146818   \n",
       "frozenset({'Google Cloud Datastore'})            0.071066            0.263959   \n",
       "\n",
       "                                        support  confidence      lift  \\\n",
       "antecedents                                                             \n",
       "frozenset({'MySQL'})                   0.076142    0.185185  2.006815   \n",
       "frozenset({'PostgreSQL'})              0.067144    0.269944  2.836579   \n",
       "frozenset({'H2'})                      0.059898    0.245833  2.545042   \n",
       "frozenset({'Oracle'})                  0.068976    0.316005  3.018079   \n",
       "frozenset({'Ehcache'})                 0.048646    0.266204  1.899812   \n",
       "frozenset({'Redis'})                   0.045368    0.297917  3.112965   \n",
       "frozenset({'MS SQL Server'})           0.054046    0.409502  4.067144   \n",
       "frozenset({'MariaDB'})                 0.046410    0.397516  2.781077   \n",
       "frozenset({'SQLite'})                  0.043378    0.388430  4.351964   \n",
       "frozenset({'Elasticsearch'})           0.038434    0.378571  3.596818   \n",
       "frozenset({'MongoDB'})                 0.039763    0.391667  2.985432   \n",
       "frozenset({'IBM DB2'})                 0.051933    0.538462  5.276676   \n",
       "frozenset({'Google Cloud Datastore'})  0.030457    0.428571  1.732449   \n",
       "\n",
       "                                       leverage  conviction  antecedent_len  \\\n",
       "antecedents                                                                   \n",
       "frozenset({'MySQL'})                   0.036577    1.131984               1   \n",
       "frozenset({'PostgreSQL'})              0.040686    1.454370               1   \n",
       "frozenset({'H2'})                      0.032070    1.235423               1   \n",
       "frozenset({'Oracle'})                  0.041537    1.438750               1   \n",
       "frozenset({'Ehcache'})                 0.019426    1.158931               1   \n",
       "frozenset({'Redis'})                   0.025366    1.266139               1   \n",
       "frozenset({'MS SQL Server'})           0.036785    3.469726               1   \n",
       "frozenset({'MariaDB'})                 0.028208    1.829583               1   \n",
       "frozenset({'SQLite'})                  0.027042    1.429399               1   \n",
       "frozenset({'Elasticsearch'})           0.023415    1.398659               1   \n",
       "frozenset({'MongoDB'})                 0.022886    1.441378               1   \n",
       "frozenset({'IBM DB2'})                 0.037773    3.542034               1   \n",
       "frozenset({'Google Cloud Datastore'})  0.011698    1.296214               1   \n",
       "\n",
       "                                       consequente_len  \n",
       "antecedents                                             \n",
       "frozenset({'MySQL'})                                 1  \n",
       "frozenset({'PostgreSQL'})                            1  \n",
       "frozenset({'H2'})                                    1  \n",
       "frozenset({'Oracle'})                                1  \n",
       "frozenset({'Ehcache'})                               1  \n",
       "frozenset({'Redis'})                                 1  \n",
       "frozenset({'MS SQL Server'})                         1  \n",
       "frozenset({'MariaDB'})                               1  \n",
       "frozenset({'SQLite'})                                1  \n",
       "frozenset({'Elasticsearch'})                         1  \n",
       "frozenset({'MongoDB'})                               1  \n",
       "frozenset({'IBM DB2'})                               1  \n",
       "frozenset({'Google Cloud Datastore'})                1  "
      ]
     },
     "execution_count": 6,
     "metadata": {},
     "output_type": "execute_result"
    }
   ],
   "source": [
    "rules1a = df2[(df2['antecedent support'] >= 0.07)] #& (df['confidence'] > 0.7) ]\n",
    "#rules2 = rules2.sort_values(['consequent support','support'], ascending=[False,False])\n",
    "rules1a = rules1a.groupby('antecedents').mean().sort_values(['antecedent support',], ascending=[False])\n",
    "rules1a"
   ]
  },
  {
   "attachments": {},
   "cell_type": "markdown",
   "metadata": {},
   "source": [
    "Top 10 BDs Session\n",
    "Presentation of the 10 most frequent BDs (consequents=antecedents)."
   ]
  },
  {
   "cell_type": "code",
   "execution_count": 7,
   "metadata": {},
   "outputs": [
    {
     "data": {
      "text/html": [
       "<div>\n",
       "<style scoped>\n",
       "    .dataframe tbody tr th:only-of-type {\n",
       "        vertical-align: middle;\n",
       "    }\n",
       "\n",
       "    .dataframe tbody tr th {\n",
       "        vertical-align: top;\n",
       "    }\n",
       "\n",
       "    .dataframe thead th {\n",
       "        text-align: right;\n",
       "    }\n",
       "</style>\n",
       "<table border=\"1\" class=\"dataframe\">\n",
       "  <thead>\n",
       "    <tr style=\"text-align: right;\">\n",
       "      <th></th>\n",
       "      <th>antecedent support</th>\n",
       "      <th>consequent support</th>\n",
       "      <th>support</th>\n",
       "      <th>confidence</th>\n",
       "      <th>lift</th>\n",
       "      <th>leverage</th>\n",
       "      <th>conviction</th>\n",
       "      <th>antecedent_len</th>\n",
       "      <th>consequente_len</th>\n",
       "    </tr>\n",
       "    <tr>\n",
       "      <th>consequents</th>\n",
       "      <th></th>\n",
       "      <th></th>\n",
       "      <th></th>\n",
       "      <th></th>\n",
       "      <th></th>\n",
       "      <th></th>\n",
       "      <th></th>\n",
       "      <th></th>\n",
       "      <th></th>\n",
       "    </tr>\n",
       "  </thead>\n",
       "  <tbody>\n",
       "    <tr>\n",
       "      <th>frozenset({'MySQL'})</th>\n",
       "      <td>0.096226</td>\n",
       "      <td>0.411168</td>\n",
       "      <td>0.076142</td>\n",
       "      <td>0.825137</td>\n",
       "      <td>2.006815</td>\n",
       "      <td>0.036577</td>\n",
       "      <td>inf</td>\n",
       "      <td>1</td>\n",
       "      <td>1</td>\n",
       "    </tr>\n",
       "    <tr>\n",
       "      <th>frozenset({'PostgreSQL'})</th>\n",
       "      <td>0.106368</td>\n",
       "      <td>0.248731</td>\n",
       "      <td>0.067144</td>\n",
       "      <td>0.705545</td>\n",
       "      <td>2.836579</td>\n",
       "      <td>0.040686</td>\n",
       "      <td>inf</td>\n",
       "      <td>1</td>\n",
       "      <td>1</td>\n",
       "    </tr>\n",
       "    <tr>\n",
       "      <th>frozenset({'H2'})</th>\n",
       "      <td>0.114213</td>\n",
       "      <td>0.243655</td>\n",
       "      <td>0.059898</td>\n",
       "      <td>0.620112</td>\n",
       "      <td>2.545042</td>\n",
       "      <td>0.032070</td>\n",
       "      <td>inf</td>\n",
       "      <td>1</td>\n",
       "      <td>1</td>\n",
       "    </tr>\n",
       "    <tr>\n",
       "      <th>frozenset({'Oracle'})</th>\n",
       "      <td>0.125709</td>\n",
       "      <td>0.218274</td>\n",
       "      <td>0.068976</td>\n",
       "      <td>0.658769</td>\n",
       "      <td>3.018079</td>\n",
       "      <td>0.041537</td>\n",
       "      <td>inf</td>\n",
       "      <td>1</td>\n",
       "      <td>1</td>\n",
       "    </tr>\n",
       "    <tr>\n",
       "      <th>frozenset({'Ehcache'})</th>\n",
       "      <td>0.159898</td>\n",
       "      <td>0.182741</td>\n",
       "      <td>0.048646</td>\n",
       "      <td>0.347174</td>\n",
       "      <td>1.899812</td>\n",
       "      <td>0.019426</td>\n",
       "      <td>1.336165</td>\n",
       "      <td>1</td>\n",
       "      <td>1</td>\n",
       "    </tr>\n",
       "    <tr>\n",
       "      <th>frozenset({'Redis'})</th>\n",
       "      <td>0.131345</td>\n",
       "      <td>0.152284</td>\n",
       "      <td>0.045368</td>\n",
       "      <td>0.474056</td>\n",
       "      <td>3.112965</td>\n",
       "      <td>0.025366</td>\n",
       "      <td>2.155223</td>\n",
       "      <td>1</td>\n",
       "      <td>1</td>\n",
       "    </tr>\n",
       "    <tr>\n",
       "      <th>frozenset({'MS SQL Server'})</th>\n",
       "      <td>0.130785</td>\n",
       "      <td>0.131980</td>\n",
       "      <td>0.054046</td>\n",
       "      <td>0.536780</td>\n",
       "      <td>4.067144</td>\n",
       "      <td>0.036785</td>\n",
       "      <td>inf</td>\n",
       "      <td>1</td>\n",
       "      <td>1</td>\n",
       "    </tr>\n",
       "  </tbody>\n",
       "</table>\n",
       "</div>"
      ],
      "text/plain": [
       "                              antecedent support  consequent support  \\\n",
       "consequents                                                            \n",
       "frozenset({'MySQL'})                    0.096226            0.411168   \n",
       "frozenset({'PostgreSQL'})               0.106368            0.248731   \n",
       "frozenset({'H2'})                       0.114213            0.243655   \n",
       "frozenset({'Oracle'})                   0.125709            0.218274   \n",
       "frozenset({'Ehcache'})                  0.159898            0.182741   \n",
       "frozenset({'Redis'})                    0.131345            0.152284   \n",
       "frozenset({'MS SQL Server'})            0.130785            0.131980   \n",
       "\n",
       "                               support  confidence      lift  leverage  \\\n",
       "consequents                                                              \n",
       "frozenset({'MySQL'})          0.076142    0.825137  2.006815  0.036577   \n",
       "frozenset({'PostgreSQL'})     0.067144    0.705545  2.836579  0.040686   \n",
       "frozenset({'H2'})             0.059898    0.620112  2.545042  0.032070   \n",
       "frozenset({'Oracle'})         0.068976    0.658769  3.018079  0.041537   \n",
       "frozenset({'Ehcache'})        0.048646    0.347174  1.899812  0.019426   \n",
       "frozenset({'Redis'})          0.045368    0.474056  3.112965  0.025366   \n",
       "frozenset({'MS SQL Server'})  0.054046    0.536780  4.067144  0.036785   \n",
       "\n",
       "                              conviction  antecedent_len  consequente_len  \n",
       "consequents                                                                \n",
       "frozenset({'MySQL'})                 inf               1                1  \n",
       "frozenset({'PostgreSQL'})            inf               1                1  \n",
       "frozenset({'H2'})                    inf               1                1  \n",
       "frozenset({'Oracle'})                inf               1                1  \n",
       "frozenset({'Ehcache'})          1.336165               1                1  \n",
       "frozenset({'Redis'})            2.155223               1                1  \n",
       "frozenset({'MS SQL Server'})         inf               1                1  "
      ]
     },
     "execution_count": 7,
     "metadata": {},
     "output_type": "execute_result"
    }
   ],
   "source": [
    "rules1 = df2[(df2['consequent support'] >= 0.13)] #0.07)] #& (df['confidence'] > 0.7) ]\n",
    "#rules2 = rules2.sort_values(['consequent support','support'], ascending=[False,False])\n",
    "rules1 = rules1.groupby('consequents').mean().sort_values(['consequent support',], ascending=[False])\n",
    "rules1"
   ]
  },
  {
   "cell_type": "code",
   "execution_count": 195,
   "metadata": {},
   "outputs": [
    {
     "data": {
      "text/html": [
       "<div>\n",
       "<style scoped>\n",
       "    .dataframe tbody tr th:only-of-type {\n",
       "        vertical-align: middle;\n",
       "    }\n",
       "\n",
       "    .dataframe tbody tr th {\n",
       "        vertical-align: top;\n",
       "    }\n",
       "\n",
       "    .dataframe thead th {\n",
       "        text-align: right;\n",
       "    }\n",
       "</style>\n",
       "<table border=\"1\" class=\"dataframe\">\n",
       "  <thead>\n",
       "    <tr style=\"text-align: right;\">\n",
       "      <th></th>\n",
       "      <th></th>\n",
       "      <th>antecedent support</th>\n",
       "      <th>consequent support</th>\n",
       "      <th>support</th>\n",
       "      <th>confidence</th>\n",
       "      <th>lift</th>\n",
       "      <th>leverage</th>\n",
       "      <th>conviction</th>\n",
       "      <th>antecedent_len</th>\n",
       "      <th>consequente_len</th>\n",
       "    </tr>\n",
       "    <tr>\n",
       "      <th>antecedents</th>\n",
       "      <th>consequents</th>\n",
       "      <th></th>\n",
       "      <th></th>\n",
       "      <th></th>\n",
       "      <th></th>\n",
       "      <th></th>\n",
       "      <th></th>\n",
       "      <th></th>\n",
       "      <th></th>\n",
       "      <th></th>\n",
       "    </tr>\n",
       "  </thead>\n",
       "  <tbody>\n",
       "    <tr>\n",
       "      <th>frozenset({'MySQL'})</th>\n",
       "      <th>frozenset({'PostgreSQL'})</th>\n",
       "      <td>0.411168</td>\n",
       "      <td>0.248731</td>\n",
       "      <td>0.223350</td>\n",
       "      <td>0.543210</td>\n",
       "      <td>2.183925</td>\n",
       "      <td>0.121080</td>\n",
       "      <td>1.644670</td>\n",
       "      <td>1</td>\n",
       "      <td>1</td>\n",
       "    </tr>\n",
       "    <tr>\n",
       "      <th>frozenset({'PostgreSQL'})</th>\n",
       "      <th>frozenset({'MySQL'})</th>\n",
       "      <td>0.248731</td>\n",
       "      <td>0.411168</td>\n",
       "      <td>0.223350</td>\n",
       "      <td>0.897959</td>\n",
       "      <td>2.183925</td>\n",
       "      <td>0.121080</td>\n",
       "      <td>5.770558</td>\n",
       "      <td>1</td>\n",
       "      <td>1</td>\n",
       "    </tr>\n",
       "    <tr>\n",
       "      <th>frozenset({'MySQL'})</th>\n",
       "      <th>frozenset({'H2'})</th>\n",
       "      <td>0.411168</td>\n",
       "      <td>0.243655</td>\n",
       "      <td>0.182741</td>\n",
       "      <td>0.444444</td>\n",
       "      <td>1.824074</td>\n",
       "      <td>0.082558</td>\n",
       "      <td>1.361421</td>\n",
       "      <td>1</td>\n",
       "      <td>1</td>\n",
       "    </tr>\n",
       "    <tr>\n",
       "      <th>frozenset({'H2'})</th>\n",
       "      <th>frozenset({'MySQL'})</th>\n",
       "      <td>0.243655</td>\n",
       "      <td>0.411168</td>\n",
       "      <td>0.182741</td>\n",
       "      <td>0.750000</td>\n",
       "      <td>1.824074</td>\n",
       "      <td>0.082558</td>\n",
       "      <td>2.355330</td>\n",
       "      <td>1</td>\n",
       "      <td>1</td>\n",
       "    </tr>\n",
       "    <tr>\n",
       "      <th>frozenset({'Oracle'})</th>\n",
       "      <th>frozenset({'MySQL'})</th>\n",
       "      <td>0.218274</td>\n",
       "      <td>0.411168</td>\n",
       "      <td>0.177665</td>\n",
       "      <td>0.813953</td>\n",
       "      <td>1.979615</td>\n",
       "      <td>0.087918</td>\n",
       "      <td>3.164975</td>\n",
       "      <td>1</td>\n",
       "      <td>1</td>\n",
       "    </tr>\n",
       "    <tr>\n",
       "      <th>...</th>\n",
       "      <th>...</th>\n",
       "      <td>...</td>\n",
       "      <td>...</td>\n",
       "      <td>...</td>\n",
       "      <td>...</td>\n",
       "      <td>...</td>\n",
       "      <td>...</td>\n",
       "      <td>...</td>\n",
       "      <td>...</td>\n",
       "      <td>...</td>\n",
       "    </tr>\n",
       "    <tr>\n",
       "      <th rowspan=\"2\" valign=\"top\">frozenset({'Informix'})</th>\n",
       "      <th>frozenset({'PostgreSQL'})</th>\n",
       "      <td>0.030457</td>\n",
       "      <td>0.248731</td>\n",
       "      <td>0.025381</td>\n",
       "      <td>0.833333</td>\n",
       "      <td>3.350340</td>\n",
       "      <td>0.017805</td>\n",
       "      <td>4.507614</td>\n",
       "      <td>1</td>\n",
       "      <td>1</td>\n",
       "    </tr>\n",
       "    <tr>\n",
       "      <th>frozenset({'SQLite'})</th>\n",
       "      <td>0.030457</td>\n",
       "      <td>0.111675</td>\n",
       "      <td>0.025381</td>\n",
       "      <td>0.833333</td>\n",
       "      <td>7.462121</td>\n",
       "      <td>0.021979</td>\n",
       "      <td>5.329949</td>\n",
       "      <td>1</td>\n",
       "      <td>1</td>\n",
       "    </tr>\n",
       "    <tr>\n",
       "      <th>frozenset({'MS Access'})</th>\n",
       "      <th>frozenset({'H2'})</th>\n",
       "      <td>0.030457</td>\n",
       "      <td>0.243655</td>\n",
       "      <td>0.025381</td>\n",
       "      <td>0.833333</td>\n",
       "      <td>3.420139</td>\n",
       "      <td>0.017960</td>\n",
       "      <td>4.538071</td>\n",
       "      <td>1</td>\n",
       "      <td>1</td>\n",
       "    </tr>\n",
       "    <tr>\n",
       "      <th>frozenset({'MS SQL Server'})</th>\n",
       "      <th>frozenset({'HBase'})</th>\n",
       "      <td>0.131980</td>\n",
       "      <td>0.065990</td>\n",
       "      <td>0.025381</td>\n",
       "      <td>0.192308</td>\n",
       "      <td>2.914201</td>\n",
       "      <td>0.016671</td>\n",
       "      <td>1.156394</td>\n",
       "      <td>1</td>\n",
       "      <td>1</td>\n",
       "    </tr>\n",
       "    <tr>\n",
       "      <th>frozenset({'MariaDB'})</th>\n",
       "      <th>frozenset({'HBase'})</th>\n",
       "      <td>0.116751</td>\n",
       "      <td>0.065990</td>\n",
       "      <td>0.025381</td>\n",
       "      <td>0.217391</td>\n",
       "      <td>3.294314</td>\n",
       "      <td>0.017676</td>\n",
       "      <td>1.193457</td>\n",
       "      <td>1</td>\n",
       "      <td>1</td>\n",
       "    </tr>\n",
       "  </tbody>\n",
       "</table>\n",
       "<p>235 rows × 9 columns</p>\n",
       "</div>"
      ],
      "text/plain": [
       "                                                        antecedent support  \\\n",
       "antecedents                  consequents                                     \n",
       "frozenset({'MySQL'})         frozenset({'PostgreSQL'})            0.411168   \n",
       "frozenset({'PostgreSQL'})    frozenset({'MySQL'})                 0.248731   \n",
       "frozenset({'MySQL'})         frozenset({'H2'})                    0.411168   \n",
       "frozenset({'H2'})            frozenset({'MySQL'})                 0.243655   \n",
       "frozenset({'Oracle'})        frozenset({'MySQL'})                 0.218274   \n",
       "...                                                                    ...   \n",
       "frozenset({'Informix'})      frozenset({'PostgreSQL'})            0.030457   \n",
       "                             frozenset({'SQLite'})                0.030457   \n",
       "frozenset({'MS Access'})     frozenset({'H2'})                    0.030457   \n",
       "frozenset({'MS SQL Server'}) frozenset({'HBase'})                 0.131980   \n",
       "frozenset({'MariaDB'})       frozenset({'HBase'})                 0.116751   \n",
       "\n",
       "                                                        consequent support  \\\n",
       "antecedents                  consequents                                     \n",
       "frozenset({'MySQL'})         frozenset({'PostgreSQL'})            0.248731   \n",
       "frozenset({'PostgreSQL'})    frozenset({'MySQL'})                 0.411168   \n",
       "frozenset({'MySQL'})         frozenset({'H2'})                    0.243655   \n",
       "frozenset({'H2'})            frozenset({'MySQL'})                 0.411168   \n",
       "frozenset({'Oracle'})        frozenset({'MySQL'})                 0.411168   \n",
       "...                                                                    ...   \n",
       "frozenset({'Informix'})      frozenset({'PostgreSQL'})            0.248731   \n",
       "                             frozenset({'SQLite'})                0.111675   \n",
       "frozenset({'MS Access'})     frozenset({'H2'})                    0.243655   \n",
       "frozenset({'MS SQL Server'}) frozenset({'HBase'})                 0.065990   \n",
       "frozenset({'MariaDB'})       frozenset({'HBase'})                 0.065990   \n",
       "\n",
       "                                                         support  confidence  \\\n",
       "antecedents                  consequents                                       \n",
       "frozenset({'MySQL'})         frozenset({'PostgreSQL'})  0.223350    0.543210   \n",
       "frozenset({'PostgreSQL'})    frozenset({'MySQL'})       0.223350    0.897959   \n",
       "frozenset({'MySQL'})         frozenset({'H2'})          0.182741    0.444444   \n",
       "frozenset({'H2'})            frozenset({'MySQL'})       0.182741    0.750000   \n",
       "frozenset({'Oracle'})        frozenset({'MySQL'})       0.177665    0.813953   \n",
       "...                                                          ...         ...   \n",
       "frozenset({'Informix'})      frozenset({'PostgreSQL'})  0.025381    0.833333   \n",
       "                             frozenset({'SQLite'})      0.025381    0.833333   \n",
       "frozenset({'MS Access'})     frozenset({'H2'})          0.025381    0.833333   \n",
       "frozenset({'MS SQL Server'}) frozenset({'HBase'})       0.025381    0.192308   \n",
       "frozenset({'MariaDB'})       frozenset({'HBase'})       0.025381    0.217391   \n",
       "\n",
       "                                                            lift  leverage  \\\n",
       "antecedents                  consequents                                     \n",
       "frozenset({'MySQL'})         frozenset({'PostgreSQL'})  2.183925  0.121080   \n",
       "frozenset({'PostgreSQL'})    frozenset({'MySQL'})       2.183925  0.121080   \n",
       "frozenset({'MySQL'})         frozenset({'H2'})          1.824074  0.082558   \n",
       "frozenset({'H2'})            frozenset({'MySQL'})       1.824074  0.082558   \n",
       "frozenset({'Oracle'})        frozenset({'MySQL'})       1.979615  0.087918   \n",
       "...                                                          ...       ...   \n",
       "frozenset({'Informix'})      frozenset({'PostgreSQL'})  3.350340  0.017805   \n",
       "                             frozenset({'SQLite'})      7.462121  0.021979   \n",
       "frozenset({'MS Access'})     frozenset({'H2'})          3.420139  0.017960   \n",
       "frozenset({'MS SQL Server'}) frozenset({'HBase'})       2.914201  0.016671   \n",
       "frozenset({'MariaDB'})       frozenset({'HBase'})       3.294314  0.017676   \n",
       "\n",
       "                                                        conviction  \\\n",
       "antecedents                  consequents                             \n",
       "frozenset({'MySQL'})         frozenset({'PostgreSQL'})    1.644670   \n",
       "frozenset({'PostgreSQL'})    frozenset({'MySQL'})         5.770558   \n",
       "frozenset({'MySQL'})         frozenset({'H2'})            1.361421   \n",
       "frozenset({'H2'})            frozenset({'MySQL'})         2.355330   \n",
       "frozenset({'Oracle'})        frozenset({'MySQL'})         3.164975   \n",
       "...                                                            ...   \n",
       "frozenset({'Informix'})      frozenset({'PostgreSQL'})    4.507614   \n",
       "                             frozenset({'SQLite'})        5.329949   \n",
       "frozenset({'MS Access'})     frozenset({'H2'})            4.538071   \n",
       "frozenset({'MS SQL Server'}) frozenset({'HBase'})         1.156394   \n",
       "frozenset({'MariaDB'})       frozenset({'HBase'})         1.193457   \n",
       "\n",
       "                                                        antecedent_len  \\\n",
       "antecedents                  consequents                                 \n",
       "frozenset({'MySQL'})         frozenset({'PostgreSQL'})               1   \n",
       "frozenset({'PostgreSQL'})    frozenset({'MySQL'})                    1   \n",
       "frozenset({'MySQL'})         frozenset({'H2'})                       1   \n",
       "frozenset({'H2'})            frozenset({'MySQL'})                    1   \n",
       "frozenset({'Oracle'})        frozenset({'MySQL'})                    1   \n",
       "...                                                                ...   \n",
       "frozenset({'Informix'})      frozenset({'PostgreSQL'})               1   \n",
       "                             frozenset({'SQLite'})                   1   \n",
       "frozenset({'MS Access'})     frozenset({'H2'})                       1   \n",
       "frozenset({'MS SQL Server'}) frozenset({'HBase'})                    1   \n",
       "frozenset({'MariaDB'})       frozenset({'HBase'})                    1   \n",
       "\n",
       "                                                        consequente_len  \n",
       "antecedents                  consequents                                 \n",
       "frozenset({'MySQL'})         frozenset({'PostgreSQL'})                1  \n",
       "frozenset({'PostgreSQL'})    frozenset({'MySQL'})                     1  \n",
       "frozenset({'MySQL'})         frozenset({'H2'})                        1  \n",
       "frozenset({'H2'})            frozenset({'MySQL'})                     1  \n",
       "frozenset({'Oracle'})        frozenset({'MySQL'})                     1  \n",
       "...                                                                 ...  \n",
       "frozenset({'Informix'})      frozenset({'PostgreSQL'})                1  \n",
       "                             frozenset({'SQLite'})                    1  \n",
       "frozenset({'MS Access'})     frozenset({'H2'})                        1  \n",
       "frozenset({'MS SQL Server'}) frozenset({'HBase'})                     1  \n",
       "frozenset({'MariaDB'})       frozenset({'HBase'})                     1  \n",
       "\n",
       "[235 rows x 9 columns]"
      ]
     },
     "execution_count": 195,
     "metadata": {},
     "output_type": "execute_result"
    }
   ],
   "source": [
    "rules1c = df2.groupby(['antecedents','consequents']).sum().sort_values(['support'], ascending=[False]).drop_duplicates()\n",
    "\n",
    "#sum().plot(kind='line')\n",
    "\n",
    "#rules1c = rules1c[(rules1c['support'] >= 0.07)] \n",
    "rules1c"
   ]
  },
  {
   "cell_type": "code",
   "execution_count": 196,
   "metadata": {},
   "outputs": [
    {
     "data": {
      "text/html": [
       "<div>\n",
       "<style scoped>\n",
       "    .dataframe tbody tr th:only-of-type {\n",
       "        vertical-align: middle;\n",
       "    }\n",
       "\n",
       "    .dataframe tbody tr th {\n",
       "        vertical-align: top;\n",
       "    }\n",
       "\n",
       "    .dataframe thead th {\n",
       "        text-align: right;\n",
       "    }\n",
       "</style>\n",
       "<table border=\"1\" class=\"dataframe\">\n",
       "  <thead>\n",
       "    <tr style=\"text-align: right;\">\n",
       "      <th></th>\n",
       "      <th>antecedents</th>\n",
       "      <th>consequents</th>\n",
       "      <th>antecedent support</th>\n",
       "      <th>consequent support</th>\n",
       "      <th>support</th>\n",
       "      <th>confidence</th>\n",
       "      <th>lift</th>\n",
       "      <th>leverage</th>\n",
       "      <th>conviction</th>\n",
       "      <th>antecedent_len</th>\n",
       "      <th>consequente_len</th>\n",
       "    </tr>\n",
       "  </thead>\n",
       "  <tbody>\n",
       "    <tr>\n",
       "      <th>0</th>\n",
       "      <td>frozenset({'MySQL'})</td>\n",
       "      <td>frozenset({'PostgreSQL'})</td>\n",
       "      <td>0.411168</td>\n",
       "      <td>0.248731</td>\n",
       "      <td>0.223350</td>\n",
       "      <td>0.543210</td>\n",
       "      <td>2.183925</td>\n",
       "      <td>0.121080</td>\n",
       "      <td>1.644670</td>\n",
       "      <td>1</td>\n",
       "      <td>1</td>\n",
       "    </tr>\n",
       "    <tr>\n",
       "      <th>1</th>\n",
       "      <td>frozenset({'PostgreSQL'})</td>\n",
       "      <td>frozenset({'MySQL'})</td>\n",
       "      <td>0.248731</td>\n",
       "      <td>0.411168</td>\n",
       "      <td>0.223350</td>\n",
       "      <td>0.897959</td>\n",
       "      <td>2.183925</td>\n",
       "      <td>0.121080</td>\n",
       "      <td>5.770558</td>\n",
       "      <td>1</td>\n",
       "      <td>1</td>\n",
       "    </tr>\n",
       "    <tr>\n",
       "      <th>2</th>\n",
       "      <td>frozenset({'MySQL'})</td>\n",
       "      <td>frozenset({'H2'})</td>\n",
       "      <td>0.411168</td>\n",
       "      <td>0.243655</td>\n",
       "      <td>0.182741</td>\n",
       "      <td>0.444444</td>\n",
       "      <td>1.824074</td>\n",
       "      <td>0.082558</td>\n",
       "      <td>1.361421</td>\n",
       "      <td>1</td>\n",
       "      <td>1</td>\n",
       "    </tr>\n",
       "    <tr>\n",
       "      <th>3</th>\n",
       "      <td>frozenset({'H2'})</td>\n",
       "      <td>frozenset({'MySQL'})</td>\n",
       "      <td>0.243655</td>\n",
       "      <td>0.411168</td>\n",
       "      <td>0.182741</td>\n",
       "      <td>0.750000</td>\n",
       "      <td>1.824074</td>\n",
       "      <td>0.082558</td>\n",
       "      <td>2.355330</td>\n",
       "      <td>1</td>\n",
       "      <td>1</td>\n",
       "    </tr>\n",
       "    <tr>\n",
       "      <th>4</th>\n",
       "      <td>frozenset({'Oracle'})</td>\n",
       "      <td>frozenset({'MySQL'})</td>\n",
       "      <td>0.218274</td>\n",
       "      <td>0.411168</td>\n",
       "      <td>0.177665</td>\n",
       "      <td>0.813953</td>\n",
       "      <td>1.979615</td>\n",
       "      <td>0.087918</td>\n",
       "      <td>3.164975</td>\n",
       "      <td>1</td>\n",
       "      <td>1</td>\n",
       "    </tr>\n",
       "    <tr>\n",
       "      <th>...</th>\n",
       "      <td>...</td>\n",
       "      <td>...</td>\n",
       "      <td>...</td>\n",
       "      <td>...</td>\n",
       "      <td>...</td>\n",
       "      <td>...</td>\n",
       "      <td>...</td>\n",
       "      <td>...</td>\n",
       "      <td>...</td>\n",
       "      <td>...</td>\n",
       "      <td>...</td>\n",
       "    </tr>\n",
       "    <tr>\n",
       "      <th>230</th>\n",
       "      <td>frozenset({'Informix'})</td>\n",
       "      <td>frozenset({'PostgreSQL'})</td>\n",
       "      <td>0.030457</td>\n",
       "      <td>0.248731</td>\n",
       "      <td>0.025381</td>\n",
       "      <td>0.833333</td>\n",
       "      <td>3.350340</td>\n",
       "      <td>0.017805</td>\n",
       "      <td>4.507614</td>\n",
       "      <td>1</td>\n",
       "      <td>1</td>\n",
       "    </tr>\n",
       "    <tr>\n",
       "      <th>231</th>\n",
       "      <td>frozenset({'Informix'})</td>\n",
       "      <td>frozenset({'SQLite'})</td>\n",
       "      <td>0.030457</td>\n",
       "      <td>0.111675</td>\n",
       "      <td>0.025381</td>\n",
       "      <td>0.833333</td>\n",
       "      <td>7.462121</td>\n",
       "      <td>0.021979</td>\n",
       "      <td>5.329949</td>\n",
       "      <td>1</td>\n",
       "      <td>1</td>\n",
       "    </tr>\n",
       "    <tr>\n",
       "      <th>232</th>\n",
       "      <td>frozenset({'MS Access'})</td>\n",
       "      <td>frozenset({'H2'})</td>\n",
       "      <td>0.030457</td>\n",
       "      <td>0.243655</td>\n",
       "      <td>0.025381</td>\n",
       "      <td>0.833333</td>\n",
       "      <td>3.420139</td>\n",
       "      <td>0.017960</td>\n",
       "      <td>4.538071</td>\n",
       "      <td>1</td>\n",
       "      <td>1</td>\n",
       "    </tr>\n",
       "    <tr>\n",
       "      <th>233</th>\n",
       "      <td>frozenset({'MS SQL Server'})</td>\n",
       "      <td>frozenset({'HBase'})</td>\n",
       "      <td>0.131980</td>\n",
       "      <td>0.065990</td>\n",
       "      <td>0.025381</td>\n",
       "      <td>0.192308</td>\n",
       "      <td>2.914201</td>\n",
       "      <td>0.016671</td>\n",
       "      <td>1.156394</td>\n",
       "      <td>1</td>\n",
       "      <td>1</td>\n",
       "    </tr>\n",
       "    <tr>\n",
       "      <th>234</th>\n",
       "      <td>frozenset({'MariaDB'})</td>\n",
       "      <td>frozenset({'HBase'})</td>\n",
       "      <td>0.116751</td>\n",
       "      <td>0.065990</td>\n",
       "      <td>0.025381</td>\n",
       "      <td>0.217391</td>\n",
       "      <td>3.294314</td>\n",
       "      <td>0.017676</td>\n",
       "      <td>1.193457</td>\n",
       "      <td>1</td>\n",
       "      <td>1</td>\n",
       "    </tr>\n",
       "  </tbody>\n",
       "</table>\n",
       "<p>235 rows × 11 columns</p>\n",
       "</div>"
      ],
      "text/plain": [
       "                      antecedents                consequents  \\\n",
       "0            frozenset({'MySQL'})  frozenset({'PostgreSQL'})   \n",
       "1       frozenset({'PostgreSQL'})       frozenset({'MySQL'})   \n",
       "2            frozenset({'MySQL'})          frozenset({'H2'})   \n",
       "3               frozenset({'H2'})       frozenset({'MySQL'})   \n",
       "4           frozenset({'Oracle'})       frozenset({'MySQL'})   \n",
       "..                            ...                        ...   \n",
       "230       frozenset({'Informix'})  frozenset({'PostgreSQL'})   \n",
       "231       frozenset({'Informix'})      frozenset({'SQLite'})   \n",
       "232      frozenset({'MS Access'})          frozenset({'H2'})   \n",
       "233  frozenset({'MS SQL Server'})       frozenset({'HBase'})   \n",
       "234        frozenset({'MariaDB'})       frozenset({'HBase'})   \n",
       "\n",
       "     antecedent support  consequent support   support  confidence      lift  \\\n",
       "0              0.411168            0.248731  0.223350    0.543210  2.183925   \n",
       "1              0.248731            0.411168  0.223350    0.897959  2.183925   \n",
       "2              0.411168            0.243655  0.182741    0.444444  1.824074   \n",
       "3              0.243655            0.411168  0.182741    0.750000  1.824074   \n",
       "4              0.218274            0.411168  0.177665    0.813953  1.979615   \n",
       "..                  ...                 ...       ...         ...       ...   \n",
       "230            0.030457            0.248731  0.025381    0.833333  3.350340   \n",
       "231            0.030457            0.111675  0.025381    0.833333  7.462121   \n",
       "232            0.030457            0.243655  0.025381    0.833333  3.420139   \n",
       "233            0.131980            0.065990  0.025381    0.192308  2.914201   \n",
       "234            0.116751            0.065990  0.025381    0.217391  3.294314   \n",
       "\n",
       "     leverage  conviction  antecedent_len  consequente_len  \n",
       "0    0.121080    1.644670               1                1  \n",
       "1    0.121080    5.770558               1                1  \n",
       "2    0.082558    1.361421               1                1  \n",
       "3    0.082558    2.355330               1                1  \n",
       "4    0.087918    3.164975               1                1  \n",
       "..        ...         ...             ...              ...  \n",
       "230  0.017805    4.507614               1                1  \n",
       "231  0.021979    5.329949               1                1  \n",
       "232  0.017960    4.538071               1                1  \n",
       "233  0.016671    1.156394               1                1  \n",
       "234  0.017676    1.193457               1                1  \n",
       "\n",
       "[235 rows x 11 columns]"
      ]
     },
     "execution_count": 196,
     "metadata": {},
     "output_type": "execute_result"
    }
   ],
   "source": [
    "rules1c = rules1c.reset_index()\n",
    "rules1c"
   ]
  },
  {
   "attachments": {},
   "cell_type": "markdown",
   "metadata": {},
   "source": [
    " apply function\n",
    "df['New'] = df.apply(lambda x: x['Column1'] if x['Column1'] <=\n",
    "                     x['Column2'] and x['Column1']\n",
    "                     <= x['Column3'] else np.nan, axis=1)"
   ]
  },
  {
   "cell_type": "code",
   "execution_count": null,
   "metadata": {},
   "outputs": [],
   "source": [
    "#apply function\n",
    "rules1c['New'] = rules1c.apply(lambda x: x['antecedents'] if x['antecedents'] ==\n",
    "                     x['consequents'] and x['Column1']\n",
    "                     <= x['Column3'] else np.nan, axis=1)"
   ]
  },
  {
   "cell_type": "code",
   "execution_count": 193,
   "metadata": {},
   "outputs": [
    {
     "data": {
      "text/html": [
       "<div>\n",
       "<style scoped>\n",
       "    .dataframe tbody tr th:only-of-type {\n",
       "        vertical-align: middle;\n",
       "    }\n",
       "\n",
       "    .dataframe tbody tr th {\n",
       "        vertical-align: top;\n",
       "    }\n",
       "\n",
       "    .dataframe thead th {\n",
       "        text-align: right;\n",
       "    }\n",
       "</style>\n",
       "<table border=\"1\" class=\"dataframe\">\n",
       "  <thead>\n",
       "    <tr style=\"text-align: right;\">\n",
       "      <th></th>\n",
       "      <th>antecedents</th>\n",
       "      <th>consequents</th>\n",
       "      <th>antecedent support</th>\n",
       "      <th>consequent support</th>\n",
       "      <th>support</th>\n",
       "      <th>confidence</th>\n",
       "      <th>lift</th>\n",
       "      <th>leverage</th>\n",
       "      <th>conviction</th>\n",
       "      <th>antecedent_len</th>\n",
       "      <th>consequente_len</th>\n",
       "    </tr>\n",
       "  </thead>\n",
       "  <tbody>\n",
       "  </tbody>\n",
       "</table>\n",
       "</div>"
      ],
      "text/plain": [
       "Empty DataFrame\n",
       "Columns: [antecedents, consequents, antecedent support, consequent support, support, confidence, lift, leverage, conviction, antecedent_len, consequente_len]\n",
       "Index: []"
      ]
     },
     "execution_count": 193,
     "metadata": {},
     "output_type": "execute_result"
    }
   ],
   "source": [
    "selecao = rules1c[(rules1c['antecedents'] == \"'frozenset({'PostgreSQL'})'\")]#| (dataset_sem_friendly['away_team'] == 'Brazil')\n",
    "#dataset_sem_friendly[selecao].head()\n",
    "#rules1c[selecao]\n",
    "selecao"
   ]
  },
  {
   "cell_type": "code",
   "execution_count": 194,
   "metadata": {},
   "outputs": [
    {
     "data": {
      "text/plain": [
       "False"
      ]
     },
     "execution_count": 194,
     "metadata": {},
     "output_type": "execute_result"
    }
   ],
   "source": [
    "rules1c['antecedents'].equals(rules1c['consequents'])\n"
   ]
  },
  {
   "cell_type": "code",
   "execution_count": 176,
   "metadata": {},
   "outputs": [],
   "source": [
    "rules1c.insert(3,'antecedent_sup_abs', 0, True)\n",
    "rules1c.insert(5,'consequent_sup_abs', 0, True)\n",
    "rules1c.insert(7,'support_abs', 0, True)"
   ]
  },
  {
   "cell_type": "code",
   "execution_count": 177,
   "metadata": {},
   "outputs": [
    {
     "data": {
      "text/html": [
       "<div>\n",
       "<style scoped>\n",
       "    .dataframe tbody tr th:only-of-type {\n",
       "        vertical-align: middle;\n",
       "    }\n",
       "\n",
       "    .dataframe tbody tr th {\n",
       "        vertical-align: top;\n",
       "    }\n",
       "\n",
       "    .dataframe thead th {\n",
       "        text-align: right;\n",
       "    }\n",
       "</style>\n",
       "<table border=\"1\" class=\"dataframe\">\n",
       "  <thead>\n",
       "    <tr style=\"text-align: right;\">\n",
       "      <th></th>\n",
       "      <th>antecedents</th>\n",
       "      <th>consequents</th>\n",
       "      <th>antecedent support</th>\n",
       "      <th>antecedent_sup_abs</th>\n",
       "      <th>consequent support</th>\n",
       "      <th>consequent_sup_abs</th>\n",
       "      <th>support</th>\n",
       "      <th>support_abs</th>\n",
       "      <th>confidence</th>\n",
       "      <th>lift</th>\n",
       "      <th>leverage</th>\n",
       "      <th>conviction</th>\n",
       "      <th>antecedent_len</th>\n",
       "      <th>consequente_len</th>\n",
       "    </tr>\n",
       "  </thead>\n",
       "  <tbody>\n",
       "    <tr>\n",
       "      <th>0</th>\n",
       "      <td>frozenset({'MySQL'})</td>\n",
       "      <td>frozenset({'PostgreSQL'})</td>\n",
       "      <td>0.411168</td>\n",
       "      <td>81.0</td>\n",
       "      <td>0.248731</td>\n",
       "      <td>49.0</td>\n",
       "      <td>0.223350</td>\n",
       "      <td>44.0</td>\n",
       "      <td>0.543210</td>\n",
       "      <td>2.183925</td>\n",
       "      <td>0.121080</td>\n",
       "      <td>1.644670</td>\n",
       "      <td>1</td>\n",
       "      <td>1</td>\n",
       "    </tr>\n",
       "    <tr>\n",
       "      <th>1</th>\n",
       "      <td>frozenset({'PostgreSQL'})</td>\n",
       "      <td>frozenset({'MySQL'})</td>\n",
       "      <td>0.248731</td>\n",
       "      <td>49.0</td>\n",
       "      <td>0.411168</td>\n",
       "      <td>81.0</td>\n",
       "      <td>0.223350</td>\n",
       "      <td>44.0</td>\n",
       "      <td>0.897959</td>\n",
       "      <td>2.183925</td>\n",
       "      <td>0.121080</td>\n",
       "      <td>5.770558</td>\n",
       "      <td>1</td>\n",
       "      <td>1</td>\n",
       "    </tr>\n",
       "    <tr>\n",
       "      <th>2</th>\n",
       "      <td>frozenset({'MySQL'})</td>\n",
       "      <td>frozenset({'H2'})</td>\n",
       "      <td>0.411168</td>\n",
       "      <td>81.0</td>\n",
       "      <td>0.243655</td>\n",
       "      <td>48.0</td>\n",
       "      <td>0.182741</td>\n",
       "      <td>36.0</td>\n",
       "      <td>0.444444</td>\n",
       "      <td>1.824074</td>\n",
       "      <td>0.082558</td>\n",
       "      <td>1.361421</td>\n",
       "      <td>1</td>\n",
       "      <td>1</td>\n",
       "    </tr>\n",
       "    <tr>\n",
       "      <th>3</th>\n",
       "      <td>frozenset({'H2'})</td>\n",
       "      <td>frozenset({'MySQL'})</td>\n",
       "      <td>0.243655</td>\n",
       "      <td>48.0</td>\n",
       "      <td>0.411168</td>\n",
       "      <td>81.0</td>\n",
       "      <td>0.182741</td>\n",
       "      <td>36.0</td>\n",
       "      <td>0.750000</td>\n",
       "      <td>1.824074</td>\n",
       "      <td>0.082558</td>\n",
       "      <td>2.355330</td>\n",
       "      <td>1</td>\n",
       "      <td>1</td>\n",
       "    </tr>\n",
       "    <tr>\n",
       "      <th>4</th>\n",
       "      <td>frozenset({'Oracle'})</td>\n",
       "      <td>frozenset({'MySQL'})</td>\n",
       "      <td>0.218274</td>\n",
       "      <td>43.0</td>\n",
       "      <td>0.411168</td>\n",
       "      <td>81.0</td>\n",
       "      <td>0.177665</td>\n",
       "      <td>35.0</td>\n",
       "      <td>0.813953</td>\n",
       "      <td>1.979615</td>\n",
       "      <td>0.087918</td>\n",
       "      <td>3.164975</td>\n",
       "      <td>1</td>\n",
       "      <td>1</td>\n",
       "    </tr>\n",
       "    <tr>\n",
       "      <th>...</th>\n",
       "      <td>...</td>\n",
       "      <td>...</td>\n",
       "      <td>...</td>\n",
       "      <td>...</td>\n",
       "      <td>...</td>\n",
       "      <td>...</td>\n",
       "      <td>...</td>\n",
       "      <td>...</td>\n",
       "      <td>...</td>\n",
       "      <td>...</td>\n",
       "      <td>...</td>\n",
       "      <td>...</td>\n",
       "      <td>...</td>\n",
       "      <td>...</td>\n",
       "    </tr>\n",
       "    <tr>\n",
       "      <th>230</th>\n",
       "      <td>frozenset({'Informix'})</td>\n",
       "      <td>frozenset({'PostgreSQL'})</td>\n",
       "      <td>0.030457</td>\n",
       "      <td>6.0</td>\n",
       "      <td>0.248731</td>\n",
       "      <td>49.0</td>\n",
       "      <td>0.025381</td>\n",
       "      <td>5.0</td>\n",
       "      <td>0.833333</td>\n",
       "      <td>3.350340</td>\n",
       "      <td>0.017805</td>\n",
       "      <td>4.507614</td>\n",
       "      <td>1</td>\n",
       "      <td>1</td>\n",
       "    </tr>\n",
       "    <tr>\n",
       "      <th>231</th>\n",
       "      <td>frozenset({'Informix'})</td>\n",
       "      <td>frozenset({'SQLite'})</td>\n",
       "      <td>0.030457</td>\n",
       "      <td>6.0</td>\n",
       "      <td>0.111675</td>\n",
       "      <td>22.0</td>\n",
       "      <td>0.025381</td>\n",
       "      <td>5.0</td>\n",
       "      <td>0.833333</td>\n",
       "      <td>7.462121</td>\n",
       "      <td>0.021979</td>\n",
       "      <td>5.329949</td>\n",
       "      <td>1</td>\n",
       "      <td>1</td>\n",
       "    </tr>\n",
       "    <tr>\n",
       "      <th>232</th>\n",
       "      <td>frozenset({'MS Access'})</td>\n",
       "      <td>frozenset({'H2'})</td>\n",
       "      <td>0.030457</td>\n",
       "      <td>6.0</td>\n",
       "      <td>0.243655</td>\n",
       "      <td>48.0</td>\n",
       "      <td>0.025381</td>\n",
       "      <td>5.0</td>\n",
       "      <td>0.833333</td>\n",
       "      <td>3.420139</td>\n",
       "      <td>0.017960</td>\n",
       "      <td>4.538071</td>\n",
       "      <td>1</td>\n",
       "      <td>1</td>\n",
       "    </tr>\n",
       "    <tr>\n",
       "      <th>233</th>\n",
       "      <td>frozenset({'MS SQL Server'})</td>\n",
       "      <td>frozenset({'HBase'})</td>\n",
       "      <td>0.131980</td>\n",
       "      <td>26.0</td>\n",
       "      <td>0.065990</td>\n",
       "      <td>13.0</td>\n",
       "      <td>0.025381</td>\n",
       "      <td>5.0</td>\n",
       "      <td>0.192308</td>\n",
       "      <td>2.914201</td>\n",
       "      <td>0.016671</td>\n",
       "      <td>1.156394</td>\n",
       "      <td>1</td>\n",
       "      <td>1</td>\n",
       "    </tr>\n",
       "    <tr>\n",
       "      <th>234</th>\n",
       "      <td>frozenset({'MariaDB'})</td>\n",
       "      <td>frozenset({'HBase'})</td>\n",
       "      <td>0.116751</td>\n",
       "      <td>23.0</td>\n",
       "      <td>0.065990</td>\n",
       "      <td>13.0</td>\n",
       "      <td>0.025381</td>\n",
       "      <td>5.0</td>\n",
       "      <td>0.217391</td>\n",
       "      <td>3.294314</td>\n",
       "      <td>0.017676</td>\n",
       "      <td>1.193457</td>\n",
       "      <td>1</td>\n",
       "      <td>1</td>\n",
       "    </tr>\n",
       "  </tbody>\n",
       "</table>\n",
       "<p>235 rows × 14 columns</p>\n",
       "</div>"
      ],
      "text/plain": [
       "                      antecedents                consequents  \\\n",
       "0            frozenset({'MySQL'})  frozenset({'PostgreSQL'})   \n",
       "1       frozenset({'PostgreSQL'})       frozenset({'MySQL'})   \n",
       "2            frozenset({'MySQL'})          frozenset({'H2'})   \n",
       "3               frozenset({'H2'})       frozenset({'MySQL'})   \n",
       "4           frozenset({'Oracle'})       frozenset({'MySQL'})   \n",
       "..                            ...                        ...   \n",
       "230       frozenset({'Informix'})  frozenset({'PostgreSQL'})   \n",
       "231       frozenset({'Informix'})      frozenset({'SQLite'})   \n",
       "232      frozenset({'MS Access'})          frozenset({'H2'})   \n",
       "233  frozenset({'MS SQL Server'})       frozenset({'HBase'})   \n",
       "234        frozenset({'MariaDB'})       frozenset({'HBase'})   \n",
       "\n",
       "     antecedent support  antecedent_sup_abs  consequent support  \\\n",
       "0              0.411168                81.0            0.248731   \n",
       "1              0.248731                49.0            0.411168   \n",
       "2              0.411168                81.0            0.243655   \n",
       "3              0.243655                48.0            0.411168   \n",
       "4              0.218274                43.0            0.411168   \n",
       "..                  ...                 ...                 ...   \n",
       "230            0.030457                 6.0            0.248731   \n",
       "231            0.030457                 6.0            0.111675   \n",
       "232            0.030457                 6.0            0.243655   \n",
       "233            0.131980                26.0            0.065990   \n",
       "234            0.116751                23.0            0.065990   \n",
       "\n",
       "     consequent_sup_abs   support  support_abs  confidence      lift  \\\n",
       "0                  49.0  0.223350         44.0    0.543210  2.183925   \n",
       "1                  81.0  0.223350         44.0    0.897959  2.183925   \n",
       "2                  48.0  0.182741         36.0    0.444444  1.824074   \n",
       "3                  81.0  0.182741         36.0    0.750000  1.824074   \n",
       "4                  81.0  0.177665         35.0    0.813953  1.979615   \n",
       "..                  ...       ...          ...         ...       ...   \n",
       "230                49.0  0.025381          5.0    0.833333  3.350340   \n",
       "231                22.0  0.025381          5.0    0.833333  7.462121   \n",
       "232                48.0  0.025381          5.0    0.833333  3.420139   \n",
       "233                13.0  0.025381          5.0    0.192308  2.914201   \n",
       "234                13.0  0.025381          5.0    0.217391  3.294314   \n",
       "\n",
       "     leverage  conviction  antecedent_len  consequente_len  \n",
       "0    0.121080    1.644670               1                1  \n",
       "1    0.121080    5.770558               1                1  \n",
       "2    0.082558    1.361421               1                1  \n",
       "3    0.082558    2.355330               1                1  \n",
       "4    0.087918    3.164975               1                1  \n",
       "..        ...         ...             ...              ...  \n",
       "230  0.017805    4.507614               1                1  \n",
       "231  0.021979    5.329949               1                1  \n",
       "232  0.017960    4.538071               1                1  \n",
       "233  0.016671    1.156394               1                1  \n",
       "234  0.017676    1.193457               1                1  \n",
       "\n",
       "[235 rows x 14 columns]"
      ]
     },
     "execution_count": 177,
     "metadata": {},
     "output_type": "execute_result"
    }
   ],
   "source": [
    "rules1c['antecedent_sup_abs'] = (rules1c['antecedent support']*197)\n",
    "rules1c['consequent_sup_abs'] = (rules1c['consequent support']*197)\n",
    "rules1c['support_abs'] = (rules1c['support']*197)\n",
    "rules1c"
   ]
  },
  {
   "cell_type": "code",
   "execution_count": 172,
   "metadata": {},
   "outputs": [
    {
     "data": {
      "text/html": [
       "<div>\n",
       "<style scoped>\n",
       "    .dataframe tbody tr th:only-of-type {\n",
       "        vertical-align: middle;\n",
       "    }\n",
       "\n",
       "    .dataframe tbody tr th {\n",
       "        vertical-align: top;\n",
       "    }\n",
       "\n",
       "    .dataframe thead th {\n",
       "        text-align: right;\n",
       "    }\n",
       "</style>\n",
       "<table border=\"1\" class=\"dataframe\">\n",
       "  <thead>\n",
       "    <tr style=\"text-align: right;\">\n",
       "      <th></th>\n",
       "      <th>antecedents</th>\n",
       "      <th>consequents</th>\n",
       "      <th>antecedent support</th>\n",
       "      <th>antecedent_sup_abs</th>\n",
       "      <th>consequent support</th>\n",
       "      <th>consequent_sup_abs</th>\n",
       "      <th>support</th>\n",
       "      <th>support_abs</th>\n",
       "      <th>confidence</th>\n",
       "      <th>lift</th>\n",
       "      <th>leverage</th>\n",
       "      <th>conviction</th>\n",
       "      <th>antecedent_len</th>\n",
       "      <th>consequente_len</th>\n",
       "    </tr>\n",
       "  </thead>\n",
       "  <tbody>\n",
       "    <tr>\n",
       "      <th>0</th>\n",
       "      <td>frozenset({'MySQL'})</td>\n",
       "      <td>frozenset({'PostgreSQL'})</td>\n",
       "      <td>0.411168</td>\n",
       "      <td>81.0</td>\n",
       "      <td>0.248731</td>\n",
       "      <td>49.0</td>\n",
       "      <td>0.223350</td>\n",
       "      <td>44</td>\n",
       "      <td>0.543210</td>\n",
       "      <td>2.183925</td>\n",
       "      <td>0.121080</td>\n",
       "      <td>1.644670</td>\n",
       "      <td>1</td>\n",
       "      <td>1</td>\n",
       "    </tr>\n",
       "    <tr>\n",
       "      <th>1</th>\n",
       "      <td>frozenset({'PostgreSQL'})</td>\n",
       "      <td>frozenset({'MySQL'})</td>\n",
       "      <td>0.248731</td>\n",
       "      <td>49.0</td>\n",
       "      <td>0.411168</td>\n",
       "      <td>81.0</td>\n",
       "      <td>0.223350</td>\n",
       "      <td>0</td>\n",
       "      <td>0.897959</td>\n",
       "      <td>2.183925</td>\n",
       "      <td>0.121080</td>\n",
       "      <td>5.770558</td>\n",
       "      <td>1</td>\n",
       "      <td>1</td>\n",
       "    </tr>\n",
       "    <tr>\n",
       "      <th>2</th>\n",
       "      <td>frozenset({'MySQL'})</td>\n",
       "      <td>frozenset({'H2'})</td>\n",
       "      <td>0.411168</td>\n",
       "      <td>81.0</td>\n",
       "      <td>0.243655</td>\n",
       "      <td>48.0</td>\n",
       "      <td>0.182741</td>\n",
       "      <td>35</td>\n",
       "      <td>0.444444</td>\n",
       "      <td>1.824074</td>\n",
       "      <td>0.082558</td>\n",
       "      <td>1.361421</td>\n",
       "      <td>1</td>\n",
       "      <td>1</td>\n",
       "    </tr>\n",
       "    <tr>\n",
       "      <th>3</th>\n",
       "      <td>frozenset({'H2'})</td>\n",
       "      <td>frozenset({'MySQL'})</td>\n",
       "      <td>0.243655</td>\n",
       "      <td>48.0</td>\n",
       "      <td>0.411168</td>\n",
       "      <td>81.0</td>\n",
       "      <td>0.182741</td>\n",
       "      <td>0</td>\n",
       "      <td>0.750000</td>\n",
       "      <td>1.824074</td>\n",
       "      <td>0.082558</td>\n",
       "      <td>2.355330</td>\n",
       "      <td>1</td>\n",
       "      <td>1</td>\n",
       "    </tr>\n",
       "    <tr>\n",
       "      <th>4</th>\n",
       "      <td>frozenset({'Oracle'})</td>\n",
       "      <td>frozenset({'MySQL'})</td>\n",
       "      <td>0.218274</td>\n",
       "      <td>43.0</td>\n",
       "      <td>0.411168</td>\n",
       "      <td>81.0</td>\n",
       "      <td>0.177665</td>\n",
       "      <td>34</td>\n",
       "      <td>0.813953</td>\n",
       "      <td>1.979615</td>\n",
       "      <td>0.087918</td>\n",
       "      <td>3.164975</td>\n",
       "      <td>1</td>\n",
       "      <td>1</td>\n",
       "    </tr>\n",
       "    <tr>\n",
       "      <th>...</th>\n",
       "      <td>...</td>\n",
       "      <td>...</td>\n",
       "      <td>...</td>\n",
       "      <td>...</td>\n",
       "      <td>...</td>\n",
       "      <td>...</td>\n",
       "      <td>...</td>\n",
       "      <td>...</td>\n",
       "      <td>...</td>\n",
       "      <td>...</td>\n",
       "      <td>...</td>\n",
       "      <td>...</td>\n",
       "      <td>...</td>\n",
       "      <td>...</td>\n",
       "    </tr>\n",
       "    <tr>\n",
       "      <th>230</th>\n",
       "      <td>frozenset({'Informix'})</td>\n",
       "      <td>frozenset({'PostgreSQL'})</td>\n",
       "      <td>0.030457</td>\n",
       "      <td>6.0</td>\n",
       "      <td>0.248731</td>\n",
       "      <td>49.0</td>\n",
       "      <td>0.025381</td>\n",
       "      <td>0</td>\n",
       "      <td>0.833333</td>\n",
       "      <td>3.350340</td>\n",
       "      <td>0.017805</td>\n",
       "      <td>4.507614</td>\n",
       "      <td>1</td>\n",
       "      <td>1</td>\n",
       "    </tr>\n",
       "    <tr>\n",
       "      <th>231</th>\n",
       "      <td>frozenset({'Informix'})</td>\n",
       "      <td>frozenset({'SQLite'})</td>\n",
       "      <td>0.030457</td>\n",
       "      <td>6.0</td>\n",
       "      <td>0.111675</td>\n",
       "      <td>22.0</td>\n",
       "      <td>0.025381</td>\n",
       "      <td>0</td>\n",
       "      <td>0.833333</td>\n",
       "      <td>7.462121</td>\n",
       "      <td>0.021979</td>\n",
       "      <td>5.329949</td>\n",
       "      <td>1</td>\n",
       "      <td>1</td>\n",
       "    </tr>\n",
       "    <tr>\n",
       "      <th>232</th>\n",
       "      <td>frozenset({'MS Access'})</td>\n",
       "      <td>frozenset({'H2'})</td>\n",
       "      <td>0.030457</td>\n",
       "      <td>6.0</td>\n",
       "      <td>0.243655</td>\n",
       "      <td>48.0</td>\n",
       "      <td>0.025381</td>\n",
       "      <td>0</td>\n",
       "      <td>0.833333</td>\n",
       "      <td>3.420139</td>\n",
       "      <td>0.017960</td>\n",
       "      <td>4.538071</td>\n",
       "      <td>1</td>\n",
       "      <td>1</td>\n",
       "    </tr>\n",
       "    <tr>\n",
       "      <th>233</th>\n",
       "      <td>frozenset({'MS SQL Server'})</td>\n",
       "      <td>frozenset({'HBase'})</td>\n",
       "      <td>0.131980</td>\n",
       "      <td>26.0</td>\n",
       "      <td>0.065990</td>\n",
       "      <td>13.0</td>\n",
       "      <td>0.025381</td>\n",
       "      <td>0</td>\n",
       "      <td>0.192308</td>\n",
       "      <td>2.914201</td>\n",
       "      <td>0.016671</td>\n",
       "      <td>1.156394</td>\n",
       "      <td>1</td>\n",
       "      <td>1</td>\n",
       "    </tr>\n",
       "    <tr>\n",
       "      <th>234</th>\n",
       "      <td>frozenset({'MariaDB'})</td>\n",
       "      <td>frozenset({'HBase'})</td>\n",
       "      <td>0.116751</td>\n",
       "      <td>23.0</td>\n",
       "      <td>0.065990</td>\n",
       "      <td>13.0</td>\n",
       "      <td>0.025381</td>\n",
       "      <td>0</td>\n",
       "      <td>0.217391</td>\n",
       "      <td>3.294314</td>\n",
       "      <td>0.017676</td>\n",
       "      <td>1.193457</td>\n",
       "      <td>1</td>\n",
       "      <td>1</td>\n",
       "    </tr>\n",
       "  </tbody>\n",
       "</table>\n",
       "<p>235 rows × 14 columns</p>\n",
       "</div>"
      ],
      "text/plain": [
       "                      antecedents                consequents  \\\n",
       "0            frozenset({'MySQL'})  frozenset({'PostgreSQL'})   \n",
       "1       frozenset({'PostgreSQL'})       frozenset({'MySQL'})   \n",
       "2            frozenset({'MySQL'})          frozenset({'H2'})   \n",
       "3               frozenset({'H2'})       frozenset({'MySQL'})   \n",
       "4           frozenset({'Oracle'})       frozenset({'MySQL'})   \n",
       "..                            ...                        ...   \n",
       "230       frozenset({'Informix'})  frozenset({'PostgreSQL'})   \n",
       "231       frozenset({'Informix'})      frozenset({'SQLite'})   \n",
       "232      frozenset({'MS Access'})          frozenset({'H2'})   \n",
       "233  frozenset({'MS SQL Server'})       frozenset({'HBase'})   \n",
       "234        frozenset({'MariaDB'})       frozenset({'HBase'})   \n",
       "\n",
       "     antecedent support  antecedent_sup_abs  consequent support  \\\n",
       "0              0.411168                81.0            0.248731   \n",
       "1              0.248731                49.0            0.411168   \n",
       "2              0.411168                81.0            0.243655   \n",
       "3              0.243655                48.0            0.411168   \n",
       "4              0.218274                43.0            0.411168   \n",
       "..                  ...                 ...                 ...   \n",
       "230            0.030457                 6.0            0.248731   \n",
       "231            0.030457                 6.0            0.111675   \n",
       "232            0.030457                 6.0            0.243655   \n",
       "233            0.131980                26.0            0.065990   \n",
       "234            0.116751                23.0            0.065990   \n",
       "\n",
       "     consequent_sup_abs   support  support_abs  confidence      lift  \\\n",
       "0                  49.0  0.223350           44    0.543210  2.183925   \n",
       "1                  81.0  0.223350            0    0.897959  2.183925   \n",
       "2                  48.0  0.182741           35    0.444444  1.824074   \n",
       "3                  81.0  0.182741            0    0.750000  1.824074   \n",
       "4                  81.0  0.177665           34    0.813953  1.979615   \n",
       "..                  ...       ...          ...         ...       ...   \n",
       "230                49.0  0.025381            0    0.833333  3.350340   \n",
       "231                22.0  0.025381            0    0.833333  7.462121   \n",
       "232                48.0  0.025381            0    0.833333  3.420139   \n",
       "233                13.0  0.025381            0    0.192308  2.914201   \n",
       "234                13.0  0.025381            0    0.217391  3.294314   \n",
       "\n",
       "     leverage  conviction  antecedent_len  consequente_len  \n",
       "0    0.121080    1.644670               1                1  \n",
       "1    0.121080    5.770558               1                1  \n",
       "2    0.082558    1.361421               1                1  \n",
       "3    0.082558    2.355330               1                1  \n",
       "4    0.087918    3.164975               1                1  \n",
       "..        ...         ...             ...              ...  \n",
       "230  0.017805    4.507614               1                1  \n",
       "231  0.021979    5.329949               1                1  \n",
       "232  0.017960    4.538071               1                1  \n",
       "233  0.016671    1.156394               1                1  \n",
       "234  0.017676    1.193457               1                1  \n",
       "\n",
       "[235 rows x 14 columns]"
      ]
     },
     "execution_count": 172,
     "metadata": {},
     "output_type": "execute_result"
    }
   ],
   "source": [
    "#df['Chamadas_agente'] = df['Chamadas_agente'][df.groupby('agente')['Chamadas_agente'].rank(method='first') == 1]\n",
    "#rules1c['ordem'] = rules1c.groupby('support').rank(method='first') == 1\n",
    "#df['Chamadas_agente'] = df['Chamadas_agente'][df.groupby(['agente','data'])['Chamadas_agente'].rank(method='first') == 1\n",
    "#df['Chamadas_agente'] = df['Chamadas_agente'][df.groupby(['agente','data'])['Chamadas_agente'].rank(method='first') == 1\n",
    "rules1c['support_abs'] = rules1c['support_abs'][rules1c.groupby('support')['support_abs'].rank(method='first') == 1]\n",
    "rules1c['support_abs'] = rules1c['support_abs'].fillna(-1).astype('int').astype('str').str.replace('-1', '0')\n",
    "#rules1c['support_abs'] = rules1c['support_abs'].replace('','0')\n",
    "rules1c['support_abs'] = rules1c['support_abs'].astype(int)\n",
    "#rules1c\n",
    "#rules1c = rules1c[  (rules1c['support_abs'] == 0)] \n",
    "rules1c\n",
    "\n",
    "\n"
   ]
  },
  {
   "cell_type": "code",
   "execution_count": 173,
   "metadata": {},
   "outputs": [
    {
     "data": {
      "text/html": [
       "<div>\n",
       "<style scoped>\n",
       "    .dataframe tbody tr th:only-of-type {\n",
       "        vertical-align: middle;\n",
       "    }\n",
       "\n",
       "    .dataframe tbody tr th {\n",
       "        vertical-align: top;\n",
       "    }\n",
       "\n",
       "    .dataframe thead th {\n",
       "        text-align: right;\n",
       "    }\n",
       "</style>\n",
       "<table border=\"1\" class=\"dataframe\">\n",
       "  <thead>\n",
       "    <tr style=\"text-align: right;\">\n",
       "      <th></th>\n",
       "      <th>antecedents</th>\n",
       "      <th>consequents</th>\n",
       "      <th>antecedent support</th>\n",
       "      <th>antecedent_sup_abs</th>\n",
       "      <th>consequent support</th>\n",
       "      <th>consequent_sup_abs</th>\n",
       "      <th>support</th>\n",
       "      <th>support_abs</th>\n",
       "      <th>confidence</th>\n",
       "      <th>lift</th>\n",
       "      <th>leverage</th>\n",
       "      <th>conviction</th>\n",
       "      <th>antecedent_len</th>\n",
       "      <th>consequente_len</th>\n",
       "    </tr>\n",
       "  </thead>\n",
       "  <tbody>\n",
       "    <tr>\n",
       "      <th>1</th>\n",
       "      <td>frozenset({'PostgreSQL'})</td>\n",
       "      <td>frozenset({'MySQL'})</td>\n",
       "      <td>0.248731</td>\n",
       "      <td>49.0</td>\n",
       "      <td>0.411168</td>\n",
       "      <td>81.0</td>\n",
       "      <td>0.223350</td>\n",
       "      <td>0</td>\n",
       "      <td>0.897959</td>\n",
       "      <td>2.183925</td>\n",
       "      <td>0.121080</td>\n",
       "      <td>5.770558</td>\n",
       "      <td>1</td>\n",
       "      <td>1</td>\n",
       "    </tr>\n",
       "    <tr>\n",
       "      <th>3</th>\n",
       "      <td>frozenset({'H2'})</td>\n",
       "      <td>frozenset({'MySQL'})</td>\n",
       "      <td>0.243655</td>\n",
       "      <td>48.0</td>\n",
       "      <td>0.411168</td>\n",
       "      <td>81.0</td>\n",
       "      <td>0.182741</td>\n",
       "      <td>0</td>\n",
       "      <td>0.750000</td>\n",
       "      <td>1.824074</td>\n",
       "      <td>0.082558</td>\n",
       "      <td>2.355330</td>\n",
       "      <td>1</td>\n",
       "      <td>1</td>\n",
       "    </tr>\n",
       "    <tr>\n",
       "      <th>5</th>\n",
       "      <td>frozenset({'MySQL'})</td>\n",
       "      <td>frozenset({'Oracle'})</td>\n",
       "      <td>0.411168</td>\n",
       "      <td>81.0</td>\n",
       "      <td>0.218274</td>\n",
       "      <td>43.0</td>\n",
       "      <td>0.177665</td>\n",
       "      <td>0</td>\n",
       "      <td>0.432099</td>\n",
       "      <td>1.979615</td>\n",
       "      <td>0.087918</td>\n",
       "      <td>1.376517</td>\n",
       "      <td>1</td>\n",
       "      <td>1</td>\n",
       "    </tr>\n",
       "    <tr>\n",
       "      <th>7</th>\n",
       "      <td>frozenset({'PostgreSQL'})</td>\n",
       "      <td>frozenset({'Oracle'})</td>\n",
       "      <td>0.248731</td>\n",
       "      <td>49.0</td>\n",
       "      <td>0.218274</td>\n",
       "      <td>43.0</td>\n",
       "      <td>0.157360</td>\n",
       "      <td>0</td>\n",
       "      <td>0.632653</td>\n",
       "      <td>2.898434</td>\n",
       "      <td>0.103069</td>\n",
       "      <td>2.128032</td>\n",
       "      <td>1</td>\n",
       "      <td>1</td>\n",
       "    </tr>\n",
       "    <tr>\n",
       "      <th>9</th>\n",
       "      <td>frozenset({'H2'})</td>\n",
       "      <td>frozenset({'PostgreSQL'})</td>\n",
       "      <td>0.243655</td>\n",
       "      <td>48.0</td>\n",
       "      <td>0.248731</td>\n",
       "      <td>49.0</td>\n",
       "      <td>0.137056</td>\n",
       "      <td>0</td>\n",
       "      <td>0.562500</td>\n",
       "      <td>2.261480</td>\n",
       "      <td>0.076451</td>\n",
       "      <td>1.717186</td>\n",
       "      <td>1</td>\n",
       "      <td>1</td>\n",
       "    </tr>\n",
       "    <tr>\n",
       "      <th>...</th>\n",
       "      <td>...</td>\n",
       "      <td>...</td>\n",
       "      <td>...</td>\n",
       "      <td>...</td>\n",
       "      <td>...</td>\n",
       "      <td>...</td>\n",
       "      <td>...</td>\n",
       "      <td>...</td>\n",
       "      <td>...</td>\n",
       "      <td>...</td>\n",
       "      <td>...</td>\n",
       "      <td>...</td>\n",
       "      <td>...</td>\n",
       "      <td>...</td>\n",
       "    </tr>\n",
       "    <tr>\n",
       "      <th>230</th>\n",
       "      <td>frozenset({'Informix'})</td>\n",
       "      <td>frozenset({'PostgreSQL'})</td>\n",
       "      <td>0.030457</td>\n",
       "      <td>6.0</td>\n",
       "      <td>0.248731</td>\n",
       "      <td>49.0</td>\n",
       "      <td>0.025381</td>\n",
       "      <td>0</td>\n",
       "      <td>0.833333</td>\n",
       "      <td>3.350340</td>\n",
       "      <td>0.017805</td>\n",
       "      <td>4.507614</td>\n",
       "      <td>1</td>\n",
       "      <td>1</td>\n",
       "    </tr>\n",
       "    <tr>\n",
       "      <th>231</th>\n",
       "      <td>frozenset({'Informix'})</td>\n",
       "      <td>frozenset({'SQLite'})</td>\n",
       "      <td>0.030457</td>\n",
       "      <td>6.0</td>\n",
       "      <td>0.111675</td>\n",
       "      <td>22.0</td>\n",
       "      <td>0.025381</td>\n",
       "      <td>0</td>\n",
       "      <td>0.833333</td>\n",
       "      <td>7.462121</td>\n",
       "      <td>0.021979</td>\n",
       "      <td>5.329949</td>\n",
       "      <td>1</td>\n",
       "      <td>1</td>\n",
       "    </tr>\n",
       "    <tr>\n",
       "      <th>232</th>\n",
       "      <td>frozenset({'MS Access'})</td>\n",
       "      <td>frozenset({'H2'})</td>\n",
       "      <td>0.030457</td>\n",
       "      <td>6.0</td>\n",
       "      <td>0.243655</td>\n",
       "      <td>48.0</td>\n",
       "      <td>0.025381</td>\n",
       "      <td>0</td>\n",
       "      <td>0.833333</td>\n",
       "      <td>3.420139</td>\n",
       "      <td>0.017960</td>\n",
       "      <td>4.538071</td>\n",
       "      <td>1</td>\n",
       "      <td>1</td>\n",
       "    </tr>\n",
       "    <tr>\n",
       "      <th>233</th>\n",
       "      <td>frozenset({'MS SQL Server'})</td>\n",
       "      <td>frozenset({'HBase'})</td>\n",
       "      <td>0.131980</td>\n",
       "      <td>26.0</td>\n",
       "      <td>0.065990</td>\n",
       "      <td>13.0</td>\n",
       "      <td>0.025381</td>\n",
       "      <td>0</td>\n",
       "      <td>0.192308</td>\n",
       "      <td>2.914201</td>\n",
       "      <td>0.016671</td>\n",
       "      <td>1.156394</td>\n",
       "      <td>1</td>\n",
       "      <td>1</td>\n",
       "    </tr>\n",
       "    <tr>\n",
       "      <th>234</th>\n",
       "      <td>frozenset({'MariaDB'})</td>\n",
       "      <td>frozenset({'HBase'})</td>\n",
       "      <td>0.116751</td>\n",
       "      <td>23.0</td>\n",
       "      <td>0.065990</td>\n",
       "      <td>13.0</td>\n",
       "      <td>0.025381</td>\n",
       "      <td>0</td>\n",
       "      <td>0.217391</td>\n",
       "      <td>3.294314</td>\n",
       "      <td>0.017676</td>\n",
       "      <td>1.193457</td>\n",
       "      <td>1</td>\n",
       "      <td>1</td>\n",
       "    </tr>\n",
       "  </tbody>\n",
       "</table>\n",
       "<p>211 rows × 14 columns</p>\n",
       "</div>"
      ],
      "text/plain": [
       "                      antecedents                consequents  \\\n",
       "1       frozenset({'PostgreSQL'})       frozenset({'MySQL'})   \n",
       "3               frozenset({'H2'})       frozenset({'MySQL'})   \n",
       "5            frozenset({'MySQL'})      frozenset({'Oracle'})   \n",
       "7       frozenset({'PostgreSQL'})      frozenset({'Oracle'})   \n",
       "9               frozenset({'H2'})  frozenset({'PostgreSQL'})   \n",
       "..                            ...                        ...   \n",
       "230       frozenset({'Informix'})  frozenset({'PostgreSQL'})   \n",
       "231       frozenset({'Informix'})      frozenset({'SQLite'})   \n",
       "232      frozenset({'MS Access'})          frozenset({'H2'})   \n",
       "233  frozenset({'MS SQL Server'})       frozenset({'HBase'})   \n",
       "234        frozenset({'MariaDB'})       frozenset({'HBase'})   \n",
       "\n",
       "     antecedent support  antecedent_sup_abs  consequent support  \\\n",
       "1              0.248731                49.0            0.411168   \n",
       "3              0.243655                48.0            0.411168   \n",
       "5              0.411168                81.0            0.218274   \n",
       "7              0.248731                49.0            0.218274   \n",
       "9              0.243655                48.0            0.248731   \n",
       "..                  ...                 ...                 ...   \n",
       "230            0.030457                 6.0            0.248731   \n",
       "231            0.030457                 6.0            0.111675   \n",
       "232            0.030457                 6.0            0.243655   \n",
       "233            0.131980                26.0            0.065990   \n",
       "234            0.116751                23.0            0.065990   \n",
       "\n",
       "     consequent_sup_abs   support  support_abs  confidence      lift  \\\n",
       "1                  81.0  0.223350            0    0.897959  2.183925   \n",
       "3                  81.0  0.182741            0    0.750000  1.824074   \n",
       "5                  43.0  0.177665            0    0.432099  1.979615   \n",
       "7                  43.0  0.157360            0    0.632653  2.898434   \n",
       "9                  49.0  0.137056            0    0.562500  2.261480   \n",
       "..                  ...       ...          ...         ...       ...   \n",
       "230                49.0  0.025381            0    0.833333  3.350340   \n",
       "231                22.0  0.025381            0    0.833333  7.462121   \n",
       "232                48.0  0.025381            0    0.833333  3.420139   \n",
       "233                13.0  0.025381            0    0.192308  2.914201   \n",
       "234                13.0  0.025381            0    0.217391  3.294314   \n",
       "\n",
       "     leverage  conviction  antecedent_len  consequente_len  \n",
       "1    0.121080    5.770558               1                1  \n",
       "3    0.082558    2.355330               1                1  \n",
       "5    0.087918    1.376517               1                1  \n",
       "7    0.103069    2.128032               1                1  \n",
       "9    0.076451    1.717186               1                1  \n",
       "..        ...         ...             ...              ...  \n",
       "230  0.017805    4.507614               1                1  \n",
       "231  0.021979    5.329949               1                1  \n",
       "232  0.017960    4.538071               1                1  \n",
       "233  0.016671    1.156394               1                1  \n",
       "234  0.017676    1.193457               1                1  \n",
       "\n",
       "[211 rows x 14 columns]"
      ]
     },
     "execution_count": 173,
     "metadata": {},
     "output_type": "execute_result"
    }
   ],
   "source": [
    "rules1c = rules1c[  (rules1c['support_abs'] == 0)] \n",
    "rules1c"
   ]
  },
  {
   "cell_type": "code",
   "execution_count": 180,
   "metadata": {},
   "outputs": [
    {
     "data": {
      "text/html": [
       "<div>\n",
       "<style scoped>\n",
       "    .dataframe tbody tr th:only-of-type {\n",
       "        vertical-align: middle;\n",
       "    }\n",
       "\n",
       "    .dataframe tbody tr th {\n",
       "        vertical-align: top;\n",
       "    }\n",
       "\n",
       "    .dataframe thead th {\n",
       "        text-align: right;\n",
       "    }\n",
       "</style>\n",
       "<table border=\"1\" class=\"dataframe\">\n",
       "  <thead>\n",
       "    <tr style=\"text-align: right;\">\n",
       "      <th></th>\n",
       "      <th>antecedents</th>\n",
       "      <th>consequents</th>\n",
       "      <th>antecedent support</th>\n",
       "      <th>antecedent_sup_abs</th>\n",
       "      <th>consequent support</th>\n",
       "      <th>consequent_sup_abs</th>\n",
       "      <th>support</th>\n",
       "      <th>support_abs</th>\n",
       "      <th>confidence</th>\n",
       "      <th>lift</th>\n",
       "      <th>leverage</th>\n",
       "      <th>conviction</th>\n",
       "      <th>antecedent_len</th>\n",
       "      <th>consequente_len</th>\n",
       "    </tr>\n",
       "  </thead>\n",
       "  <tbody>\n",
       "  </tbody>\n",
       "</table>\n",
       "</div>"
      ],
      "text/plain": [
       "Empty DataFrame\n",
       "Columns: [antecedents, consequents, antecedent support, antecedent_sup_abs, consequent support, consequent_sup_abs, support, support_abs, confidence, lift, leverage, conviction, antecedent_len, consequente_len]\n",
       "Index: []"
      ]
     },
     "execution_count": 180,
     "metadata": {},
     "output_type": "execute_result"
    }
   ],
   "source": [
    "selecao = rules1c[(rules1c['antecedents'] == rules1c['consequents'])] #| (dataset_sem_friendly['away_team'] == 'Brazil')\n",
    "#dataset_sem_friendly[selecao].head()\n",
    "selecao"
   ]
  },
  {
   "cell_type": "code",
   "execution_count": 178,
   "metadata": {},
   "outputs": [
    {
     "data": {
      "text/html": [
       "<div>\n",
       "<style scoped>\n",
       "    .dataframe tbody tr th:only-of-type {\n",
       "        vertical-align: middle;\n",
       "    }\n",
       "\n",
       "    .dataframe tbody tr th {\n",
       "        vertical-align: top;\n",
       "    }\n",
       "\n",
       "    .dataframe thead th {\n",
       "        text-align: right;\n",
       "    }\n",
       "</style>\n",
       "<table border=\"1\" class=\"dataframe\">\n",
       "  <thead>\n",
       "    <tr style=\"text-align: right;\">\n",
       "      <th></th>\n",
       "      <th>antecedents</th>\n",
       "      <th>consequents</th>\n",
       "      <th>antecedent support</th>\n",
       "      <th>antecedent_sup_abs</th>\n",
       "      <th>consequent support</th>\n",
       "      <th>consequent_sup_abs</th>\n",
       "      <th>support</th>\n",
       "      <th>support_abs</th>\n",
       "      <th>confidence</th>\n",
       "      <th>lift</th>\n",
       "      <th>leverage</th>\n",
       "      <th>conviction</th>\n",
       "      <th>antecedent_len</th>\n",
       "      <th>consequente_len</th>\n",
       "    </tr>\n",
       "  </thead>\n",
       "  <tbody>\n",
       "    <tr>\n",
       "      <th>0</th>\n",
       "      <td>frozenset({'MySQL'})</td>\n",
       "      <td>frozenset({'PostgreSQL'})</td>\n",
       "      <td>0.411168</td>\n",
       "      <td>81.0</td>\n",
       "      <td>0.248731</td>\n",
       "      <td>49.0</td>\n",
       "      <td>0.223350</td>\n",
       "      <td>44</td>\n",
       "      <td>0.543210</td>\n",
       "      <td>2.183925</td>\n",
       "      <td>0.121080</td>\n",
       "      <td>1.644670</td>\n",
       "      <td>1</td>\n",
       "      <td>1</td>\n",
       "    </tr>\n",
       "    <tr>\n",
       "      <th>1</th>\n",
       "      <td>frozenset({'PostgreSQL'})</td>\n",
       "      <td>frozenset({'MySQL'})</td>\n",
       "      <td>0.248731</td>\n",
       "      <td>49.0</td>\n",
       "      <td>0.411168</td>\n",
       "      <td>81.0</td>\n",
       "      <td>0.223350</td>\n",
       "      <td>44</td>\n",
       "      <td>0.897959</td>\n",
       "      <td>2.183925</td>\n",
       "      <td>0.121080</td>\n",
       "      <td>5.770558</td>\n",
       "      <td>1</td>\n",
       "      <td>1</td>\n",
       "    </tr>\n",
       "    <tr>\n",
       "      <th>2</th>\n",
       "      <td>frozenset({'MySQL'})</td>\n",
       "      <td>frozenset({'H2'})</td>\n",
       "      <td>0.411168</td>\n",
       "      <td>81.0</td>\n",
       "      <td>0.243655</td>\n",
       "      <td>48.0</td>\n",
       "      <td>0.182741</td>\n",
       "      <td>35</td>\n",
       "      <td>0.444444</td>\n",
       "      <td>1.824074</td>\n",
       "      <td>0.082558</td>\n",
       "      <td>1.361421</td>\n",
       "      <td>1</td>\n",
       "      <td>1</td>\n",
       "    </tr>\n",
       "    <tr>\n",
       "      <th>3</th>\n",
       "      <td>frozenset({'H2'})</td>\n",
       "      <td>frozenset({'MySQL'})</td>\n",
       "      <td>0.243655</td>\n",
       "      <td>48.0</td>\n",
       "      <td>0.411168</td>\n",
       "      <td>81.0</td>\n",
       "      <td>0.182741</td>\n",
       "      <td>35</td>\n",
       "      <td>0.750000</td>\n",
       "      <td>1.824074</td>\n",
       "      <td>0.082558</td>\n",
       "      <td>2.355330</td>\n",
       "      <td>1</td>\n",
       "      <td>1</td>\n",
       "    </tr>\n",
       "    <tr>\n",
       "      <th>4</th>\n",
       "      <td>frozenset({'Oracle'})</td>\n",
       "      <td>frozenset({'MySQL'})</td>\n",
       "      <td>0.218274</td>\n",
       "      <td>43.0</td>\n",
       "      <td>0.411168</td>\n",
       "      <td>81.0</td>\n",
       "      <td>0.177665</td>\n",
       "      <td>34</td>\n",
       "      <td>0.813953</td>\n",
       "      <td>1.979615</td>\n",
       "      <td>0.087918</td>\n",
       "      <td>3.164975</td>\n",
       "      <td>1</td>\n",
       "      <td>1</td>\n",
       "    </tr>\n",
       "    <tr>\n",
       "      <th>...</th>\n",
       "      <td>...</td>\n",
       "      <td>...</td>\n",
       "      <td>...</td>\n",
       "      <td>...</td>\n",
       "      <td>...</td>\n",
       "      <td>...</td>\n",
       "      <td>...</td>\n",
       "      <td>...</td>\n",
       "      <td>...</td>\n",
       "      <td>...</td>\n",
       "      <td>...</td>\n",
       "      <td>...</td>\n",
       "      <td>...</td>\n",
       "      <td>...</td>\n",
       "    </tr>\n",
       "    <tr>\n",
       "      <th>230</th>\n",
       "      <td>frozenset({'Informix'})</td>\n",
       "      <td>frozenset({'PostgreSQL'})</td>\n",
       "      <td>0.030457</td>\n",
       "      <td>6.0</td>\n",
       "      <td>0.248731</td>\n",
       "      <td>49.0</td>\n",
       "      <td>0.025381</td>\n",
       "      <td>5</td>\n",
       "      <td>0.833333</td>\n",
       "      <td>3.350340</td>\n",
       "      <td>0.017805</td>\n",
       "      <td>4.507614</td>\n",
       "      <td>1</td>\n",
       "      <td>1</td>\n",
       "    </tr>\n",
       "    <tr>\n",
       "      <th>231</th>\n",
       "      <td>frozenset({'Informix'})</td>\n",
       "      <td>frozenset({'SQLite'})</td>\n",
       "      <td>0.030457</td>\n",
       "      <td>6.0</td>\n",
       "      <td>0.111675</td>\n",
       "      <td>22.0</td>\n",
       "      <td>0.025381</td>\n",
       "      <td>5</td>\n",
       "      <td>0.833333</td>\n",
       "      <td>7.462121</td>\n",
       "      <td>0.021979</td>\n",
       "      <td>5.329949</td>\n",
       "      <td>1</td>\n",
       "      <td>1</td>\n",
       "    </tr>\n",
       "    <tr>\n",
       "      <th>232</th>\n",
       "      <td>frozenset({'MS Access'})</td>\n",
       "      <td>frozenset({'H2'})</td>\n",
       "      <td>0.030457</td>\n",
       "      <td>6.0</td>\n",
       "      <td>0.243655</td>\n",
       "      <td>48.0</td>\n",
       "      <td>0.025381</td>\n",
       "      <td>5</td>\n",
       "      <td>0.833333</td>\n",
       "      <td>3.420139</td>\n",
       "      <td>0.017960</td>\n",
       "      <td>4.538071</td>\n",
       "      <td>1</td>\n",
       "      <td>1</td>\n",
       "    </tr>\n",
       "    <tr>\n",
       "      <th>233</th>\n",
       "      <td>frozenset({'MS SQL Server'})</td>\n",
       "      <td>frozenset({'HBase'})</td>\n",
       "      <td>0.131980</td>\n",
       "      <td>26.0</td>\n",
       "      <td>0.065990</td>\n",
       "      <td>13.0</td>\n",
       "      <td>0.025381</td>\n",
       "      <td>5</td>\n",
       "      <td>0.192308</td>\n",
       "      <td>2.914201</td>\n",
       "      <td>0.016671</td>\n",
       "      <td>1.156394</td>\n",
       "      <td>1</td>\n",
       "      <td>1</td>\n",
       "    </tr>\n",
       "    <tr>\n",
       "      <th>234</th>\n",
       "      <td>frozenset({'MariaDB'})</td>\n",
       "      <td>frozenset({'HBase'})</td>\n",
       "      <td>0.116751</td>\n",
       "      <td>23.0</td>\n",
       "      <td>0.065990</td>\n",
       "      <td>13.0</td>\n",
       "      <td>0.025381</td>\n",
       "      <td>5</td>\n",
       "      <td>0.217391</td>\n",
       "      <td>3.294314</td>\n",
       "      <td>0.017676</td>\n",
       "      <td>1.193457</td>\n",
       "      <td>1</td>\n",
       "      <td>1</td>\n",
       "    </tr>\n",
       "  </tbody>\n",
       "</table>\n",
       "<p>235 rows × 14 columns</p>\n",
       "</div>"
      ],
      "text/plain": [
       "                      antecedents                consequents  \\\n",
       "0            frozenset({'MySQL'})  frozenset({'PostgreSQL'})   \n",
       "1       frozenset({'PostgreSQL'})       frozenset({'MySQL'})   \n",
       "2            frozenset({'MySQL'})          frozenset({'H2'})   \n",
       "3               frozenset({'H2'})       frozenset({'MySQL'})   \n",
       "4           frozenset({'Oracle'})       frozenset({'MySQL'})   \n",
       "..                            ...                        ...   \n",
       "230       frozenset({'Informix'})  frozenset({'PostgreSQL'})   \n",
       "231       frozenset({'Informix'})      frozenset({'SQLite'})   \n",
       "232      frozenset({'MS Access'})          frozenset({'H2'})   \n",
       "233  frozenset({'MS SQL Server'})       frozenset({'HBase'})   \n",
       "234        frozenset({'MariaDB'})       frozenset({'HBase'})   \n",
       "\n",
       "     antecedent support  antecedent_sup_abs  consequent support  \\\n",
       "0              0.411168                81.0            0.248731   \n",
       "1              0.248731                49.0            0.411168   \n",
       "2              0.411168                81.0            0.243655   \n",
       "3              0.243655                48.0            0.411168   \n",
       "4              0.218274                43.0            0.411168   \n",
       "..                  ...                 ...                 ...   \n",
       "230            0.030457                 6.0            0.248731   \n",
       "231            0.030457                 6.0            0.111675   \n",
       "232            0.030457                 6.0            0.243655   \n",
       "233            0.131980                26.0            0.065990   \n",
       "234            0.116751                23.0            0.065990   \n",
       "\n",
       "     consequent_sup_abs   support  support_abs  confidence      lift  \\\n",
       "0                  49.0  0.223350           44    0.543210  2.183925   \n",
       "1                  81.0  0.223350           44    0.897959  2.183925   \n",
       "2                  48.0  0.182741           35    0.444444  1.824074   \n",
       "3                  81.0  0.182741           35    0.750000  1.824074   \n",
       "4                  81.0  0.177665           34    0.813953  1.979615   \n",
       "..                  ...       ...          ...         ...       ...   \n",
       "230                49.0  0.025381            5    0.833333  3.350340   \n",
       "231                22.0  0.025381            5    0.833333  7.462121   \n",
       "232                48.0  0.025381            5    0.833333  3.420139   \n",
       "233                13.0  0.025381            5    0.192308  2.914201   \n",
       "234                13.0  0.025381            5    0.217391  3.294314   \n",
       "\n",
       "     leverage  conviction  antecedent_len  consequente_len  \n",
       "0    0.121080    1.644670               1                1  \n",
       "1    0.121080    5.770558               1                1  \n",
       "2    0.082558    1.361421               1                1  \n",
       "3    0.082558    2.355330               1                1  \n",
       "4    0.087918    3.164975               1                1  \n",
       "..        ...         ...             ...              ...  \n",
       "230  0.017805    4.507614               1                1  \n",
       "231  0.021979    5.329949               1                1  \n",
       "232  0.017960    4.538071               1                1  \n",
       "233  0.016671    1.156394               1                1  \n",
       "234  0.017676    1.193457               1                1  \n",
       "\n",
       "[235 rows x 14 columns]"
      ]
     },
     "execution_count": 178,
     "metadata": {},
     "output_type": "execute_result"
    }
   ],
   "source": [
    "rules1c['support_abs'] = rules1c['support_abs'][rules1c.groupby(['antecedents','consequents','support'])['support_abs'].rank(method='first') == 1]\n",
    "rules1c['support_abs'] = rules1c['support_abs'].fillna(-1).astype('int').astype('str').str.replace('-1', '0')\n",
    "#rules1c\n",
    "#rules1c['support_abs'] = rules1c['support_abs'].replace('','0')\n",
    "rules1c['support_abs'] = rules1c['support_abs'].astype(int)\n",
    "#rules1c = rules1c[(rules1c['support'] >= 0.3) & (rules1c['support_abs'] == 0)] \n",
    "rules1c"
   ]
  },
  {
   "cell_type": "code",
   "execution_count": null,
   "metadata": {},
   "outputs": [],
   "source": []
  },
  {
   "cell_type": "code",
   "execution_count": 104,
   "metadata": {},
   "outputs": [
    {
     "data": {
      "text/plain": [
       "antecedents            object\n",
       "consequents            object\n",
       "antecedent support    float64\n",
       "antecedent_sup_abs    float64\n",
       "consequent support    float64\n",
       "consequent_sup_abs    float64\n",
       "support               float64\n",
       "support_abs             int64\n",
       "confidence            float64\n",
       "lift                  float64\n",
       "leverage              float64\n",
       "conviction            float64\n",
       "antecedent_len          int64\n",
       "consequente_len         int64\n",
       "dtype: object"
      ]
     },
     "execution_count": 104,
     "metadata": {},
     "output_type": "execute_result"
    }
   ],
   "source": [
    "rules1c.dtypes"
   ]
  },
  {
   "attachments": {},
   "cell_type": "markdown",
   "metadata": {},
   "source": [
    "Este é o gráfico inicial que mostra apenas as regras com os BDs mais usados em conjunto, demosntrando empate entre os BDs SQLite e Mongo DB."
   ]
  },
  {
   "cell_type": "code",
   "execution_count": 125,
   "metadata": {},
   "outputs": [
    {
     "data": {
      "application/vnd.plotly.v1+json": {
       "config": {
        "plotlyServerURL": "https://plot.ly"
       },
       "data": [
        {
         "customdata": [
          [
           44
          ],
          [
           35
          ],
          [
           34
          ],
          [
           31
          ],
          [
           27
          ],
          [
           25
          ],
          [
           22
          ],
          [
           21
          ],
          [
           19
          ],
          [
           19
          ],
          [
           18
          ],
          [
           17
          ],
          [
           15
          ],
          [
           15
          ],
          [
           14
          ],
          [
           13
          ],
          [
           12
          ],
          [
           11
          ],
          [
           9
          ],
          [
           9
          ],
          [
           7
          ]
         ],
         "hovertemplate": "consequents=%{x}<br>antecedents=%{y}<br>support_abs=%{marker.color}<extra></extra>",
         "legendgroup": "",
         "marker": {
          "color": [
           44,
           35,
           34,
           31,
           27,
           25,
           22,
           21,
           19,
           19,
           18,
           17,
           15,
           15,
           14,
           13,
           12,
           11,
           9,
           9,
           7
          ],
          "coloraxis": "coloraxis",
          "size": [
           44,
           35,
           34,
           31,
           27,
           25,
           22,
           21,
           19,
           19,
           18,
           17,
           15,
           15,
           14,
           13,
           12,
           11,
           9,
           9,
           7
          ],
          "sizemode": "area",
          "sizeref": 0.11,
          "symbol": "circle"
         },
         "mode": "markers",
         "name": "",
         "orientation": "v",
         "showlegend": false,
         "type": "scatter",
         "x": [
          "frozenset({'PostgreSQL'})",
          "frozenset({'H2'})",
          "frozenset({'MySQL'})",
          "frozenset({'PostgreSQL'})",
          "frozenset({'H2'})",
          "frozenset({'MS SQL Server'})",
          "frozenset({'Oracle'})",
          "frozenset({'MariaDB'})",
          "frozenset({'Ehcache'})",
          "frozenset({'Oracle'})",
          "frozenset({'IBM DB2'})",
          "frozenset({'IBM DB2'})",
          "frozenset({'MS SQL Server'})",
          "frozenset({'Oracle'})",
          "frozenset({'MySQL'})",
          "frozenset({'H2'})",
          "frozenset({'MySQL'})",
          "frozenset({'H2'})",
          "frozenset({'Cassandra'})",
          "frozenset({'SAP Adaptive Server'})",
          "frozenset({'MS SQL Server'})"
         ],
         "xaxis": "x",
         "y": [
          "frozenset({'MySQL'})",
          "frozenset({'MySQL'})",
          "frozenset({'Oracle'})",
          "frozenset({'Oracle'})",
          "frozenset({'PostgreSQL'})",
          "frozenset({'MySQL'})",
          "frozenset({'MS SQL Server'})",
          "frozenset({'MySQL'})",
          "frozenset({'MySQL'})",
          "frozenset({'H2'})",
          "frozenset({'MySQL'})",
          "frozenset({'PostgreSQL'})",
          "frozenset({'H2'})",
          "frozenset({'Ehcache'})",
          "frozenset({'SQLite'})",
          "frozenset({'MariaDB'})",
          "frozenset({'SAP Adaptive Server'})",
          "frozenset({'SAP Adaptive Server'})",
          "frozenset({'Redis'})",
          "frozenset({'IBM DB2'})",
          "frozenset({'Ehcache'})"
         ],
         "yaxis": "y"
        }
       ],
       "layout": {
        "coloraxis": {
         "colorbar": {
          "title": {
           "text": "support_abs"
          }
         },
         "colorscale": [
          [
           0,
           "silver"
          ],
          [
           1,
           "gray"
          ]
         ]
        },
        "legend": {
         "itemsizing": "constant",
         "tracegroupgap": 0
        },
        "template": {
         "data": {
          "bar": [
           {
            "error_x": {
             "color": "#2a3f5f"
            },
            "error_y": {
             "color": "#2a3f5f"
            },
            "marker": {
             "line": {
              "color": "#E5ECF6",
              "width": 0.5
             },
             "pattern": {
              "fillmode": "overlay",
              "size": 10,
              "solidity": 0.2
             }
            },
            "type": "bar"
           }
          ],
          "barpolar": [
           {
            "marker": {
             "line": {
              "color": "#E5ECF6",
              "width": 0.5
             },
             "pattern": {
              "fillmode": "overlay",
              "size": 10,
              "solidity": 0.2
             }
            },
            "type": "barpolar"
           }
          ],
          "carpet": [
           {
            "aaxis": {
             "endlinecolor": "#2a3f5f",
             "gridcolor": "white",
             "linecolor": "white",
             "minorgridcolor": "white",
             "startlinecolor": "#2a3f5f"
            },
            "baxis": {
             "endlinecolor": "#2a3f5f",
             "gridcolor": "white",
             "linecolor": "white",
             "minorgridcolor": "white",
             "startlinecolor": "#2a3f5f"
            },
            "type": "carpet"
           }
          ],
          "choropleth": [
           {
            "colorbar": {
             "outlinewidth": 0,
             "ticks": ""
            },
            "type": "choropleth"
           }
          ],
          "contour": [
           {
            "colorbar": {
             "outlinewidth": 0,
             "ticks": ""
            },
            "colorscale": [
             [
              0,
              "#0d0887"
             ],
             [
              0.1111111111111111,
              "#46039f"
             ],
             [
              0.2222222222222222,
              "#7201a8"
             ],
             [
              0.3333333333333333,
              "#9c179e"
             ],
             [
              0.4444444444444444,
              "#bd3786"
             ],
             [
              0.5555555555555556,
              "#d8576b"
             ],
             [
              0.6666666666666666,
              "#ed7953"
             ],
             [
              0.7777777777777778,
              "#fb9f3a"
             ],
             [
              0.8888888888888888,
              "#fdca26"
             ],
             [
              1,
              "#f0f921"
             ]
            ],
            "type": "contour"
           }
          ],
          "contourcarpet": [
           {
            "colorbar": {
             "outlinewidth": 0,
             "ticks": ""
            },
            "type": "contourcarpet"
           }
          ],
          "heatmap": [
           {
            "colorbar": {
             "outlinewidth": 0,
             "ticks": ""
            },
            "colorscale": [
             [
              0,
              "#0d0887"
             ],
             [
              0.1111111111111111,
              "#46039f"
             ],
             [
              0.2222222222222222,
              "#7201a8"
             ],
             [
              0.3333333333333333,
              "#9c179e"
             ],
             [
              0.4444444444444444,
              "#bd3786"
             ],
             [
              0.5555555555555556,
              "#d8576b"
             ],
             [
              0.6666666666666666,
              "#ed7953"
             ],
             [
              0.7777777777777778,
              "#fb9f3a"
             ],
             [
              0.8888888888888888,
              "#fdca26"
             ],
             [
              1,
              "#f0f921"
             ]
            ],
            "type": "heatmap"
           }
          ],
          "heatmapgl": [
           {
            "colorbar": {
             "outlinewidth": 0,
             "ticks": ""
            },
            "colorscale": [
             [
              0,
              "#0d0887"
             ],
             [
              0.1111111111111111,
              "#46039f"
             ],
             [
              0.2222222222222222,
              "#7201a8"
             ],
             [
              0.3333333333333333,
              "#9c179e"
             ],
             [
              0.4444444444444444,
              "#bd3786"
             ],
             [
              0.5555555555555556,
              "#d8576b"
             ],
             [
              0.6666666666666666,
              "#ed7953"
             ],
             [
              0.7777777777777778,
              "#fb9f3a"
             ],
             [
              0.8888888888888888,
              "#fdca26"
             ],
             [
              1,
              "#f0f921"
             ]
            ],
            "type": "heatmapgl"
           }
          ],
          "histogram": [
           {
            "marker": {
             "pattern": {
              "fillmode": "overlay",
              "size": 10,
              "solidity": 0.2
             }
            },
            "type": "histogram"
           }
          ],
          "histogram2d": [
           {
            "colorbar": {
             "outlinewidth": 0,
             "ticks": ""
            },
            "colorscale": [
             [
              0,
              "#0d0887"
             ],
             [
              0.1111111111111111,
              "#46039f"
             ],
             [
              0.2222222222222222,
              "#7201a8"
             ],
             [
              0.3333333333333333,
              "#9c179e"
             ],
             [
              0.4444444444444444,
              "#bd3786"
             ],
             [
              0.5555555555555556,
              "#d8576b"
             ],
             [
              0.6666666666666666,
              "#ed7953"
             ],
             [
              0.7777777777777778,
              "#fb9f3a"
             ],
             [
              0.8888888888888888,
              "#fdca26"
             ],
             [
              1,
              "#f0f921"
             ]
            ],
            "type": "histogram2d"
           }
          ],
          "histogram2dcontour": [
           {
            "colorbar": {
             "outlinewidth": 0,
             "ticks": ""
            },
            "colorscale": [
             [
              0,
              "#0d0887"
             ],
             [
              0.1111111111111111,
              "#46039f"
             ],
             [
              0.2222222222222222,
              "#7201a8"
             ],
             [
              0.3333333333333333,
              "#9c179e"
             ],
             [
              0.4444444444444444,
              "#bd3786"
             ],
             [
              0.5555555555555556,
              "#d8576b"
             ],
             [
              0.6666666666666666,
              "#ed7953"
             ],
             [
              0.7777777777777778,
              "#fb9f3a"
             ],
             [
              0.8888888888888888,
              "#fdca26"
             ],
             [
              1,
              "#f0f921"
             ]
            ],
            "type": "histogram2dcontour"
           }
          ],
          "mesh3d": [
           {
            "colorbar": {
             "outlinewidth": 0,
             "ticks": ""
            },
            "type": "mesh3d"
           }
          ],
          "parcoords": [
           {
            "line": {
             "colorbar": {
              "outlinewidth": 0,
              "ticks": ""
             }
            },
            "type": "parcoords"
           }
          ],
          "pie": [
           {
            "automargin": true,
            "type": "pie"
           }
          ],
          "scatter": [
           {
            "fillpattern": {
             "fillmode": "overlay",
             "size": 10,
             "solidity": 0.2
            },
            "type": "scatter"
           }
          ],
          "scatter3d": [
           {
            "line": {
             "colorbar": {
              "outlinewidth": 0,
              "ticks": ""
             }
            },
            "marker": {
             "colorbar": {
              "outlinewidth": 0,
              "ticks": ""
             }
            },
            "type": "scatter3d"
           }
          ],
          "scattercarpet": [
           {
            "marker": {
             "colorbar": {
              "outlinewidth": 0,
              "ticks": ""
             }
            },
            "type": "scattercarpet"
           }
          ],
          "scattergeo": [
           {
            "marker": {
             "colorbar": {
              "outlinewidth": 0,
              "ticks": ""
             }
            },
            "type": "scattergeo"
           }
          ],
          "scattergl": [
           {
            "marker": {
             "colorbar": {
              "outlinewidth": 0,
              "ticks": ""
             }
            },
            "type": "scattergl"
           }
          ],
          "scattermapbox": [
           {
            "marker": {
             "colorbar": {
              "outlinewidth": 0,
              "ticks": ""
             }
            },
            "type": "scattermapbox"
           }
          ],
          "scatterpolar": [
           {
            "marker": {
             "colorbar": {
              "outlinewidth": 0,
              "ticks": ""
             }
            },
            "type": "scatterpolar"
           }
          ],
          "scatterpolargl": [
           {
            "marker": {
             "colorbar": {
              "outlinewidth": 0,
              "ticks": ""
             }
            },
            "type": "scatterpolargl"
           }
          ],
          "scatterternary": [
           {
            "marker": {
             "colorbar": {
              "outlinewidth": 0,
              "ticks": ""
             }
            },
            "type": "scatterternary"
           }
          ],
          "surface": [
           {
            "colorbar": {
             "outlinewidth": 0,
             "ticks": ""
            },
            "colorscale": [
             [
              0,
              "#0d0887"
             ],
             [
              0.1111111111111111,
              "#46039f"
             ],
             [
              0.2222222222222222,
              "#7201a8"
             ],
             [
              0.3333333333333333,
              "#9c179e"
             ],
             [
              0.4444444444444444,
              "#bd3786"
             ],
             [
              0.5555555555555556,
              "#d8576b"
             ],
             [
              0.6666666666666666,
              "#ed7953"
             ],
             [
              0.7777777777777778,
              "#fb9f3a"
             ],
             [
              0.8888888888888888,
              "#fdca26"
             ],
             [
              1,
              "#f0f921"
             ]
            ],
            "type": "surface"
           }
          ],
          "table": [
           {
            "cells": {
             "fill": {
              "color": "#EBF0F8"
             },
             "line": {
              "color": "white"
             }
            },
            "header": {
             "fill": {
              "color": "#C8D4E3"
             },
             "line": {
              "color": "white"
             }
            },
            "type": "table"
           }
          ]
         },
         "layout": {
          "annotationdefaults": {
           "arrowcolor": "#2a3f5f",
           "arrowhead": 0,
           "arrowwidth": 1
          },
          "autotypenumbers": "strict",
          "coloraxis": {
           "colorbar": {
            "outlinewidth": 0,
            "ticks": ""
           }
          },
          "colorscale": {
           "diverging": [
            [
             0,
             "#8e0152"
            ],
            [
             0.1,
             "#c51b7d"
            ],
            [
             0.2,
             "#de77ae"
            ],
            [
             0.3,
             "#f1b6da"
            ],
            [
             0.4,
             "#fde0ef"
            ],
            [
             0.5,
             "#f7f7f7"
            ],
            [
             0.6,
             "#e6f5d0"
            ],
            [
             0.7,
             "#b8e186"
            ],
            [
             0.8,
             "#7fbc41"
            ],
            [
             0.9,
             "#4d9221"
            ],
            [
             1,
             "#276419"
            ]
           ],
           "sequential": [
            [
             0,
             "#0d0887"
            ],
            [
             0.1111111111111111,
             "#46039f"
            ],
            [
             0.2222222222222222,
             "#7201a8"
            ],
            [
             0.3333333333333333,
             "#9c179e"
            ],
            [
             0.4444444444444444,
             "#bd3786"
            ],
            [
             0.5555555555555556,
             "#d8576b"
            ],
            [
             0.6666666666666666,
             "#ed7953"
            ],
            [
             0.7777777777777778,
             "#fb9f3a"
            ],
            [
             0.8888888888888888,
             "#fdca26"
            ],
            [
             1,
             "#f0f921"
            ]
           ],
           "sequentialminus": [
            [
             0,
             "#0d0887"
            ],
            [
             0.1111111111111111,
             "#46039f"
            ],
            [
             0.2222222222222222,
             "#7201a8"
            ],
            [
             0.3333333333333333,
             "#9c179e"
            ],
            [
             0.4444444444444444,
             "#bd3786"
            ],
            [
             0.5555555555555556,
             "#d8576b"
            ],
            [
             0.6666666666666666,
             "#ed7953"
            ],
            [
             0.7777777777777778,
             "#fb9f3a"
            ],
            [
             0.8888888888888888,
             "#fdca26"
            ],
            [
             1,
             "#f0f921"
            ]
           ]
          },
          "colorway": [
           "#636efa",
           "#EF553B",
           "#00cc96",
           "#ab63fa",
           "#FFA15A",
           "#19d3f3",
           "#FF6692",
           "#B6E880",
           "#FF97FF",
           "#FECB52"
          ],
          "font": {
           "color": "#2a3f5f"
          },
          "geo": {
           "bgcolor": "white",
           "lakecolor": "white",
           "landcolor": "#E5ECF6",
           "showlakes": true,
           "showland": true,
           "subunitcolor": "white"
          },
          "hoverlabel": {
           "align": "left"
          },
          "hovermode": "closest",
          "mapbox": {
           "style": "light"
          },
          "paper_bgcolor": "white",
          "plot_bgcolor": "#E5ECF6",
          "polar": {
           "angularaxis": {
            "gridcolor": "white",
            "linecolor": "white",
            "ticks": ""
           },
           "bgcolor": "#E5ECF6",
           "radialaxis": {
            "gridcolor": "white",
            "linecolor": "white",
            "ticks": ""
           }
          },
          "scene": {
           "xaxis": {
            "backgroundcolor": "#E5ECF6",
            "gridcolor": "white",
            "gridwidth": 2,
            "linecolor": "white",
            "showbackground": true,
            "ticks": "",
            "zerolinecolor": "white"
           },
           "yaxis": {
            "backgroundcolor": "#E5ECF6",
            "gridcolor": "white",
            "gridwidth": 2,
            "linecolor": "white",
            "showbackground": true,
            "ticks": "",
            "zerolinecolor": "white"
           },
           "zaxis": {
            "backgroundcolor": "#E5ECF6",
            "gridcolor": "white",
            "gridwidth": 2,
            "linecolor": "white",
            "showbackground": true,
            "ticks": "",
            "zerolinecolor": "white"
           }
          },
          "shapedefaults": {
           "line": {
            "color": "#2a3f5f"
           }
          },
          "ternary": {
           "aaxis": {
            "gridcolor": "white",
            "linecolor": "white",
            "ticks": ""
           },
           "baxis": {
            "gridcolor": "white",
            "linecolor": "white",
            "ticks": ""
           },
           "bgcolor": "#E5ECF6",
           "caxis": {
            "gridcolor": "white",
            "linecolor": "white",
            "ticks": ""
           }
          },
          "title": {
           "x": 0.05
          },
          "xaxis": {
           "automargin": true,
           "gridcolor": "white",
           "linecolor": "white",
           "ticks": "",
           "title": {
            "standoff": 15
           },
           "zerolinecolor": "white",
           "zerolinewidth": 2
          },
          "yaxis": {
           "automargin": true,
           "gridcolor": "white",
           "linecolor": "white",
           "ticks": "",
           "title": {
            "standoff": 15
           },
           "zerolinecolor": "white",
           "zerolinewidth": 2
          }
         }
        },
        "title": {
         "text": "Correlation of the most frequent databases in the fifth version"
        },
        "xaxis": {
         "anchor": "y",
         "domain": [
          0,
          1
         ],
         "title": {
          "text": "consequents"
         }
        },
        "yaxis": {
         "anchor": "x",
         "domain": [
          0,
          1
         ],
         "title": {
          "text": "antecedents"
         }
        }
       }
      },
      "text/html": [
       "<div>                            <div id=\"2415ef27-98ce-41ad-8b39-6ce88d30f031\" class=\"plotly-graph-div\" style=\"height:525px; width:100%;\"></div>            <script type=\"text/javascript\">                require([\"plotly\"], function(Plotly) {                    window.PLOTLYENV=window.PLOTLYENV || {};                                    if (document.getElementById(\"2415ef27-98ce-41ad-8b39-6ce88d30f031\")) {                    Plotly.newPlot(                        \"2415ef27-98ce-41ad-8b39-6ce88d30f031\",                        [{\"customdata\":[[44],[35],[34],[31],[27],[25],[22],[21],[19],[19],[18],[17],[15],[15],[14],[13],[12],[11],[9],[9],[7]],\"hovertemplate\":\"consequents=%{x}<br>antecedents=%{y}<br>support_abs=%{marker.color}<extra></extra>\",\"legendgroup\":\"\",\"marker\":{\"color\":[44,35,34,31,27,25,22,21,19,19,18,17,15,15,14,13,12,11,9,9,7],\"coloraxis\":\"coloraxis\",\"size\":[44,35,34,31,27,25,22,21,19,19,18,17,15,15,14,13,12,11,9,9,7],\"sizemode\":\"area\",\"sizeref\":0.11,\"symbol\":\"circle\"},\"mode\":\"markers\",\"name\":\"\",\"orientation\":\"v\",\"showlegend\":false,\"x\":[\"frozenset({'PostgreSQL'})\",\"frozenset({'H2'})\",\"frozenset({'MySQL'})\",\"frozenset({'PostgreSQL'})\",\"frozenset({'H2'})\",\"frozenset({'MS SQL Server'})\",\"frozenset({'Oracle'})\",\"frozenset({'MariaDB'})\",\"frozenset({'Ehcache'})\",\"frozenset({'Oracle'})\",\"frozenset({'IBM DB2'})\",\"frozenset({'IBM DB2'})\",\"frozenset({'MS SQL Server'})\",\"frozenset({'Oracle'})\",\"frozenset({'MySQL'})\",\"frozenset({'H2'})\",\"frozenset({'MySQL'})\",\"frozenset({'H2'})\",\"frozenset({'Cassandra'})\",\"frozenset({'SAP Adaptive Server'})\",\"frozenset({'MS SQL Server'})\"],\"xaxis\":\"x\",\"y\":[\"frozenset({'MySQL'})\",\"frozenset({'MySQL'})\",\"frozenset({'Oracle'})\",\"frozenset({'Oracle'})\",\"frozenset({'PostgreSQL'})\",\"frozenset({'MySQL'})\",\"frozenset({'MS SQL Server'})\",\"frozenset({'MySQL'})\",\"frozenset({'MySQL'})\",\"frozenset({'H2'})\",\"frozenset({'MySQL'})\",\"frozenset({'PostgreSQL'})\",\"frozenset({'H2'})\",\"frozenset({'Ehcache'})\",\"frozenset({'SQLite'})\",\"frozenset({'MariaDB'})\",\"frozenset({'SAP Adaptive Server'})\",\"frozenset({'SAP Adaptive Server'})\",\"frozenset({'Redis'})\",\"frozenset({'IBM DB2'})\",\"frozenset({'Ehcache'})\"],\"yaxis\":\"y\",\"type\":\"scatter\"}],                        {\"template\":{\"data\":{\"histogram2dcontour\":[{\"type\":\"histogram2dcontour\",\"colorbar\":{\"outlinewidth\":0,\"ticks\":\"\"},\"colorscale\":[[0.0,\"#0d0887\"],[0.1111111111111111,\"#46039f\"],[0.2222222222222222,\"#7201a8\"],[0.3333333333333333,\"#9c179e\"],[0.4444444444444444,\"#bd3786\"],[0.5555555555555556,\"#d8576b\"],[0.6666666666666666,\"#ed7953\"],[0.7777777777777778,\"#fb9f3a\"],[0.8888888888888888,\"#fdca26\"],[1.0,\"#f0f921\"]]}],\"choropleth\":[{\"type\":\"choropleth\",\"colorbar\":{\"outlinewidth\":0,\"ticks\":\"\"}}],\"histogram2d\":[{\"type\":\"histogram2d\",\"colorbar\":{\"outlinewidth\":0,\"ticks\":\"\"},\"colorscale\":[[0.0,\"#0d0887\"],[0.1111111111111111,\"#46039f\"],[0.2222222222222222,\"#7201a8\"],[0.3333333333333333,\"#9c179e\"],[0.4444444444444444,\"#bd3786\"],[0.5555555555555556,\"#d8576b\"],[0.6666666666666666,\"#ed7953\"],[0.7777777777777778,\"#fb9f3a\"],[0.8888888888888888,\"#fdca26\"],[1.0,\"#f0f921\"]]}],\"heatmap\":[{\"type\":\"heatmap\",\"colorbar\":{\"outlinewidth\":0,\"ticks\":\"\"},\"colorscale\":[[0.0,\"#0d0887\"],[0.1111111111111111,\"#46039f\"],[0.2222222222222222,\"#7201a8\"],[0.3333333333333333,\"#9c179e\"],[0.4444444444444444,\"#bd3786\"],[0.5555555555555556,\"#d8576b\"],[0.6666666666666666,\"#ed7953\"],[0.7777777777777778,\"#fb9f3a\"],[0.8888888888888888,\"#fdca26\"],[1.0,\"#f0f921\"]]}],\"heatmapgl\":[{\"type\":\"heatmapgl\",\"colorbar\":{\"outlinewidth\":0,\"ticks\":\"\"},\"colorscale\":[[0.0,\"#0d0887\"],[0.1111111111111111,\"#46039f\"],[0.2222222222222222,\"#7201a8\"],[0.3333333333333333,\"#9c179e\"],[0.4444444444444444,\"#bd3786\"],[0.5555555555555556,\"#d8576b\"],[0.6666666666666666,\"#ed7953\"],[0.7777777777777778,\"#fb9f3a\"],[0.8888888888888888,\"#fdca26\"],[1.0,\"#f0f921\"]]}],\"contourcarpet\":[{\"type\":\"contourcarpet\",\"colorbar\":{\"outlinewidth\":0,\"ticks\":\"\"}}],\"contour\":[{\"type\":\"contour\",\"colorbar\":{\"outlinewidth\":0,\"ticks\":\"\"},\"colorscale\":[[0.0,\"#0d0887\"],[0.1111111111111111,\"#46039f\"],[0.2222222222222222,\"#7201a8\"],[0.3333333333333333,\"#9c179e\"],[0.4444444444444444,\"#bd3786\"],[0.5555555555555556,\"#d8576b\"],[0.6666666666666666,\"#ed7953\"],[0.7777777777777778,\"#fb9f3a\"],[0.8888888888888888,\"#fdca26\"],[1.0,\"#f0f921\"]]}],\"surface\":[{\"type\":\"surface\",\"colorbar\":{\"outlinewidth\":0,\"ticks\":\"\"},\"colorscale\":[[0.0,\"#0d0887\"],[0.1111111111111111,\"#46039f\"],[0.2222222222222222,\"#7201a8\"],[0.3333333333333333,\"#9c179e\"],[0.4444444444444444,\"#bd3786\"],[0.5555555555555556,\"#d8576b\"],[0.6666666666666666,\"#ed7953\"],[0.7777777777777778,\"#fb9f3a\"],[0.8888888888888888,\"#fdca26\"],[1.0,\"#f0f921\"]]}],\"mesh3d\":[{\"type\":\"mesh3d\",\"colorbar\":{\"outlinewidth\":0,\"ticks\":\"\"}}],\"scatter\":[{\"fillpattern\":{\"fillmode\":\"overlay\",\"size\":10,\"solidity\":0.2},\"type\":\"scatter\"}],\"parcoords\":[{\"type\":\"parcoords\",\"line\":{\"colorbar\":{\"outlinewidth\":0,\"ticks\":\"\"}}}],\"scatterpolargl\":[{\"type\":\"scatterpolargl\",\"marker\":{\"colorbar\":{\"outlinewidth\":0,\"ticks\":\"\"}}}],\"bar\":[{\"error_x\":{\"color\":\"#2a3f5f\"},\"error_y\":{\"color\":\"#2a3f5f\"},\"marker\":{\"line\":{\"color\":\"#E5ECF6\",\"width\":0.5},\"pattern\":{\"fillmode\":\"overlay\",\"size\":10,\"solidity\":0.2}},\"type\":\"bar\"}],\"scattergeo\":[{\"type\":\"scattergeo\",\"marker\":{\"colorbar\":{\"outlinewidth\":0,\"ticks\":\"\"}}}],\"scatterpolar\":[{\"type\":\"scatterpolar\",\"marker\":{\"colorbar\":{\"outlinewidth\":0,\"ticks\":\"\"}}}],\"histogram\":[{\"marker\":{\"pattern\":{\"fillmode\":\"overlay\",\"size\":10,\"solidity\":0.2}},\"type\":\"histogram\"}],\"scattergl\":[{\"type\":\"scattergl\",\"marker\":{\"colorbar\":{\"outlinewidth\":0,\"ticks\":\"\"}}}],\"scatter3d\":[{\"type\":\"scatter3d\",\"line\":{\"colorbar\":{\"outlinewidth\":0,\"ticks\":\"\"}},\"marker\":{\"colorbar\":{\"outlinewidth\":0,\"ticks\":\"\"}}}],\"scattermapbox\":[{\"type\":\"scattermapbox\",\"marker\":{\"colorbar\":{\"outlinewidth\":0,\"ticks\":\"\"}}}],\"scatterternary\":[{\"type\":\"scatterternary\",\"marker\":{\"colorbar\":{\"outlinewidth\":0,\"ticks\":\"\"}}}],\"scattercarpet\":[{\"type\":\"scattercarpet\",\"marker\":{\"colorbar\":{\"outlinewidth\":0,\"ticks\":\"\"}}}],\"carpet\":[{\"aaxis\":{\"endlinecolor\":\"#2a3f5f\",\"gridcolor\":\"white\",\"linecolor\":\"white\",\"minorgridcolor\":\"white\",\"startlinecolor\":\"#2a3f5f\"},\"baxis\":{\"endlinecolor\":\"#2a3f5f\",\"gridcolor\":\"white\",\"linecolor\":\"white\",\"minorgridcolor\":\"white\",\"startlinecolor\":\"#2a3f5f\"},\"type\":\"carpet\"}],\"table\":[{\"cells\":{\"fill\":{\"color\":\"#EBF0F8\"},\"line\":{\"color\":\"white\"}},\"header\":{\"fill\":{\"color\":\"#C8D4E3\"},\"line\":{\"color\":\"white\"}},\"type\":\"table\"}],\"barpolar\":[{\"marker\":{\"line\":{\"color\":\"#E5ECF6\",\"width\":0.5},\"pattern\":{\"fillmode\":\"overlay\",\"size\":10,\"solidity\":0.2}},\"type\":\"barpolar\"}],\"pie\":[{\"automargin\":true,\"type\":\"pie\"}]},\"layout\":{\"autotypenumbers\":\"strict\",\"colorway\":[\"#636efa\",\"#EF553B\",\"#00cc96\",\"#ab63fa\",\"#FFA15A\",\"#19d3f3\",\"#FF6692\",\"#B6E880\",\"#FF97FF\",\"#FECB52\"],\"font\":{\"color\":\"#2a3f5f\"},\"hovermode\":\"closest\",\"hoverlabel\":{\"align\":\"left\"},\"paper_bgcolor\":\"white\",\"plot_bgcolor\":\"#E5ECF6\",\"polar\":{\"bgcolor\":\"#E5ECF6\",\"angularaxis\":{\"gridcolor\":\"white\",\"linecolor\":\"white\",\"ticks\":\"\"},\"radialaxis\":{\"gridcolor\":\"white\",\"linecolor\":\"white\",\"ticks\":\"\"}},\"ternary\":{\"bgcolor\":\"#E5ECF6\",\"aaxis\":{\"gridcolor\":\"white\",\"linecolor\":\"white\",\"ticks\":\"\"},\"baxis\":{\"gridcolor\":\"white\",\"linecolor\":\"white\",\"ticks\":\"\"},\"caxis\":{\"gridcolor\":\"white\",\"linecolor\":\"white\",\"ticks\":\"\"}},\"coloraxis\":{\"colorbar\":{\"outlinewidth\":0,\"ticks\":\"\"}},\"colorscale\":{\"sequential\":[[0.0,\"#0d0887\"],[0.1111111111111111,\"#46039f\"],[0.2222222222222222,\"#7201a8\"],[0.3333333333333333,\"#9c179e\"],[0.4444444444444444,\"#bd3786\"],[0.5555555555555556,\"#d8576b\"],[0.6666666666666666,\"#ed7953\"],[0.7777777777777778,\"#fb9f3a\"],[0.8888888888888888,\"#fdca26\"],[1.0,\"#f0f921\"]],\"sequentialminus\":[[0.0,\"#0d0887\"],[0.1111111111111111,\"#46039f\"],[0.2222222222222222,\"#7201a8\"],[0.3333333333333333,\"#9c179e\"],[0.4444444444444444,\"#bd3786\"],[0.5555555555555556,\"#d8576b\"],[0.6666666666666666,\"#ed7953\"],[0.7777777777777778,\"#fb9f3a\"],[0.8888888888888888,\"#fdca26\"],[1.0,\"#f0f921\"]],\"diverging\":[[0,\"#8e0152\"],[0.1,\"#c51b7d\"],[0.2,\"#de77ae\"],[0.3,\"#f1b6da\"],[0.4,\"#fde0ef\"],[0.5,\"#f7f7f7\"],[0.6,\"#e6f5d0\"],[0.7,\"#b8e186\"],[0.8,\"#7fbc41\"],[0.9,\"#4d9221\"],[1,\"#276419\"]]},\"xaxis\":{\"gridcolor\":\"white\",\"linecolor\":\"white\",\"ticks\":\"\",\"title\":{\"standoff\":15},\"zerolinecolor\":\"white\",\"automargin\":true,\"zerolinewidth\":2},\"yaxis\":{\"gridcolor\":\"white\",\"linecolor\":\"white\",\"ticks\":\"\",\"title\":{\"standoff\":15},\"zerolinecolor\":\"white\",\"automargin\":true,\"zerolinewidth\":2},\"scene\":{\"xaxis\":{\"backgroundcolor\":\"#E5ECF6\",\"gridcolor\":\"white\",\"linecolor\":\"white\",\"showbackground\":true,\"ticks\":\"\",\"zerolinecolor\":\"white\",\"gridwidth\":2},\"yaxis\":{\"backgroundcolor\":\"#E5ECF6\",\"gridcolor\":\"white\",\"linecolor\":\"white\",\"showbackground\":true,\"ticks\":\"\",\"zerolinecolor\":\"white\",\"gridwidth\":2},\"zaxis\":{\"backgroundcolor\":\"#E5ECF6\",\"gridcolor\":\"white\",\"linecolor\":\"white\",\"showbackground\":true,\"ticks\":\"\",\"zerolinecolor\":\"white\",\"gridwidth\":2}},\"shapedefaults\":{\"line\":{\"color\":\"#2a3f5f\"}},\"annotationdefaults\":{\"arrowcolor\":\"#2a3f5f\",\"arrowhead\":0,\"arrowwidth\":1},\"geo\":{\"bgcolor\":\"white\",\"landcolor\":\"#E5ECF6\",\"subunitcolor\":\"white\",\"showland\":true,\"showlakes\":true,\"lakecolor\":\"white\"},\"title\":{\"x\":0.05},\"mapbox\":{\"style\":\"light\"}}},\"xaxis\":{\"anchor\":\"y\",\"domain\":[0.0,1.0],\"title\":{\"text\":\"consequents\"}},\"yaxis\":{\"anchor\":\"x\",\"domain\":[0.0,1.0],\"title\":{\"text\":\"antecedents\"}},\"coloraxis\":{\"colorbar\":{\"title\":{\"text\":\"support_abs\"}},\"colorscale\":[[0.0,\"silver\"],[1.0,\"gray\"]]},\"legend\":{\"tracegroupgap\":0,\"itemsizing\":\"constant\"},\"title\":{\"text\":\"Correlation of the most frequent databases in the fifth version\"}},                        {\"responsive\": true}                    ).then(function(){\n",
       "                            \n",
       "var gd = document.getElementById('2415ef27-98ce-41ad-8b39-6ce88d30f031');\n",
       "var x = new MutationObserver(function (mutations, observer) {{\n",
       "        var display = window.getComputedStyle(gd).display;\n",
       "        if (!display || display === 'none') {{\n",
       "            console.log([gd, 'removed!']);\n",
       "            Plotly.purge(gd);\n",
       "            observer.disconnect();\n",
       "        }}\n",
       "}});\n",
       "\n",
       "// Listen for the removal of the full notebook cells\n",
       "var notebookContainer = gd.closest('#notebook-container');\n",
       "if (notebookContainer) {{\n",
       "    x.observe(notebookContainer, {childList: true});\n",
       "}}\n",
       "\n",
       "// Listen for the clearing of the current output cell\n",
       "var outputEl = gd.closest('.output');\n",
       "if (outputEl) {{\n",
       "    x.observe(outputEl, {childList: true});\n",
       "}}\n",
       "\n",
       "                        })                };                });            </script>        </div>"
      ]
     },
     "metadata": {},
     "output_type": "display_data"
    }
   ],
   "source": [
    "import plotly.express as px \n",
    "rules1cd = rules1c[(rules1c['support'] >= 0.04) & (rules1c['support_abs'] != 0)] \n",
    "\n",
    "#fig = px.scatter(rules1c.groupby(['antecedent_sup_abs','consequent_sup_abs']).mean().sort_values(['support_abs',], ascending=[False]),\n",
    "#.sort_values(['support_abs'], ascending=[False])\n",
    "fig = px.scatter(rules1cd.sort_values(['support_abs','antecedent_sup_abs'], ascending=[False, False]), x=\"consequents\", y=\"antecedents\", \n",
    "#x=\"consequents\", y=\"antecedents\", \n",
    "size='support_abs',  color=\"support_abs\", title='Correlation of the most frequent databases in the fifth version',\n",
    "hover_data=['support_abs'], color_continuous_scale = [\"silver\",\"gray\"]) \n",
    "#fig.title('Correlation of the most frequent databases')\n",
    "fig.show()"
   ]
  },
  {
   "attachments": {},
   "cell_type": "markdown",
   "metadata": {},
   "source": [
    "Este é o gráfico gerado a pedido do Leo na reu de 24/02 que mostra apenas as todas as regras dos BDs usados em conjunto."
   ]
  },
  {
   "cell_type": "code",
   "execution_count": 111,
   "metadata": {},
   "outputs": [
    {
     "data": {
      "application/vnd.plotly.v1+json": {
       "config": {
        "plotlyServerURL": "https://plot.ly"
       },
       "data": [
        {
         "customdata": [
          [
           44
          ],
          [
           35
          ],
          [
           34
          ],
          [
           31
          ],
          [
           27
          ],
          [
           25
          ],
          [
           22
          ],
          [
           21
          ],
          [
           19
          ],
          [
           19
          ],
          [
           18
          ],
          [
           17
          ],
          [
           15
          ],
          [
           15
          ],
          [
           14
          ],
          [
           13
          ],
          [
           12
          ],
          [
           11
          ],
          [
           9
          ],
          [
           9
          ],
          [
           7
          ],
          [
           7
          ],
          [
           5
          ],
          [
           5
          ],
          [
           0
          ],
          [
           0
          ],
          [
           0
          ],
          [
           0
          ],
          [
           0
          ],
          [
           0
          ],
          [
           0
          ],
          [
           0
          ],
          [
           0
          ],
          [
           0
          ],
          [
           0
          ],
          [
           0
          ],
          [
           0
          ],
          [
           0
          ],
          [
           0
          ],
          [
           0
          ],
          [
           0
          ],
          [
           0
          ],
          [
           0
          ],
          [
           0
          ],
          [
           0
          ],
          [
           0
          ],
          [
           0
          ],
          [
           0
          ],
          [
           0
          ],
          [
           0
          ],
          [
           0
          ],
          [
           0
          ],
          [
           0
          ],
          [
           0
          ],
          [
           0
          ],
          [
           0
          ],
          [
           0
          ],
          [
           0
          ],
          [
           0
          ],
          [
           0
          ],
          [
           0
          ],
          [
           0
          ],
          [
           0
          ],
          [
           0
          ],
          [
           0
          ],
          [
           0
          ],
          [
           0
          ],
          [
           0
          ],
          [
           0
          ],
          [
           0
          ],
          [
           0
          ],
          [
           0
          ],
          [
           0
          ],
          [
           0
          ],
          [
           0
          ],
          [
           0
          ],
          [
           0
          ],
          [
           0
          ],
          [
           0
          ],
          [
           0
          ],
          [
           0
          ],
          [
           0
          ],
          [
           0
          ],
          [
           0
          ],
          [
           0
          ],
          [
           0
          ],
          [
           0
          ],
          [
           0
          ],
          [
           0
          ],
          [
           0
          ],
          [
           0
          ],
          [
           0
          ],
          [
           0
          ],
          [
           0
          ],
          [
           0
          ],
          [
           0
          ],
          [
           0
          ],
          [
           0
          ],
          [
           0
          ],
          [
           0
          ],
          [
           0
          ],
          [
           0
          ],
          [
           0
          ],
          [
           0
          ],
          [
           0
          ],
          [
           0
          ],
          [
           0
          ],
          [
           0
          ],
          [
           0
          ],
          [
           0
          ],
          [
           0
          ],
          [
           0
          ],
          [
           0
          ],
          [
           0
          ],
          [
           0
          ],
          [
           0
          ],
          [
           0
          ],
          [
           0
          ],
          [
           0
          ],
          [
           0
          ],
          [
           0
          ],
          [
           0
          ],
          [
           0
          ],
          [
           0
          ],
          [
           0
          ],
          [
           0
          ],
          [
           0
          ],
          [
           0
          ],
          [
           0
          ],
          [
           0
          ],
          [
           0
          ],
          [
           0
          ],
          [
           0
          ],
          [
           0
          ],
          [
           0
          ],
          [
           0
          ],
          [
           0
          ],
          [
           0
          ],
          [
           0
          ],
          [
           0
          ],
          [
           0
          ],
          [
           0
          ],
          [
           0
          ],
          [
           0
          ],
          [
           0
          ],
          [
           0
          ],
          [
           0
          ],
          [
           0
          ],
          [
           0
          ],
          [
           0
          ],
          [
           0
          ],
          [
           0
          ],
          [
           0
          ],
          [
           0
          ],
          [
           0
          ],
          [
           0
          ],
          [
           0
          ],
          [
           0
          ],
          [
           0
          ],
          [
           0
          ],
          [
           0
          ],
          [
           0
          ],
          [
           0
          ],
          [
           0
          ],
          [
           0
          ],
          [
           0
          ],
          [
           0
          ],
          [
           0
          ],
          [
           0
          ],
          [
           0
          ],
          [
           0
          ],
          [
           0
          ],
          [
           0
          ],
          [
           0
          ],
          [
           0
          ],
          [
           0
          ],
          [
           0
          ],
          [
           0
          ],
          [
           0
          ],
          [
           0
          ],
          [
           0
          ],
          [
           0
          ],
          [
           0
          ],
          [
           0
          ],
          [
           0
          ],
          [
           0
          ],
          [
           0
          ],
          [
           0
          ],
          [
           0
          ],
          [
           0
          ],
          [
           0
          ],
          [
           0
          ],
          [
           0
          ],
          [
           0
          ],
          [
           0
          ],
          [
           0
          ],
          [
           0
          ],
          [
           0
          ],
          [
           0
          ],
          [
           0
          ],
          [
           0
          ],
          [
           0
          ],
          [
           0
          ],
          [
           0
          ],
          [
           0
          ],
          [
           0
          ],
          [
           0
          ],
          [
           0
          ],
          [
           0
          ],
          [
           0
          ],
          [
           0
          ],
          [
           0
          ],
          [
           0
          ],
          [
           0
          ],
          [
           0
          ],
          [
           0
          ],
          [
           0
          ],
          [
           0
          ],
          [
           0
          ],
          [
           0
          ],
          [
           0
          ],
          [
           0
          ],
          [
           0
          ],
          [
           0
          ],
          [
           0
          ],
          [
           0
          ],
          [
           0
          ],
          [
           0
          ],
          [
           0
          ],
          [
           0
          ],
          [
           0
          ],
          [
           0
          ],
          [
           0
          ],
          [
           0
          ],
          [
           0
          ]
         ],
         "hovertemplate": "consequents=%{x}<br>antecedents=%{y}<br>support_abs=%{marker.color}<extra></extra>",
         "legendgroup": "",
         "marker": {
          "color": [
           44,
           35,
           34,
           31,
           27,
           25,
           22,
           21,
           19,
           19,
           18,
           17,
           15,
           15,
           14,
           13,
           12,
           11,
           9,
           9,
           7,
           7,
           5,
           5,
           0,
           0,
           0,
           0,
           0,
           0,
           0,
           0,
           0,
           0,
           0,
           0,
           0,
           0,
           0,
           0,
           0,
           0,
           0,
           0,
           0,
           0,
           0,
           0,
           0,
           0,
           0,
           0,
           0,
           0,
           0,
           0,
           0,
           0,
           0,
           0,
           0,
           0,
           0,
           0,
           0,
           0,
           0,
           0,
           0,
           0,
           0,
           0,
           0,
           0,
           0,
           0,
           0,
           0,
           0,
           0,
           0,
           0,
           0,
           0,
           0,
           0,
           0,
           0,
           0,
           0,
           0,
           0,
           0,
           0,
           0,
           0,
           0,
           0,
           0,
           0,
           0,
           0,
           0,
           0,
           0,
           0,
           0,
           0,
           0,
           0,
           0,
           0,
           0,
           0,
           0,
           0,
           0,
           0,
           0,
           0,
           0,
           0,
           0,
           0,
           0,
           0,
           0,
           0,
           0,
           0,
           0,
           0,
           0,
           0,
           0,
           0,
           0,
           0,
           0,
           0,
           0,
           0,
           0,
           0,
           0,
           0,
           0,
           0,
           0,
           0,
           0,
           0,
           0,
           0,
           0,
           0,
           0,
           0,
           0,
           0,
           0,
           0,
           0,
           0,
           0,
           0,
           0,
           0,
           0,
           0,
           0,
           0,
           0,
           0,
           0,
           0,
           0,
           0,
           0,
           0,
           0,
           0,
           0,
           0,
           0,
           0,
           0,
           0,
           0,
           0,
           0,
           0,
           0,
           0,
           0,
           0,
           0,
           0,
           0,
           0,
           0,
           0,
           0,
           0,
           0,
           0,
           0,
           0,
           0,
           0,
           0,
           0,
           0,
           0,
           0,
           0,
           0,
           0,
           0,
           0,
           0,
           0,
           0,
           0,
           0,
           0,
           0,
           0,
           0,
           0,
           0,
           0,
           0,
           0,
           0
          ],
          "coloraxis": "coloraxis",
          "size": [
           44,
           35,
           34,
           31,
           27,
           25,
           22,
           21,
           19,
           19,
           18,
           17,
           15,
           15,
           14,
           13,
           12,
           11,
           9,
           9,
           7,
           7,
           5,
           5,
           0,
           0,
           0,
           0,
           0,
           0,
           0,
           0,
           0,
           0,
           0,
           0,
           0,
           0,
           0,
           0,
           0,
           0,
           0,
           0,
           0,
           0,
           0,
           0,
           0,
           0,
           0,
           0,
           0,
           0,
           0,
           0,
           0,
           0,
           0,
           0,
           0,
           0,
           0,
           0,
           0,
           0,
           0,
           0,
           0,
           0,
           0,
           0,
           0,
           0,
           0,
           0,
           0,
           0,
           0,
           0,
           0,
           0,
           0,
           0,
           0,
           0,
           0,
           0,
           0,
           0,
           0,
           0,
           0,
           0,
           0,
           0,
           0,
           0,
           0,
           0,
           0,
           0,
           0,
           0,
           0,
           0,
           0,
           0,
           0,
           0,
           0,
           0,
           0,
           0,
           0,
           0,
           0,
           0,
           0,
           0,
           0,
           0,
           0,
           0,
           0,
           0,
           0,
           0,
           0,
           0,
           0,
           0,
           0,
           0,
           0,
           0,
           0,
           0,
           0,
           0,
           0,
           0,
           0,
           0,
           0,
           0,
           0,
           0,
           0,
           0,
           0,
           0,
           0,
           0,
           0,
           0,
           0,
           0,
           0,
           0,
           0,
           0,
           0,
           0,
           0,
           0,
           0,
           0,
           0,
           0,
           0,
           0,
           0,
           0,
           0,
           0,
           0,
           0,
           0,
           0,
           0,
           0,
           0,
           0,
           0,
           0,
           0,
           0,
           0,
           0,
           0,
           0,
           0,
           0,
           0,
           0,
           0,
           0,
           0,
           0,
           0,
           0,
           0,
           0,
           0,
           0,
           0,
           0,
           0,
           0,
           0,
           0,
           0,
           0,
           0,
           0,
           0,
           0,
           0,
           0,
           0,
           0,
           0,
           0,
           0,
           0,
           0,
           0,
           0,
           0,
           0,
           0,
           0,
           0,
           0
          ],
          "sizemode": "area",
          "sizeref": 0.11,
          "symbol": "circle"
         },
         "mode": "markers",
         "name": "",
         "orientation": "v",
         "showlegend": false,
         "type": "scatter",
         "x": [
          "frozenset({'PostgreSQL'})",
          "frozenset({'H2'})",
          "frozenset({'MySQL'})",
          "frozenset({'PostgreSQL'})",
          "frozenset({'H2'})",
          "frozenset({'MS SQL Server'})",
          "frozenset({'Oracle'})",
          "frozenset({'MariaDB'})",
          "frozenset({'Oracle'})",
          "frozenset({'Ehcache'})",
          "frozenset({'IBM DB2'})",
          "frozenset({'IBM DB2'})",
          "frozenset({'Oracle'})",
          "frozenset({'MS SQL Server'})",
          "frozenset({'MySQL'})",
          "frozenset({'H2'})",
          "frozenset({'MySQL'})",
          "frozenset({'H2'})",
          "frozenset({'Cassandra'})",
          "frozenset({'SAP Adaptive Server'})",
          "frozenset({'MS SQL Server'})",
          "frozenset({'PostgreSQL'})",
          "frozenset({'Firebird'})",
          "frozenset({'HBase'})",
          "frozenset({'Redis'})",
          "frozenset({'Informix'})",
          "frozenset({'Cassandra'})",
          "frozenset({'MySQL'})",
          "frozenset({'Solr'})",
          "frozenset({'H2'})",
          "frozenset({'MariaDB'})",
          "frozenset({'Oracle'})",
          "frozenset({'Hive'})",
          "frozenset({'SQLite'})",
          "frozenset({'SQLite'})",
          "frozenset({'MySQL'})",
          "frozenset({'Oracle'})",
          "frozenset({'PostgreSQL'})",
          "frozenset({'PostgreSQL'})",
          "frozenset({'DynamoDB'})",
          "frozenset({'SAP Adaptive Server'})",
          "frozenset({'Elasticsearch'})",
          "frozenset({'Cassandra'})",
          "frozenset({'IBM DB2'})",
          "frozenset({'DynamoDB'})",
          "frozenset({'HBase'})",
          "frozenset({'SapHana'})",
          "frozenset({'MySQL'})",
          "frozenset({'Oracle'})",
          "frozenset({'HBase'})",
          "frozenset({'H2'})",
          "frozenset({'HBase'})",
          "frozenset({'Oracle'})",
          "frozenset({'SAP Adaptive Server'})",
          "frozenset({'MS Access'})",
          "frozenset({'Cassandra'})",
          "frozenset({'MS Access'})",
          "frozenset({'Redis'})",
          "frozenset({'MariaDB'})",
          "frozenset({'Redis'})",
          "frozenset({'MongoDB'})",
          "frozenset({'Hive'})",
          "frozenset({'H2'})",
          "frozenset({'Hive'})",
          "frozenset({'MongoDB'})",
          "frozenset({'HBase'})",
          "frozenset({'Cassandra'})",
          "frozenset({'MariaDB'})",
          "frozenset({'Informix'})",
          "frozenset({'Google Cloud Datastore'})",
          "frozenset({'Redis'})",
          "frozenset({'SQLite'})",
          "frozenset({'H2'})",
          "frozenset({'SAP Adaptive Server'})",
          "frozenset({'PostgreSQL'})",
          "frozenset({'MS SQL Server'})",
          "frozenset({'H2'})",
          "frozenset({'Elasticsearch'})",
          "frozenset({'Solr'})",
          "frozenset({'PostgreSQL'})",
          "frozenset({'Redis'})",
          "frozenset({'IBM DB2'})",
          "frozenset({'Firebird'})",
          "frozenset({'Memcached'})",
          "frozenset({'SAP Adaptive Server'})",
          "frozenset({'Hive'})",
          "frozenset({'MS SQL Server'})",
          "frozenset({'SAP Adaptive Server'})",
          "frozenset({'SAP Adaptive Server'})",
          "frozenset({'Firebird'})",
          "frozenset({'Solr'})",
          "frozenset({'Informix'})",
          "frozenset({'MongoDB'})",
          "frozenset({'SapHana'})",
          "frozenset({'MS Access'})",
          "frozenset({'Cassandra'})",
          "frozenset({'Ehcache'})",
          "frozenset({'IBM DB2'})",
          "frozenset({'Amazon Redshift'})",
          "frozenset({'DynamoDB'})",
          "frozenset({'MongoDB'})",
          "frozenset({'IBM DB2'})",
          "frozenset({'MariaDB'})",
          "frozenset({'SapHana'})",
          "frozenset({'Redis'})",
          "frozenset({'MS Access'})",
          "frozenset({'Informix'})",
          "frozenset({'Google Cloud Datastore'})",
          "frozenset({'MS SQL Server'})",
          "frozenset({'Informix'})",
          "frozenset({'MySQL'})",
          "frozenset({'Ehcache'})",
          "frozenset({'Google Cloud Datastore'})",
          "frozenset({'SapHana'})",
          "frozenset({'SQLite'})",
          "frozenset({'Cassandra'})",
          "frozenset({'H2'})",
          "frozenset({'Firebird'})",
          "frozenset({'MS Access'})",
          "frozenset({'MS SQL Server'})",
          "frozenset({'MariaDB'})",
          "frozenset({'Solr'})",
          "frozenset({'Elasticsearch'})",
          "frozenset({'Ehcache'})",
          "frozenset({'MS SQL Server'})",
          "frozenset({'Informix'})",
          "frozenset({'Informix'})",
          "frozenset({'PostgreSQL'})",
          "frozenset({'IBM DB2'})",
          "frozenset({'Hive'})",
          "frozenset({'IBM DB2'})",
          "frozenset({'MongoDB'})",
          "frozenset({'MySQL'})",
          "frozenset({'SQLite'})",
          "frozenset({'PostgreSQL'})",
          "frozenset({'Redis'})",
          "frozenset({'Elasticsearch'})",
          "frozenset({'MariaDB'})",
          "frozenset({'MariaDB'})",
          "frozenset({'MySQL'})",
          "frozenset({'Oracle'})",
          "frozenset({'Redis'})",
          "frozenset({'MySQL'})",
          "frozenset({'Oracle'})",
          "frozenset({'Oracle'})",
          "frozenset({'Ehcache'})",
          "frozenset({'PostgreSQL'})",
          "frozenset({'SAP Adaptive Server'})",
          "frozenset({'H2'})",
          "frozenset({'SQLite'})",
          "frozenset({'H2'})",
          "frozenset({'Redis'})",
          "frozenset({'SAP Adaptive Server'})",
          "frozenset({'HBase'})",
          "frozenset({'Ehcache'})",
          "frozenset({'H2'})",
          "frozenset({'MariaDB'})",
          "frozenset({'PostgreSQL'})",
          "frozenset({'MySQL'})",
          "frozenset({'Oracle'})",
          "frozenset({'Oracle'})",
          "frozenset({'PostgreSQL'})",
          "frozenset({'MySQL'})",
          "frozenset({'PostgreSQL'})",
          "frozenset({'MS SQL Server'})",
          "frozenset({'MS SQL Server'})",
          "frozenset({'MySQL'})",
          "frozenset({'H2'})",
          "frozenset({'Redis'})",
          "frozenset({'MySQL'})",
          "frozenset({'MySQL'})",
          "frozenset({'MySQL'})",
          "frozenset({'Oracle'})",
          "frozenset({'PostgreSQL'})",
          "frozenset({'PostgreSQL'})",
          "frozenset({'MariaDB'})",
          "frozenset({'IBM DB2'})",
          "frozenset({'H2'})",
          "frozenset({'MS SQL Server'})",
          "frozenset({'Ehcache'})",
          "frozenset({'IBM DB2'})",
          "frozenset({'PostgreSQL'})",
          "frozenset({'SAP Adaptive Server'})",
          "frozenset({'MongoDB'})",
          "frozenset({'SQLite'})",
          "frozenset({'Elasticsearch'})",
          "frozenset({'Ehcache'})",
          "frozenset({'MongoDB'})",
          "frozenset({'Hive'})",
          "frozenset({'SQLite'})",
          "frozenset({'MySQL'})",
          "frozenset({'MySQL'})",
          "frozenset({'IBM DB2'})",
          "frozenset({'PostgreSQL'})",
          "frozenset({'Oracle'})",
          "frozenset({'Google Cloud Datastore'})",
          "frozenset({'HBase'})",
          "frozenset({'Ehcache'})",
          "frozenset({'HBase'})",
          "frozenset({'MySQL'})",
          "frozenset({'H2'})",
          "frozenset({'Elasticsearch'})",
          "frozenset({'Elasticsearch'})",
          "frozenset({'MariaDB'})",
          "frozenset({'Elasticsearch'})",
          "frozenset({'MariaDB'})",
          "frozenset({'HBase'})",
          "frozenset({'Ehcache'})",
          "frozenset({'MS SQL Server'})",
          "frozenset({'MySQL'})",
          "frozenset({'Redis'})",
          "frozenset({'Elasticsearch'})",
          "frozenset({'H2'})",
          "frozenset({'SAP Adaptive Server'})",
          "frozenset({'SQLite'})",
          "frozenset({'PostgreSQL'})",
          "frozenset({'Oracle'})",
          "frozenset({'Redis'})",
          "frozenset({'MS SQL Server'})",
          "frozenset({'SAP Adaptive Server'})",
          "frozenset({'SQLite'})",
          "frozenset({'IBM DB2'})",
          "frozenset({'PostgreSQL'})",
          "frozenset({'Redis'})",
          "frozenset({'MS SQL Server'})",
          "frozenset({'Elasticsearch'})",
          "frozenset({'H2'})",
          "frozenset({'Ehcache'})",
          "frozenset({'HBase'})",
          "frozenset({'Cassandra'})",
          "frozenset({'Cassandra'})",
          "frozenset({'Redis'})",
          "frozenset({'MariaDB'})",
          "frozenset({'Elasticsearch'})",
          "frozenset({'HBase'})"
         ],
         "xaxis": "x",
         "y": [
          "frozenset({'MySQL'})",
          "frozenset({'MySQL'})",
          "frozenset({'Oracle'})",
          "frozenset({'Oracle'})",
          "frozenset({'PostgreSQL'})",
          "frozenset({'MySQL'})",
          "frozenset({'MS SQL Server'})",
          "frozenset({'MySQL'})",
          "frozenset({'H2'})",
          "frozenset({'MySQL'})",
          "frozenset({'MySQL'})",
          "frozenset({'PostgreSQL'})",
          "frozenset({'Ehcache'})",
          "frozenset({'H2'})",
          "frozenset({'SQLite'})",
          "frozenset({'MariaDB'})",
          "frozenset({'SAP Adaptive Server'})",
          "frozenset({'SAP Adaptive Server'})",
          "frozenset({'Redis'})",
          "frozenset({'IBM DB2'})",
          "frozenset({'Ehcache'})",
          "frozenset({'Hive'})",
          "frozenset({'SAP Adaptive Server'})",
          "frozenset({'Oracle'})",
          "frozenset({'MS SQL Server'})",
          "frozenset({'MySQL'})",
          "frozenset({'PostgreSQL'})",
          "frozenset({'MS Access'})",
          "frozenset({'Redis'})",
          "frozenset({'Informix'})",
          "frozenset({'Redis'})",
          "frozenset({'MS Access'})",
          "frozenset({'Redis'})",
          "frozenset({'Informix'})",
          "frozenset({'SapHana'})",
          "frozenset({'SapHana'})",
          "frozenset({'SapHana'})",
          "frozenset({'SapHana'})",
          "frozenset({'Informix'})",
          "frozenset({'PostgreSQL'})",
          "frozenset({'SapHana'})",
          "frozenset({'Solr'})",
          "frozenset({'Solr'})",
          "frozenset({'SapHana'})",
          "frozenset({'Redis'})",
          "frozenset({'Solr'})",
          "frozenset({'PostgreSQL'})",
          "frozenset({'Solr'})",
          "frozenset({'Informix'})",
          "frozenset({'Hive'})",
          "frozenset({'MS Access'})",
          "frozenset({'Cassandra'})",
          "frozenset({'HBase'})",
          "frozenset({'MariaDB'})",
          "frozenset({'MySQL'})",
          "frozenset({'MongoDB'})",
          "frozenset({'Oracle'})",
          "frozenset({'MariaDB'})",
          "frozenset({'MongoDB'})",
          "frozenset({'Solr'})",
          "frozenset({'MariaDB'})",
          "frozenset({'H2'})",
          "frozenset({'Hive'})",
          "frozenset({'HBase'})",
          "frozenset({'Cassandra'})",
          "frozenset({'MS SQL Server'})",
          "frozenset({'HBase'})",
          "frozenset({'SAP Adaptive Server'})",
          "frozenset({'H2'})",
          "frozenset({'H2'})",
          "frozenset({'Hive'})",
          "frozenset({'SAP Adaptive Server'})",
          "frozenset({'Google Cloud Datastore'})",
          "frozenset({'SQLite'})",
          "frozenset({'Cassandra'})",
          "frozenset({'SapHana'})",
          "frozenset({'SapHana'})",
          "frozenset({'SAP Adaptive Server'})",
          "frozenset({'Elasticsearch'})",
          "frozenset({'DynamoDB'})",
          "frozenset({'DynamoDB'})",
          "frozenset({'Ehcache'})",
          "frozenset({'Informix'})",
          "frozenset({'Ehcache'})",
          "frozenset({'Ehcache'})",
          "frozenset({'Elasticsearch'})",
          "frozenset({'Elasticsearch'})",
          "frozenset({'Elasticsearch'})",
          "frozenset({'Informix'})",
          "frozenset({'IBM DB2'})",
          "frozenset({'Cassandra'})",
          "frozenset({'IBM DB2'})",
          "frozenset({'IBM DB2'})",
          "frozenset({'MS SQL Server'})",
          "frozenset({'MS SQL Server'})",
          "frozenset({'MariaDB'})",
          "frozenset({'Memcached'})",
          "frozenset({'MongoDB'})",
          "frozenset({'MySQL'})",
          "frozenset({'MySQL'})",
          "frozenset({'MS SQL Server'})",
          "frozenset({'Informix'})",
          "frozenset({'Cassandra'})",
          "frozenset({'SQLite'})",
          "frozenset({'Google Cloud Datastore'})",
          "frozenset({'PostgreSQL'})",
          "frozenset({'SQLite'})",
          "frozenset({'Redis'})",
          "frozenset({'Redis'})",
          "frozenset({'SAP Adaptive Server'})",
          "frozenset({'Informix'})",
          "frozenset({'SAP Adaptive Server'})",
          "frozenset({'PostgreSQL'})",
          "frozenset({'Oracle'})",
          "frozenset({'MariaDB'})",
          "frozenset({'H2'})",
          "frozenset({'Cassandra'})",
          "frozenset({'H2'})",
          "frozenset({'H2'})",
          "frozenset({'HBase'})",
          "frozenset({'HBase'})",
          "frozenset({'HBase'})",
          "frozenset({'Hive'})",
          "frozenset({'IBM DB2'})",
          "frozenset({'Informix'})",
          "frozenset({'Firebird'})",
          "frozenset({'Oracle'})",
          "frozenset({'Google Cloud Datastore'})",
          "frozenset({'MariaDB'})",
          "frozenset({'PostgreSQL'})",
          "frozenset({'H2'})",
          "frozenset({'MySQL'})",
          "frozenset({'MongoDB'})",
          "frozenset({'MySQL'})",
          "frozenset({'Redis'})",
          "frozenset({'PostgreSQL'})",
          "frozenset({'MySQL'})",
          "frozenset({'H2'})",
          "frozenset({'Oracle'})",
          "frozenset({'Elasticsearch'})",
          "frozenset({'MariaDB'})",
          "frozenset({'H2'})",
          "frozenset({'HBase'})",
          "frozenset({'Redis'})",
          "frozenset({'SAP Adaptive Server'})",
          "frozenset({'H2'})",
          "frozenset({'SQLite'})",
          "frozenset({'MySQL'})",
          "frozenset({'Redis'})",
          "frozenset({'PostgreSQL'})",
          "frozenset({'Ehcache'})",
          "frozenset({'Oracle'})",
          "frozenset({'Oracle'})",
          "frozenset({'MySQL'})",
          "frozenset({'Oracle'})",
          "frozenset({'IBM DB2'})",
          "frozenset({'SQLite'})",
          "frozenset({'Ehcache'})",
          "frozenset({'H2'})",
          "frozenset({'MySQL'})",
          "frozenset({'PostgreSQL'})",
          "frozenset({'H2'})",
          "frozenset({'MS SQL Server'})",
          "frozenset({'MS SQL Server'})",
          "frozenset({'PostgreSQL'})",
          "frozenset({'Oracle'})",
          "frozenset({'MariaDB'})",
          "frozenset({'Oracle'})",
          "frozenset({'MySQL'})",
          "frozenset({'Redis'})",
          "frozenset({'Ehcache'})",
          "frozenset({'IBM DB2'})",
          "frozenset({'IBM DB2'})",
          "frozenset({'IBM DB2'})",
          "frozenset({'MariaDB'})",
          "frozenset({'PostgreSQL'})",
          "frozenset({'Oracle'})",
          "frozenset({'MS SQL Server'})",
          "frozenset({'IBM DB2'})",
          "frozenset({'PostgreSQL'})",
          "frozenset({'MS SQL Server'})",
          "frozenset({'MongoDB'})",
          "frozenset({'PostgreSQL'})",
          "frozenset({'PostgreSQL'})",
          "frozenset({'H2'})",
          "frozenset({'Cassandra'})",
          "frozenset({'MS SQL Server'})",
          "frozenset({'Oracle'})",
          "frozenset({'MySQL'})",
          "frozenset({'IBM DB2'})",
          "frozenset({'Hive'})",
          "frozenset({'Google Cloud Datastore'})",
          "frozenset({'SQLite'})",
          "frozenset({'HBase'})",
          "frozenset({'MongoDB'})",
          "frozenset({'MySQL'})",
          "frozenset({'PostgreSQL'})",
          "frozenset({'MariaDB'})",
          "frozenset({'H2'})",
          "frozenset({'PostgreSQL'})",
          "frozenset({'HBase'})",
          "frozenset({'HBase'})",
          "frozenset({'Ehcache'})",
          "frozenset({'Ehcache'})",
          "frozenset({'MongoDB'})",
          "frozenset({'IBM DB2'})",
          "frozenset({'Elasticsearch'})",
          "frozenset({'MongoDB'})",
          "frozenset({'MariaDB'})",
          "frozenset({'Cassandra'})",
          "frozenset({'Cassandra'})",
          "frozenset({'Redis'})",
          "frozenset({'SQLite'})",
          "frozenset({'H2'})",
          "frozenset({'Oracle'})",
          "frozenset({'SAP Adaptive Server'})",
          "frozenset({'SQLite'})",
          "frozenset({'Elasticsearch'})",
          "frozenset({'SQLite'})",
          "frozenset({'MS SQL Server'})",
          "frozenset({'MS SQL Server'})",
          "frozenset({'SAP Adaptive Server'})",
          "frozenset({'Elasticsearch'})",
          "frozenset({'HBase'})",
          "frozenset({'SAP Adaptive Server'})",
          "frozenset({'PostgreSQL'})",
          "frozenset({'Elasticsearch'})",
          "frozenset({'Redis'})",
          "frozenset({'Redis'})",
          "frozenset({'Elasticsearch'})",
          "frozenset({'MySQL'})",
          "frozenset({'Ehcache'})",
          "frozenset({'MS SQL Server'})",
          "frozenset({'H2'})",
          "frozenset({'MariaDB'})"
         ],
         "yaxis": "y"
        }
       ],
       "layout": {
        "coloraxis": {
         "colorbar": {
          "title": {
           "text": "support_abs"
          }
         },
         "colorscale": [
          [
           0,
           "silver"
          ],
          [
           1,
           "gray"
          ]
         ]
        },
        "legend": {
         "itemsizing": "constant",
         "tracegroupgap": 0
        },
        "template": {
         "data": {
          "bar": [
           {
            "error_x": {
             "color": "#2a3f5f"
            },
            "error_y": {
             "color": "#2a3f5f"
            },
            "marker": {
             "line": {
              "color": "#E5ECF6",
              "width": 0.5
             },
             "pattern": {
              "fillmode": "overlay",
              "size": 10,
              "solidity": 0.2
             }
            },
            "type": "bar"
           }
          ],
          "barpolar": [
           {
            "marker": {
             "line": {
              "color": "#E5ECF6",
              "width": 0.5
             },
             "pattern": {
              "fillmode": "overlay",
              "size": 10,
              "solidity": 0.2
             }
            },
            "type": "barpolar"
           }
          ],
          "carpet": [
           {
            "aaxis": {
             "endlinecolor": "#2a3f5f",
             "gridcolor": "white",
             "linecolor": "white",
             "minorgridcolor": "white",
             "startlinecolor": "#2a3f5f"
            },
            "baxis": {
             "endlinecolor": "#2a3f5f",
             "gridcolor": "white",
             "linecolor": "white",
             "minorgridcolor": "white",
             "startlinecolor": "#2a3f5f"
            },
            "type": "carpet"
           }
          ],
          "choropleth": [
           {
            "colorbar": {
             "outlinewidth": 0,
             "ticks": ""
            },
            "type": "choropleth"
           }
          ],
          "contour": [
           {
            "colorbar": {
             "outlinewidth": 0,
             "ticks": ""
            },
            "colorscale": [
             [
              0,
              "#0d0887"
             ],
             [
              0.1111111111111111,
              "#46039f"
             ],
             [
              0.2222222222222222,
              "#7201a8"
             ],
             [
              0.3333333333333333,
              "#9c179e"
             ],
             [
              0.4444444444444444,
              "#bd3786"
             ],
             [
              0.5555555555555556,
              "#d8576b"
             ],
             [
              0.6666666666666666,
              "#ed7953"
             ],
             [
              0.7777777777777778,
              "#fb9f3a"
             ],
             [
              0.8888888888888888,
              "#fdca26"
             ],
             [
              1,
              "#f0f921"
             ]
            ],
            "type": "contour"
           }
          ],
          "contourcarpet": [
           {
            "colorbar": {
             "outlinewidth": 0,
             "ticks": ""
            },
            "type": "contourcarpet"
           }
          ],
          "heatmap": [
           {
            "colorbar": {
             "outlinewidth": 0,
             "ticks": ""
            },
            "colorscale": [
             [
              0,
              "#0d0887"
             ],
             [
              0.1111111111111111,
              "#46039f"
             ],
             [
              0.2222222222222222,
              "#7201a8"
             ],
             [
              0.3333333333333333,
              "#9c179e"
             ],
             [
              0.4444444444444444,
              "#bd3786"
             ],
             [
              0.5555555555555556,
              "#d8576b"
             ],
             [
              0.6666666666666666,
              "#ed7953"
             ],
             [
              0.7777777777777778,
              "#fb9f3a"
             ],
             [
              0.8888888888888888,
              "#fdca26"
             ],
             [
              1,
              "#f0f921"
             ]
            ],
            "type": "heatmap"
           }
          ],
          "heatmapgl": [
           {
            "colorbar": {
             "outlinewidth": 0,
             "ticks": ""
            },
            "colorscale": [
             [
              0,
              "#0d0887"
             ],
             [
              0.1111111111111111,
              "#46039f"
             ],
             [
              0.2222222222222222,
              "#7201a8"
             ],
             [
              0.3333333333333333,
              "#9c179e"
             ],
             [
              0.4444444444444444,
              "#bd3786"
             ],
             [
              0.5555555555555556,
              "#d8576b"
             ],
             [
              0.6666666666666666,
              "#ed7953"
             ],
             [
              0.7777777777777778,
              "#fb9f3a"
             ],
             [
              0.8888888888888888,
              "#fdca26"
             ],
             [
              1,
              "#f0f921"
             ]
            ],
            "type": "heatmapgl"
           }
          ],
          "histogram": [
           {
            "marker": {
             "pattern": {
              "fillmode": "overlay",
              "size": 10,
              "solidity": 0.2
             }
            },
            "type": "histogram"
           }
          ],
          "histogram2d": [
           {
            "colorbar": {
             "outlinewidth": 0,
             "ticks": ""
            },
            "colorscale": [
             [
              0,
              "#0d0887"
             ],
             [
              0.1111111111111111,
              "#46039f"
             ],
             [
              0.2222222222222222,
              "#7201a8"
             ],
             [
              0.3333333333333333,
              "#9c179e"
             ],
             [
              0.4444444444444444,
              "#bd3786"
             ],
             [
              0.5555555555555556,
              "#d8576b"
             ],
             [
              0.6666666666666666,
              "#ed7953"
             ],
             [
              0.7777777777777778,
              "#fb9f3a"
             ],
             [
              0.8888888888888888,
              "#fdca26"
             ],
             [
              1,
              "#f0f921"
             ]
            ],
            "type": "histogram2d"
           }
          ],
          "histogram2dcontour": [
           {
            "colorbar": {
             "outlinewidth": 0,
             "ticks": ""
            },
            "colorscale": [
             [
              0,
              "#0d0887"
             ],
             [
              0.1111111111111111,
              "#46039f"
             ],
             [
              0.2222222222222222,
              "#7201a8"
             ],
             [
              0.3333333333333333,
              "#9c179e"
             ],
             [
              0.4444444444444444,
              "#bd3786"
             ],
             [
              0.5555555555555556,
              "#d8576b"
             ],
             [
              0.6666666666666666,
              "#ed7953"
             ],
             [
              0.7777777777777778,
              "#fb9f3a"
             ],
             [
              0.8888888888888888,
              "#fdca26"
             ],
             [
              1,
              "#f0f921"
             ]
            ],
            "type": "histogram2dcontour"
           }
          ],
          "mesh3d": [
           {
            "colorbar": {
             "outlinewidth": 0,
             "ticks": ""
            },
            "type": "mesh3d"
           }
          ],
          "parcoords": [
           {
            "line": {
             "colorbar": {
              "outlinewidth": 0,
              "ticks": ""
             }
            },
            "type": "parcoords"
           }
          ],
          "pie": [
           {
            "automargin": true,
            "type": "pie"
           }
          ],
          "scatter": [
           {
            "fillpattern": {
             "fillmode": "overlay",
             "size": 10,
             "solidity": 0.2
            },
            "type": "scatter"
           }
          ],
          "scatter3d": [
           {
            "line": {
             "colorbar": {
              "outlinewidth": 0,
              "ticks": ""
             }
            },
            "marker": {
             "colorbar": {
              "outlinewidth": 0,
              "ticks": ""
             }
            },
            "type": "scatter3d"
           }
          ],
          "scattercarpet": [
           {
            "marker": {
             "colorbar": {
              "outlinewidth": 0,
              "ticks": ""
             }
            },
            "type": "scattercarpet"
           }
          ],
          "scattergeo": [
           {
            "marker": {
             "colorbar": {
              "outlinewidth": 0,
              "ticks": ""
             }
            },
            "type": "scattergeo"
           }
          ],
          "scattergl": [
           {
            "marker": {
             "colorbar": {
              "outlinewidth": 0,
              "ticks": ""
             }
            },
            "type": "scattergl"
           }
          ],
          "scattermapbox": [
           {
            "marker": {
             "colorbar": {
              "outlinewidth": 0,
              "ticks": ""
             }
            },
            "type": "scattermapbox"
           }
          ],
          "scatterpolar": [
           {
            "marker": {
             "colorbar": {
              "outlinewidth": 0,
              "ticks": ""
             }
            },
            "type": "scatterpolar"
           }
          ],
          "scatterpolargl": [
           {
            "marker": {
             "colorbar": {
              "outlinewidth": 0,
              "ticks": ""
             }
            },
            "type": "scatterpolargl"
           }
          ],
          "scatterternary": [
           {
            "marker": {
             "colorbar": {
              "outlinewidth": 0,
              "ticks": ""
             }
            },
            "type": "scatterternary"
           }
          ],
          "surface": [
           {
            "colorbar": {
             "outlinewidth": 0,
             "ticks": ""
            },
            "colorscale": [
             [
              0,
              "#0d0887"
             ],
             [
              0.1111111111111111,
              "#46039f"
             ],
             [
              0.2222222222222222,
              "#7201a8"
             ],
             [
              0.3333333333333333,
              "#9c179e"
             ],
             [
              0.4444444444444444,
              "#bd3786"
             ],
             [
              0.5555555555555556,
              "#d8576b"
             ],
             [
              0.6666666666666666,
              "#ed7953"
             ],
             [
              0.7777777777777778,
              "#fb9f3a"
             ],
             [
              0.8888888888888888,
              "#fdca26"
             ],
             [
              1,
              "#f0f921"
             ]
            ],
            "type": "surface"
           }
          ],
          "table": [
           {
            "cells": {
             "fill": {
              "color": "#EBF0F8"
             },
             "line": {
              "color": "white"
             }
            },
            "header": {
             "fill": {
              "color": "#C8D4E3"
             },
             "line": {
              "color": "white"
             }
            },
            "type": "table"
           }
          ]
         },
         "layout": {
          "annotationdefaults": {
           "arrowcolor": "#2a3f5f",
           "arrowhead": 0,
           "arrowwidth": 1
          },
          "autotypenumbers": "strict",
          "coloraxis": {
           "colorbar": {
            "outlinewidth": 0,
            "ticks": ""
           }
          },
          "colorscale": {
           "diverging": [
            [
             0,
             "#8e0152"
            ],
            [
             0.1,
             "#c51b7d"
            ],
            [
             0.2,
             "#de77ae"
            ],
            [
             0.3,
             "#f1b6da"
            ],
            [
             0.4,
             "#fde0ef"
            ],
            [
             0.5,
             "#f7f7f7"
            ],
            [
             0.6,
             "#e6f5d0"
            ],
            [
             0.7,
             "#b8e186"
            ],
            [
             0.8,
             "#7fbc41"
            ],
            [
             0.9,
             "#4d9221"
            ],
            [
             1,
             "#276419"
            ]
           ],
           "sequential": [
            [
             0,
             "#0d0887"
            ],
            [
             0.1111111111111111,
             "#46039f"
            ],
            [
             0.2222222222222222,
             "#7201a8"
            ],
            [
             0.3333333333333333,
             "#9c179e"
            ],
            [
             0.4444444444444444,
             "#bd3786"
            ],
            [
             0.5555555555555556,
             "#d8576b"
            ],
            [
             0.6666666666666666,
             "#ed7953"
            ],
            [
             0.7777777777777778,
             "#fb9f3a"
            ],
            [
             0.8888888888888888,
             "#fdca26"
            ],
            [
             1,
             "#f0f921"
            ]
           ],
           "sequentialminus": [
            [
             0,
             "#0d0887"
            ],
            [
             0.1111111111111111,
             "#46039f"
            ],
            [
             0.2222222222222222,
             "#7201a8"
            ],
            [
             0.3333333333333333,
             "#9c179e"
            ],
            [
             0.4444444444444444,
             "#bd3786"
            ],
            [
             0.5555555555555556,
             "#d8576b"
            ],
            [
             0.6666666666666666,
             "#ed7953"
            ],
            [
             0.7777777777777778,
             "#fb9f3a"
            ],
            [
             0.8888888888888888,
             "#fdca26"
            ],
            [
             1,
             "#f0f921"
            ]
           ]
          },
          "colorway": [
           "#636efa",
           "#EF553B",
           "#00cc96",
           "#ab63fa",
           "#FFA15A",
           "#19d3f3",
           "#FF6692",
           "#B6E880",
           "#FF97FF",
           "#FECB52"
          ],
          "font": {
           "color": "#2a3f5f"
          },
          "geo": {
           "bgcolor": "white",
           "lakecolor": "white",
           "landcolor": "#E5ECF6",
           "showlakes": true,
           "showland": true,
           "subunitcolor": "white"
          },
          "hoverlabel": {
           "align": "left"
          },
          "hovermode": "closest",
          "mapbox": {
           "style": "light"
          },
          "paper_bgcolor": "white",
          "plot_bgcolor": "#E5ECF6",
          "polar": {
           "angularaxis": {
            "gridcolor": "white",
            "linecolor": "white",
            "ticks": ""
           },
           "bgcolor": "#E5ECF6",
           "radialaxis": {
            "gridcolor": "white",
            "linecolor": "white",
            "ticks": ""
           }
          },
          "scene": {
           "xaxis": {
            "backgroundcolor": "#E5ECF6",
            "gridcolor": "white",
            "gridwidth": 2,
            "linecolor": "white",
            "showbackground": true,
            "ticks": "",
            "zerolinecolor": "white"
           },
           "yaxis": {
            "backgroundcolor": "#E5ECF6",
            "gridcolor": "white",
            "gridwidth": 2,
            "linecolor": "white",
            "showbackground": true,
            "ticks": "",
            "zerolinecolor": "white"
           },
           "zaxis": {
            "backgroundcolor": "#E5ECF6",
            "gridcolor": "white",
            "gridwidth": 2,
            "linecolor": "white",
            "showbackground": true,
            "ticks": "",
            "zerolinecolor": "white"
           }
          },
          "shapedefaults": {
           "line": {
            "color": "#2a3f5f"
           }
          },
          "ternary": {
           "aaxis": {
            "gridcolor": "white",
            "linecolor": "white",
            "ticks": ""
           },
           "baxis": {
            "gridcolor": "white",
            "linecolor": "white",
            "ticks": ""
           },
           "bgcolor": "#E5ECF6",
           "caxis": {
            "gridcolor": "white",
            "linecolor": "white",
            "ticks": ""
           }
          },
          "title": {
           "x": 0.05
          },
          "xaxis": {
           "automargin": true,
           "gridcolor": "white",
           "linecolor": "white",
           "ticks": "",
           "title": {
            "standoff": 15
           },
           "zerolinecolor": "white",
           "zerolinewidth": 2
          },
          "yaxis": {
           "automargin": true,
           "gridcolor": "white",
           "linecolor": "white",
           "ticks": "",
           "title": {
            "standoff": 15
           },
           "zerolinecolor": "white",
           "zerolinewidth": 2
          }
         }
        },
        "title": {
         "text": "Correlation of the most frequent databases in the fifth version"
        },
        "width": 2000,
        "xaxis": {
         "anchor": "y",
         "domain": [
          0,
          1
         ],
         "title": {
          "text": "consequents"
         }
        },
        "yaxis": {
         "anchor": "x",
         "domain": [
          0,
          1
         ],
         "title": {
          "text": "antecedents"
         }
        }
       }
      },
      "text/html": [
       "<div>                            <div id=\"9d924f17-16e8-4ae7-912f-b2e5ab83b365\" class=\"plotly-graph-div\" style=\"height:525px; width:2000px;\"></div>            <script type=\"text/javascript\">                require([\"plotly\"], function(Plotly) {                    window.PLOTLYENV=window.PLOTLYENV || {};                                    if (document.getElementById(\"9d924f17-16e8-4ae7-912f-b2e5ab83b365\")) {                    Plotly.newPlot(                        \"9d924f17-16e8-4ae7-912f-b2e5ab83b365\",                        [{\"customdata\":[[44],[35],[34],[31],[27],[25],[22],[21],[19],[19],[18],[17],[15],[15],[14],[13],[12],[11],[9],[9],[7],[7],[5],[5],[0],[0],[0],[0],[0],[0],[0],[0],[0],[0],[0],[0],[0],[0],[0],[0],[0],[0],[0],[0],[0],[0],[0],[0],[0],[0],[0],[0],[0],[0],[0],[0],[0],[0],[0],[0],[0],[0],[0],[0],[0],[0],[0],[0],[0],[0],[0],[0],[0],[0],[0],[0],[0],[0],[0],[0],[0],[0],[0],[0],[0],[0],[0],[0],[0],[0],[0],[0],[0],[0],[0],[0],[0],[0],[0],[0],[0],[0],[0],[0],[0],[0],[0],[0],[0],[0],[0],[0],[0],[0],[0],[0],[0],[0],[0],[0],[0],[0],[0],[0],[0],[0],[0],[0],[0],[0],[0],[0],[0],[0],[0],[0],[0],[0],[0],[0],[0],[0],[0],[0],[0],[0],[0],[0],[0],[0],[0],[0],[0],[0],[0],[0],[0],[0],[0],[0],[0],[0],[0],[0],[0],[0],[0],[0],[0],[0],[0],[0],[0],[0],[0],[0],[0],[0],[0],[0],[0],[0],[0],[0],[0],[0],[0],[0],[0],[0],[0],[0],[0],[0],[0],[0],[0],[0],[0],[0],[0],[0],[0],[0],[0],[0],[0],[0],[0],[0],[0],[0],[0],[0],[0],[0],[0],[0],[0],[0],[0],[0],[0],[0],[0],[0],[0],[0],[0],[0],[0],[0],[0],[0],[0]],\"hovertemplate\":\"consequents=%{x}<br>antecedents=%{y}<br>support_abs=%{marker.color}<extra></extra>\",\"legendgroup\":\"\",\"marker\":{\"color\":[44,35,34,31,27,25,22,21,19,19,18,17,15,15,14,13,12,11,9,9,7,7,5,5,0,0,0,0,0,0,0,0,0,0,0,0,0,0,0,0,0,0,0,0,0,0,0,0,0,0,0,0,0,0,0,0,0,0,0,0,0,0,0,0,0,0,0,0,0,0,0,0,0,0,0,0,0,0,0,0,0,0,0,0,0,0,0,0,0,0,0,0,0,0,0,0,0,0,0,0,0,0,0,0,0,0,0,0,0,0,0,0,0,0,0,0,0,0,0,0,0,0,0,0,0,0,0,0,0,0,0,0,0,0,0,0,0,0,0,0,0,0,0,0,0,0,0,0,0,0,0,0,0,0,0,0,0,0,0,0,0,0,0,0,0,0,0,0,0,0,0,0,0,0,0,0,0,0,0,0,0,0,0,0,0,0,0,0,0,0,0,0,0,0,0,0,0,0,0,0,0,0,0,0,0,0,0,0,0,0,0,0,0,0,0,0,0,0,0,0,0,0,0,0,0,0,0,0,0,0,0,0,0,0,0],\"coloraxis\":\"coloraxis\",\"size\":[44,35,34,31,27,25,22,21,19,19,18,17,15,15,14,13,12,11,9,9,7,7,5,5,0,0,0,0,0,0,0,0,0,0,0,0,0,0,0,0,0,0,0,0,0,0,0,0,0,0,0,0,0,0,0,0,0,0,0,0,0,0,0,0,0,0,0,0,0,0,0,0,0,0,0,0,0,0,0,0,0,0,0,0,0,0,0,0,0,0,0,0,0,0,0,0,0,0,0,0,0,0,0,0,0,0,0,0,0,0,0,0,0,0,0,0,0,0,0,0,0,0,0,0,0,0,0,0,0,0,0,0,0,0,0,0,0,0,0,0,0,0,0,0,0,0,0,0,0,0,0,0,0,0,0,0,0,0,0,0,0,0,0,0,0,0,0,0,0,0,0,0,0,0,0,0,0,0,0,0,0,0,0,0,0,0,0,0,0,0,0,0,0,0,0,0,0,0,0,0,0,0,0,0,0,0,0,0,0,0,0,0,0,0,0,0,0,0,0,0,0,0,0,0,0,0,0,0,0,0,0,0,0,0,0],\"sizemode\":\"area\",\"sizeref\":0.11,\"symbol\":\"circle\"},\"mode\":\"markers\",\"name\":\"\",\"orientation\":\"v\",\"showlegend\":false,\"x\":[\"frozenset({'PostgreSQL'})\",\"frozenset({'H2'})\",\"frozenset({'MySQL'})\",\"frozenset({'PostgreSQL'})\",\"frozenset({'H2'})\",\"frozenset({'MS SQL Server'})\",\"frozenset({'Oracle'})\",\"frozenset({'MariaDB'})\",\"frozenset({'Oracle'})\",\"frozenset({'Ehcache'})\",\"frozenset({'IBM DB2'})\",\"frozenset({'IBM DB2'})\",\"frozenset({'Oracle'})\",\"frozenset({'MS SQL Server'})\",\"frozenset({'MySQL'})\",\"frozenset({'H2'})\",\"frozenset({'MySQL'})\",\"frozenset({'H2'})\",\"frozenset({'Cassandra'})\",\"frozenset({'SAP Adaptive Server'})\",\"frozenset({'MS SQL Server'})\",\"frozenset({'PostgreSQL'})\",\"frozenset({'Firebird'})\",\"frozenset({'HBase'})\",\"frozenset({'Redis'})\",\"frozenset({'Informix'})\",\"frozenset({'Cassandra'})\",\"frozenset({'MySQL'})\",\"frozenset({'Solr'})\",\"frozenset({'H2'})\",\"frozenset({'MariaDB'})\",\"frozenset({'Oracle'})\",\"frozenset({'Hive'})\",\"frozenset({'SQLite'})\",\"frozenset({'SQLite'})\",\"frozenset({'MySQL'})\",\"frozenset({'Oracle'})\",\"frozenset({'PostgreSQL'})\",\"frozenset({'PostgreSQL'})\",\"frozenset({'DynamoDB'})\",\"frozenset({'SAP Adaptive Server'})\",\"frozenset({'Elasticsearch'})\",\"frozenset({'Cassandra'})\",\"frozenset({'IBM DB2'})\",\"frozenset({'DynamoDB'})\",\"frozenset({'HBase'})\",\"frozenset({'SapHana'})\",\"frozenset({'MySQL'})\",\"frozenset({'Oracle'})\",\"frozenset({'HBase'})\",\"frozenset({'H2'})\",\"frozenset({'HBase'})\",\"frozenset({'Oracle'})\",\"frozenset({'SAP Adaptive Server'})\",\"frozenset({'MS Access'})\",\"frozenset({'Cassandra'})\",\"frozenset({'MS Access'})\",\"frozenset({'Redis'})\",\"frozenset({'MariaDB'})\",\"frozenset({'Redis'})\",\"frozenset({'MongoDB'})\",\"frozenset({'Hive'})\",\"frozenset({'H2'})\",\"frozenset({'Hive'})\",\"frozenset({'MongoDB'})\",\"frozenset({'HBase'})\",\"frozenset({'Cassandra'})\",\"frozenset({'MariaDB'})\",\"frozenset({'Informix'})\",\"frozenset({'Google Cloud Datastore'})\",\"frozenset({'Redis'})\",\"frozenset({'SQLite'})\",\"frozenset({'H2'})\",\"frozenset({'SAP Adaptive Server'})\",\"frozenset({'PostgreSQL'})\",\"frozenset({'MS SQL Server'})\",\"frozenset({'H2'})\",\"frozenset({'Elasticsearch'})\",\"frozenset({'Solr'})\",\"frozenset({'PostgreSQL'})\",\"frozenset({'Redis'})\",\"frozenset({'IBM DB2'})\",\"frozenset({'Firebird'})\",\"frozenset({'Memcached'})\",\"frozenset({'SAP Adaptive Server'})\",\"frozenset({'Hive'})\",\"frozenset({'MS SQL Server'})\",\"frozenset({'SAP Adaptive Server'})\",\"frozenset({'SAP Adaptive Server'})\",\"frozenset({'Firebird'})\",\"frozenset({'Solr'})\",\"frozenset({'Informix'})\",\"frozenset({'MongoDB'})\",\"frozenset({'SapHana'})\",\"frozenset({'MS Access'})\",\"frozenset({'Cassandra'})\",\"frozenset({'Ehcache'})\",\"frozenset({'IBM DB2'})\",\"frozenset({'Amazon Redshift'})\",\"frozenset({'DynamoDB'})\",\"frozenset({'MongoDB'})\",\"frozenset({'IBM DB2'})\",\"frozenset({'MariaDB'})\",\"frozenset({'SapHana'})\",\"frozenset({'Redis'})\",\"frozenset({'MS Access'})\",\"frozenset({'Informix'})\",\"frozenset({'Google Cloud Datastore'})\",\"frozenset({'MS SQL Server'})\",\"frozenset({'Informix'})\",\"frozenset({'MySQL'})\",\"frozenset({'Ehcache'})\",\"frozenset({'Google Cloud Datastore'})\",\"frozenset({'SapHana'})\",\"frozenset({'SQLite'})\",\"frozenset({'Cassandra'})\",\"frozenset({'H2'})\",\"frozenset({'Firebird'})\",\"frozenset({'MS Access'})\",\"frozenset({'MS SQL Server'})\",\"frozenset({'MariaDB'})\",\"frozenset({'Solr'})\",\"frozenset({'Elasticsearch'})\",\"frozenset({'Ehcache'})\",\"frozenset({'MS SQL Server'})\",\"frozenset({'Informix'})\",\"frozenset({'Informix'})\",\"frozenset({'PostgreSQL'})\",\"frozenset({'IBM DB2'})\",\"frozenset({'Hive'})\",\"frozenset({'IBM DB2'})\",\"frozenset({'MongoDB'})\",\"frozenset({'MySQL'})\",\"frozenset({'SQLite'})\",\"frozenset({'PostgreSQL'})\",\"frozenset({'Redis'})\",\"frozenset({'Elasticsearch'})\",\"frozenset({'MariaDB'})\",\"frozenset({'MariaDB'})\",\"frozenset({'MySQL'})\",\"frozenset({'Oracle'})\",\"frozenset({'Redis'})\",\"frozenset({'MySQL'})\",\"frozenset({'Oracle'})\",\"frozenset({'Oracle'})\",\"frozenset({'Ehcache'})\",\"frozenset({'PostgreSQL'})\",\"frozenset({'SAP Adaptive Server'})\",\"frozenset({'H2'})\",\"frozenset({'SQLite'})\",\"frozenset({'H2'})\",\"frozenset({'Redis'})\",\"frozenset({'SAP Adaptive Server'})\",\"frozenset({'HBase'})\",\"frozenset({'Ehcache'})\",\"frozenset({'H2'})\",\"frozenset({'MariaDB'})\",\"frozenset({'PostgreSQL'})\",\"frozenset({'MySQL'})\",\"frozenset({'Oracle'})\",\"frozenset({'Oracle'})\",\"frozenset({'PostgreSQL'})\",\"frozenset({'MySQL'})\",\"frozenset({'PostgreSQL'})\",\"frozenset({'MS SQL Server'})\",\"frozenset({'MS SQL Server'})\",\"frozenset({'MySQL'})\",\"frozenset({'H2'})\",\"frozenset({'Redis'})\",\"frozenset({'MySQL'})\",\"frozenset({'MySQL'})\",\"frozenset({'MySQL'})\",\"frozenset({'Oracle'})\",\"frozenset({'PostgreSQL'})\",\"frozenset({'PostgreSQL'})\",\"frozenset({'MariaDB'})\",\"frozenset({'IBM DB2'})\",\"frozenset({'H2'})\",\"frozenset({'MS SQL Server'})\",\"frozenset({'Ehcache'})\",\"frozenset({'IBM DB2'})\",\"frozenset({'PostgreSQL'})\",\"frozenset({'SAP Adaptive Server'})\",\"frozenset({'MongoDB'})\",\"frozenset({'SQLite'})\",\"frozenset({'Elasticsearch'})\",\"frozenset({'Ehcache'})\",\"frozenset({'MongoDB'})\",\"frozenset({'Hive'})\",\"frozenset({'SQLite'})\",\"frozenset({'MySQL'})\",\"frozenset({'MySQL'})\",\"frozenset({'IBM DB2'})\",\"frozenset({'PostgreSQL'})\",\"frozenset({'Oracle'})\",\"frozenset({'Google Cloud Datastore'})\",\"frozenset({'HBase'})\",\"frozenset({'Ehcache'})\",\"frozenset({'HBase'})\",\"frozenset({'MySQL'})\",\"frozenset({'H2'})\",\"frozenset({'Elasticsearch'})\",\"frozenset({'Elasticsearch'})\",\"frozenset({'MariaDB'})\",\"frozenset({'Elasticsearch'})\",\"frozenset({'MariaDB'})\",\"frozenset({'HBase'})\",\"frozenset({'Ehcache'})\",\"frozenset({'MS SQL Server'})\",\"frozenset({'MySQL'})\",\"frozenset({'Redis'})\",\"frozenset({'Elasticsearch'})\",\"frozenset({'H2'})\",\"frozenset({'SAP Adaptive Server'})\",\"frozenset({'SQLite'})\",\"frozenset({'PostgreSQL'})\",\"frozenset({'Oracle'})\",\"frozenset({'Redis'})\",\"frozenset({'MS SQL Server'})\",\"frozenset({'SAP Adaptive Server'})\",\"frozenset({'SQLite'})\",\"frozenset({'IBM DB2'})\",\"frozenset({'PostgreSQL'})\",\"frozenset({'Redis'})\",\"frozenset({'MS SQL Server'})\",\"frozenset({'Elasticsearch'})\",\"frozenset({'H2'})\",\"frozenset({'Ehcache'})\",\"frozenset({'HBase'})\",\"frozenset({'Cassandra'})\",\"frozenset({'Cassandra'})\",\"frozenset({'Redis'})\",\"frozenset({'MariaDB'})\",\"frozenset({'Elasticsearch'})\",\"frozenset({'HBase'})\"],\"xaxis\":\"x\",\"y\":[\"frozenset({'MySQL'})\",\"frozenset({'MySQL'})\",\"frozenset({'Oracle'})\",\"frozenset({'Oracle'})\",\"frozenset({'PostgreSQL'})\",\"frozenset({'MySQL'})\",\"frozenset({'MS SQL Server'})\",\"frozenset({'MySQL'})\",\"frozenset({'H2'})\",\"frozenset({'MySQL'})\",\"frozenset({'MySQL'})\",\"frozenset({'PostgreSQL'})\",\"frozenset({'Ehcache'})\",\"frozenset({'H2'})\",\"frozenset({'SQLite'})\",\"frozenset({'MariaDB'})\",\"frozenset({'SAP Adaptive Server'})\",\"frozenset({'SAP Adaptive Server'})\",\"frozenset({'Redis'})\",\"frozenset({'IBM DB2'})\",\"frozenset({'Ehcache'})\",\"frozenset({'Hive'})\",\"frozenset({'SAP Adaptive Server'})\",\"frozenset({'Oracle'})\",\"frozenset({'MS SQL Server'})\",\"frozenset({'MySQL'})\",\"frozenset({'PostgreSQL'})\",\"frozenset({'MS Access'})\",\"frozenset({'Redis'})\",\"frozenset({'Informix'})\",\"frozenset({'Redis'})\",\"frozenset({'MS Access'})\",\"frozenset({'Redis'})\",\"frozenset({'Informix'})\",\"frozenset({'SapHana'})\",\"frozenset({'SapHana'})\",\"frozenset({'SapHana'})\",\"frozenset({'SapHana'})\",\"frozenset({'Informix'})\",\"frozenset({'PostgreSQL'})\",\"frozenset({'SapHana'})\",\"frozenset({'Solr'})\",\"frozenset({'Solr'})\",\"frozenset({'SapHana'})\",\"frozenset({'Redis'})\",\"frozenset({'Solr'})\",\"frozenset({'PostgreSQL'})\",\"frozenset({'Solr'})\",\"frozenset({'Informix'})\",\"frozenset({'Hive'})\",\"frozenset({'MS Access'})\",\"frozenset({'Cassandra'})\",\"frozenset({'HBase'})\",\"frozenset({'MariaDB'})\",\"frozenset({'MySQL'})\",\"frozenset({'MongoDB'})\",\"frozenset({'Oracle'})\",\"frozenset({'MariaDB'})\",\"frozenset({'MongoDB'})\",\"frozenset({'Solr'})\",\"frozenset({'MariaDB'})\",\"frozenset({'H2'})\",\"frozenset({'Hive'})\",\"frozenset({'HBase'})\",\"frozenset({'Cassandra'})\",\"frozenset({'MS SQL Server'})\",\"frozenset({'HBase'})\",\"frozenset({'SAP Adaptive Server'})\",\"frozenset({'H2'})\",\"frozenset({'H2'})\",\"frozenset({'Hive'})\",\"frozenset({'SAP Adaptive Server'})\",\"frozenset({'Google Cloud Datastore'})\",\"frozenset({'SQLite'})\",\"frozenset({'Cassandra'})\",\"frozenset({'SapHana'})\",\"frozenset({'SapHana'})\",\"frozenset({'SAP Adaptive Server'})\",\"frozenset({'Elasticsearch'})\",\"frozenset({'DynamoDB'})\",\"frozenset({'DynamoDB'})\",\"frozenset({'Ehcache'})\",\"frozenset({'Informix'})\",\"frozenset({'Ehcache'})\",\"frozenset({'Ehcache'})\",\"frozenset({'Elasticsearch'})\",\"frozenset({'Elasticsearch'})\",\"frozenset({'Elasticsearch'})\",\"frozenset({'Informix'})\",\"frozenset({'IBM DB2'})\",\"frozenset({'Cassandra'})\",\"frozenset({'IBM DB2'})\",\"frozenset({'IBM DB2'})\",\"frozenset({'MS SQL Server'})\",\"frozenset({'MS SQL Server'})\",\"frozenset({'MariaDB'})\",\"frozenset({'Memcached'})\",\"frozenset({'MongoDB'})\",\"frozenset({'MySQL'})\",\"frozenset({'MySQL'})\",\"frozenset({'MS SQL Server'})\",\"frozenset({'Informix'})\",\"frozenset({'Cassandra'})\",\"frozenset({'SQLite'})\",\"frozenset({'Google Cloud Datastore'})\",\"frozenset({'PostgreSQL'})\",\"frozenset({'SQLite'})\",\"frozenset({'Redis'})\",\"frozenset({'Redis'})\",\"frozenset({'SAP Adaptive Server'})\",\"frozenset({'Informix'})\",\"frozenset({'SAP Adaptive Server'})\",\"frozenset({'PostgreSQL'})\",\"frozenset({'Oracle'})\",\"frozenset({'MariaDB'})\",\"frozenset({'H2'})\",\"frozenset({'Cassandra'})\",\"frozenset({'H2'})\",\"frozenset({'H2'})\",\"frozenset({'HBase'})\",\"frozenset({'HBase'})\",\"frozenset({'HBase'})\",\"frozenset({'Hive'})\",\"frozenset({'IBM DB2'})\",\"frozenset({'Informix'})\",\"frozenset({'Firebird'})\",\"frozenset({'Oracle'})\",\"frozenset({'Google Cloud Datastore'})\",\"frozenset({'MariaDB'})\",\"frozenset({'PostgreSQL'})\",\"frozenset({'H2'})\",\"frozenset({'MySQL'})\",\"frozenset({'MongoDB'})\",\"frozenset({'MySQL'})\",\"frozenset({'Redis'})\",\"frozenset({'PostgreSQL'})\",\"frozenset({'MySQL'})\",\"frozenset({'H2'})\",\"frozenset({'Oracle'})\",\"frozenset({'Elasticsearch'})\",\"frozenset({'MariaDB'})\",\"frozenset({'H2'})\",\"frozenset({'HBase'})\",\"frozenset({'Redis'})\",\"frozenset({'SAP Adaptive Server'})\",\"frozenset({'H2'})\",\"frozenset({'SQLite'})\",\"frozenset({'MySQL'})\",\"frozenset({'Redis'})\",\"frozenset({'PostgreSQL'})\",\"frozenset({'Ehcache'})\",\"frozenset({'Oracle'})\",\"frozenset({'Oracle'})\",\"frozenset({'MySQL'})\",\"frozenset({'Oracle'})\",\"frozenset({'IBM DB2'})\",\"frozenset({'SQLite'})\",\"frozenset({'Ehcache'})\",\"frozenset({'H2'})\",\"frozenset({'MySQL'})\",\"frozenset({'PostgreSQL'})\",\"frozenset({'H2'})\",\"frozenset({'MS SQL Server'})\",\"frozenset({'MS SQL Server'})\",\"frozenset({'PostgreSQL'})\",\"frozenset({'Oracle'})\",\"frozenset({'MariaDB'})\",\"frozenset({'Oracle'})\",\"frozenset({'MySQL'})\",\"frozenset({'Redis'})\",\"frozenset({'Ehcache'})\",\"frozenset({'IBM DB2'})\",\"frozenset({'IBM DB2'})\",\"frozenset({'IBM DB2'})\",\"frozenset({'MariaDB'})\",\"frozenset({'PostgreSQL'})\",\"frozenset({'Oracle'})\",\"frozenset({'MS SQL Server'})\",\"frozenset({'IBM DB2'})\",\"frozenset({'PostgreSQL'})\",\"frozenset({'MS SQL Server'})\",\"frozenset({'MongoDB'})\",\"frozenset({'PostgreSQL'})\",\"frozenset({'PostgreSQL'})\",\"frozenset({'H2'})\",\"frozenset({'Cassandra'})\",\"frozenset({'MS SQL Server'})\",\"frozenset({'Oracle'})\",\"frozenset({'MySQL'})\",\"frozenset({'IBM DB2'})\",\"frozenset({'Hive'})\",\"frozenset({'Google Cloud Datastore'})\",\"frozenset({'SQLite'})\",\"frozenset({'HBase'})\",\"frozenset({'MongoDB'})\",\"frozenset({'MySQL'})\",\"frozenset({'PostgreSQL'})\",\"frozenset({'MariaDB'})\",\"frozenset({'H2'})\",\"frozenset({'PostgreSQL'})\",\"frozenset({'HBase'})\",\"frozenset({'HBase'})\",\"frozenset({'Ehcache'})\",\"frozenset({'Ehcache'})\",\"frozenset({'MongoDB'})\",\"frozenset({'IBM DB2'})\",\"frozenset({'Elasticsearch'})\",\"frozenset({'MongoDB'})\",\"frozenset({'MariaDB'})\",\"frozenset({'Cassandra'})\",\"frozenset({'Cassandra'})\",\"frozenset({'Redis'})\",\"frozenset({'SQLite'})\",\"frozenset({'H2'})\",\"frozenset({'Oracle'})\",\"frozenset({'SAP Adaptive Server'})\",\"frozenset({'SQLite'})\",\"frozenset({'Elasticsearch'})\",\"frozenset({'SQLite'})\",\"frozenset({'MS SQL Server'})\",\"frozenset({'MS SQL Server'})\",\"frozenset({'SAP Adaptive Server'})\",\"frozenset({'Elasticsearch'})\",\"frozenset({'HBase'})\",\"frozenset({'SAP Adaptive Server'})\",\"frozenset({'PostgreSQL'})\",\"frozenset({'Elasticsearch'})\",\"frozenset({'Redis'})\",\"frozenset({'Redis'})\",\"frozenset({'Elasticsearch'})\",\"frozenset({'MySQL'})\",\"frozenset({'Ehcache'})\",\"frozenset({'MS SQL Server'})\",\"frozenset({'H2'})\",\"frozenset({'MariaDB'})\"],\"yaxis\":\"y\",\"type\":\"scatter\"}],                        {\"template\":{\"data\":{\"histogram2dcontour\":[{\"type\":\"histogram2dcontour\",\"colorbar\":{\"outlinewidth\":0,\"ticks\":\"\"},\"colorscale\":[[0.0,\"#0d0887\"],[0.1111111111111111,\"#46039f\"],[0.2222222222222222,\"#7201a8\"],[0.3333333333333333,\"#9c179e\"],[0.4444444444444444,\"#bd3786\"],[0.5555555555555556,\"#d8576b\"],[0.6666666666666666,\"#ed7953\"],[0.7777777777777778,\"#fb9f3a\"],[0.8888888888888888,\"#fdca26\"],[1.0,\"#f0f921\"]]}],\"choropleth\":[{\"type\":\"choropleth\",\"colorbar\":{\"outlinewidth\":0,\"ticks\":\"\"}}],\"histogram2d\":[{\"type\":\"histogram2d\",\"colorbar\":{\"outlinewidth\":0,\"ticks\":\"\"},\"colorscale\":[[0.0,\"#0d0887\"],[0.1111111111111111,\"#46039f\"],[0.2222222222222222,\"#7201a8\"],[0.3333333333333333,\"#9c179e\"],[0.4444444444444444,\"#bd3786\"],[0.5555555555555556,\"#d8576b\"],[0.6666666666666666,\"#ed7953\"],[0.7777777777777778,\"#fb9f3a\"],[0.8888888888888888,\"#fdca26\"],[1.0,\"#f0f921\"]]}],\"heatmap\":[{\"type\":\"heatmap\",\"colorbar\":{\"outlinewidth\":0,\"ticks\":\"\"},\"colorscale\":[[0.0,\"#0d0887\"],[0.1111111111111111,\"#46039f\"],[0.2222222222222222,\"#7201a8\"],[0.3333333333333333,\"#9c179e\"],[0.4444444444444444,\"#bd3786\"],[0.5555555555555556,\"#d8576b\"],[0.6666666666666666,\"#ed7953\"],[0.7777777777777778,\"#fb9f3a\"],[0.8888888888888888,\"#fdca26\"],[1.0,\"#f0f921\"]]}],\"heatmapgl\":[{\"type\":\"heatmapgl\",\"colorbar\":{\"outlinewidth\":0,\"ticks\":\"\"},\"colorscale\":[[0.0,\"#0d0887\"],[0.1111111111111111,\"#46039f\"],[0.2222222222222222,\"#7201a8\"],[0.3333333333333333,\"#9c179e\"],[0.4444444444444444,\"#bd3786\"],[0.5555555555555556,\"#d8576b\"],[0.6666666666666666,\"#ed7953\"],[0.7777777777777778,\"#fb9f3a\"],[0.8888888888888888,\"#fdca26\"],[1.0,\"#f0f921\"]]}],\"contourcarpet\":[{\"type\":\"contourcarpet\",\"colorbar\":{\"outlinewidth\":0,\"ticks\":\"\"}}],\"contour\":[{\"type\":\"contour\",\"colorbar\":{\"outlinewidth\":0,\"ticks\":\"\"},\"colorscale\":[[0.0,\"#0d0887\"],[0.1111111111111111,\"#46039f\"],[0.2222222222222222,\"#7201a8\"],[0.3333333333333333,\"#9c179e\"],[0.4444444444444444,\"#bd3786\"],[0.5555555555555556,\"#d8576b\"],[0.6666666666666666,\"#ed7953\"],[0.7777777777777778,\"#fb9f3a\"],[0.8888888888888888,\"#fdca26\"],[1.0,\"#f0f921\"]]}],\"surface\":[{\"type\":\"surface\",\"colorbar\":{\"outlinewidth\":0,\"ticks\":\"\"},\"colorscale\":[[0.0,\"#0d0887\"],[0.1111111111111111,\"#46039f\"],[0.2222222222222222,\"#7201a8\"],[0.3333333333333333,\"#9c179e\"],[0.4444444444444444,\"#bd3786\"],[0.5555555555555556,\"#d8576b\"],[0.6666666666666666,\"#ed7953\"],[0.7777777777777778,\"#fb9f3a\"],[0.8888888888888888,\"#fdca26\"],[1.0,\"#f0f921\"]]}],\"mesh3d\":[{\"type\":\"mesh3d\",\"colorbar\":{\"outlinewidth\":0,\"ticks\":\"\"}}],\"scatter\":[{\"fillpattern\":{\"fillmode\":\"overlay\",\"size\":10,\"solidity\":0.2},\"type\":\"scatter\"}],\"parcoords\":[{\"type\":\"parcoords\",\"line\":{\"colorbar\":{\"outlinewidth\":0,\"ticks\":\"\"}}}],\"scatterpolargl\":[{\"type\":\"scatterpolargl\",\"marker\":{\"colorbar\":{\"outlinewidth\":0,\"ticks\":\"\"}}}],\"bar\":[{\"error_x\":{\"color\":\"#2a3f5f\"},\"error_y\":{\"color\":\"#2a3f5f\"},\"marker\":{\"line\":{\"color\":\"#E5ECF6\",\"width\":0.5},\"pattern\":{\"fillmode\":\"overlay\",\"size\":10,\"solidity\":0.2}},\"type\":\"bar\"}],\"scattergeo\":[{\"type\":\"scattergeo\",\"marker\":{\"colorbar\":{\"outlinewidth\":0,\"ticks\":\"\"}}}],\"scatterpolar\":[{\"type\":\"scatterpolar\",\"marker\":{\"colorbar\":{\"outlinewidth\":0,\"ticks\":\"\"}}}],\"histogram\":[{\"marker\":{\"pattern\":{\"fillmode\":\"overlay\",\"size\":10,\"solidity\":0.2}},\"type\":\"histogram\"}],\"scattergl\":[{\"type\":\"scattergl\",\"marker\":{\"colorbar\":{\"outlinewidth\":0,\"ticks\":\"\"}}}],\"scatter3d\":[{\"type\":\"scatter3d\",\"line\":{\"colorbar\":{\"outlinewidth\":0,\"ticks\":\"\"}},\"marker\":{\"colorbar\":{\"outlinewidth\":0,\"ticks\":\"\"}}}],\"scattermapbox\":[{\"type\":\"scattermapbox\",\"marker\":{\"colorbar\":{\"outlinewidth\":0,\"ticks\":\"\"}}}],\"scatterternary\":[{\"type\":\"scatterternary\",\"marker\":{\"colorbar\":{\"outlinewidth\":0,\"ticks\":\"\"}}}],\"scattercarpet\":[{\"type\":\"scattercarpet\",\"marker\":{\"colorbar\":{\"outlinewidth\":0,\"ticks\":\"\"}}}],\"carpet\":[{\"aaxis\":{\"endlinecolor\":\"#2a3f5f\",\"gridcolor\":\"white\",\"linecolor\":\"white\",\"minorgridcolor\":\"white\",\"startlinecolor\":\"#2a3f5f\"},\"baxis\":{\"endlinecolor\":\"#2a3f5f\",\"gridcolor\":\"white\",\"linecolor\":\"white\",\"minorgridcolor\":\"white\",\"startlinecolor\":\"#2a3f5f\"},\"type\":\"carpet\"}],\"table\":[{\"cells\":{\"fill\":{\"color\":\"#EBF0F8\"},\"line\":{\"color\":\"white\"}},\"header\":{\"fill\":{\"color\":\"#C8D4E3\"},\"line\":{\"color\":\"white\"}},\"type\":\"table\"}],\"barpolar\":[{\"marker\":{\"line\":{\"color\":\"#E5ECF6\",\"width\":0.5},\"pattern\":{\"fillmode\":\"overlay\",\"size\":10,\"solidity\":0.2}},\"type\":\"barpolar\"}],\"pie\":[{\"automargin\":true,\"type\":\"pie\"}]},\"layout\":{\"autotypenumbers\":\"strict\",\"colorway\":[\"#636efa\",\"#EF553B\",\"#00cc96\",\"#ab63fa\",\"#FFA15A\",\"#19d3f3\",\"#FF6692\",\"#B6E880\",\"#FF97FF\",\"#FECB52\"],\"font\":{\"color\":\"#2a3f5f\"},\"hovermode\":\"closest\",\"hoverlabel\":{\"align\":\"left\"},\"paper_bgcolor\":\"white\",\"plot_bgcolor\":\"#E5ECF6\",\"polar\":{\"bgcolor\":\"#E5ECF6\",\"angularaxis\":{\"gridcolor\":\"white\",\"linecolor\":\"white\",\"ticks\":\"\"},\"radialaxis\":{\"gridcolor\":\"white\",\"linecolor\":\"white\",\"ticks\":\"\"}},\"ternary\":{\"bgcolor\":\"#E5ECF6\",\"aaxis\":{\"gridcolor\":\"white\",\"linecolor\":\"white\",\"ticks\":\"\"},\"baxis\":{\"gridcolor\":\"white\",\"linecolor\":\"white\",\"ticks\":\"\"},\"caxis\":{\"gridcolor\":\"white\",\"linecolor\":\"white\",\"ticks\":\"\"}},\"coloraxis\":{\"colorbar\":{\"outlinewidth\":0,\"ticks\":\"\"}},\"colorscale\":{\"sequential\":[[0.0,\"#0d0887\"],[0.1111111111111111,\"#46039f\"],[0.2222222222222222,\"#7201a8\"],[0.3333333333333333,\"#9c179e\"],[0.4444444444444444,\"#bd3786\"],[0.5555555555555556,\"#d8576b\"],[0.6666666666666666,\"#ed7953\"],[0.7777777777777778,\"#fb9f3a\"],[0.8888888888888888,\"#fdca26\"],[1.0,\"#f0f921\"]],\"sequentialminus\":[[0.0,\"#0d0887\"],[0.1111111111111111,\"#46039f\"],[0.2222222222222222,\"#7201a8\"],[0.3333333333333333,\"#9c179e\"],[0.4444444444444444,\"#bd3786\"],[0.5555555555555556,\"#d8576b\"],[0.6666666666666666,\"#ed7953\"],[0.7777777777777778,\"#fb9f3a\"],[0.8888888888888888,\"#fdca26\"],[1.0,\"#f0f921\"]],\"diverging\":[[0,\"#8e0152\"],[0.1,\"#c51b7d\"],[0.2,\"#de77ae\"],[0.3,\"#f1b6da\"],[0.4,\"#fde0ef\"],[0.5,\"#f7f7f7\"],[0.6,\"#e6f5d0\"],[0.7,\"#b8e186\"],[0.8,\"#7fbc41\"],[0.9,\"#4d9221\"],[1,\"#276419\"]]},\"xaxis\":{\"gridcolor\":\"white\",\"linecolor\":\"white\",\"ticks\":\"\",\"title\":{\"standoff\":15},\"zerolinecolor\":\"white\",\"automargin\":true,\"zerolinewidth\":2},\"yaxis\":{\"gridcolor\":\"white\",\"linecolor\":\"white\",\"ticks\":\"\",\"title\":{\"standoff\":15},\"zerolinecolor\":\"white\",\"automargin\":true,\"zerolinewidth\":2},\"scene\":{\"xaxis\":{\"backgroundcolor\":\"#E5ECF6\",\"gridcolor\":\"white\",\"linecolor\":\"white\",\"showbackground\":true,\"ticks\":\"\",\"zerolinecolor\":\"white\",\"gridwidth\":2},\"yaxis\":{\"backgroundcolor\":\"#E5ECF6\",\"gridcolor\":\"white\",\"linecolor\":\"white\",\"showbackground\":true,\"ticks\":\"\",\"zerolinecolor\":\"white\",\"gridwidth\":2},\"zaxis\":{\"backgroundcolor\":\"#E5ECF6\",\"gridcolor\":\"white\",\"linecolor\":\"white\",\"showbackground\":true,\"ticks\":\"\",\"zerolinecolor\":\"white\",\"gridwidth\":2}},\"shapedefaults\":{\"line\":{\"color\":\"#2a3f5f\"}},\"annotationdefaults\":{\"arrowcolor\":\"#2a3f5f\",\"arrowhead\":0,\"arrowwidth\":1},\"geo\":{\"bgcolor\":\"white\",\"landcolor\":\"#E5ECF6\",\"subunitcolor\":\"white\",\"showland\":true,\"showlakes\":true,\"lakecolor\":\"white\"},\"title\":{\"x\":0.05},\"mapbox\":{\"style\":\"light\"}}},\"xaxis\":{\"anchor\":\"y\",\"domain\":[0.0,1.0],\"title\":{\"text\":\"consequents\"}},\"yaxis\":{\"anchor\":\"x\",\"domain\":[0.0,1.0],\"title\":{\"text\":\"antecedents\"}},\"coloraxis\":{\"colorbar\":{\"title\":{\"text\":\"support_abs\"}},\"colorscale\":[[0.0,\"silver\"],[1.0,\"gray\"]]},\"legend\":{\"tracegroupgap\":0,\"itemsizing\":\"constant\"},\"title\":{\"text\":\"Correlation of the most frequent databases in the fifth version\"},\"width\":2000},                        {\"responsive\": true}                    ).then(function(){\n",
       "                            \n",
       "var gd = document.getElementById('9d924f17-16e8-4ae7-912f-b2e5ab83b365');\n",
       "var x = new MutationObserver(function (mutations, observer) {{\n",
       "        var display = window.getComputedStyle(gd).display;\n",
       "        if (!display || display === 'none') {{\n",
       "            console.log([gd, 'removed!']);\n",
       "            Plotly.purge(gd);\n",
       "            observer.disconnect();\n",
       "        }}\n",
       "}});\n",
       "\n",
       "// Listen for the removal of the full notebook cells\n",
       "var notebookContainer = gd.closest('#notebook-container');\n",
       "if (notebookContainer) {{\n",
       "    x.observe(notebookContainer, {childList: true});\n",
       "}}\n",
       "\n",
       "// Listen for the clearing of the current output cell\n",
       "var outputEl = gd.closest('.output');\n",
       "if (outputEl) {{\n",
       "    x.observe(outputEl, {childList: true});\n",
       "}}\n",
       "\n",
       "                        })                };                });            </script>        </div>"
      ]
     },
     "metadata": {},
     "output_type": "display_data"
    }
   ],
   "source": [
    "import plotly.express as px \n",
    "#fig = px.scatter(rules1c.groupby(['antecedent_sup_abs','consequent_sup_abs']).mean().sort_values(['support_abs',], ascending=[False]),\n",
    "#.sort_values(['support_abs'], ascending=[False])\n",
    "fig = px.scatter(rules1c.sort_values(['support_abs'], ascending=[False]), x=\"consequents\", y=\"antecedents\", \n",
    "#x=\"consequents\", y=\"antecedents\", \n",
    "size='support_abs',  color=\"support_abs\", title='Correlation of the most frequent databases in the fifth version',\n",
    "hover_data=['support_abs'], color_continuous_scale = [\"silver\",\"gray\"], width=2000) \n",
    "#fig.title('Correlation of the most frequent databases')\n",
    "fig.show()"
   ]
  },
  {
   "attachments": {},
   "cell_type": "markdown",
   "metadata": {},
   "source": [
    "MySQL, PostgresSQL, H2, Oracle, MS SQL Server, Maria DB, Redis, Ehcache, IBM DB2, Mongo DB, SQLite\n",
    "\n",
    "SQLite, Ehcache, IBM DB2,  Sap Adaptive Server, MS Access e MongoDB\n",
    "\n",
    "v5 entrou: Maria DB, Redis\n",
    "v5 saiu: Sap Adaptive Server, MS Access\n",
    "\n",
    "v10 entrou: MySQL, PostgresSQL, H2, Oracle, MS SQL Server, Maria DB, Redis, Ehcache, IBM DB2, Mongo DB, SQLite\n",
    "v10 saiu: "
   ]
  },
  {
   "attachments": {},
   "cell_type": "markdown",
   "metadata": {},
   "source": [
    "In the rules below, we list the 10 most frequent BDs as consequents and confidence > 70%, confidence only in the case of relational ones. \n",
    "Add rules where they appear as antecedents."
   ]
  },
  {
   "cell_type": "code",
   "execution_count": 11,
   "metadata": {},
   "outputs": [
    {
     "data": {
      "text/html": [
       "<div>\n",
       "<style scoped>\n",
       "    .dataframe tbody tr th:only-of-type {\n",
       "        vertical-align: middle;\n",
       "    }\n",
       "\n",
       "    .dataframe tbody tr th {\n",
       "        vertical-align: top;\n",
       "    }\n",
       "\n",
       "    .dataframe thead th {\n",
       "        text-align: right;\n",
       "    }\n",
       "</style>\n",
       "<table border=\"1\" class=\"dataframe\">\n",
       "  <thead>\n",
       "    <tr style=\"text-align: right;\">\n",
       "      <th></th>\n",
       "      <th>antecedents</th>\n",
       "      <th>consequents</th>\n",
       "      <th>antecedent support</th>\n",
       "      <th>consequent support</th>\n",
       "      <th>support</th>\n",
       "      <th>confidence</th>\n",
       "      <th>lift</th>\n",
       "      <th>leverage</th>\n",
       "      <th>conviction</th>\n",
       "      <th>antecedent_len</th>\n",
       "      <th>consequente_len</th>\n",
       "    </tr>\n",
       "  </thead>\n",
       "  <tbody>\n",
       "    <tr>\n",
       "      <th>160</th>\n",
       "      <td>frozenset({'Firebird'})</td>\n",
       "      <td>frozenset({'MySQL'})</td>\n",
       "      <td>0.025381</td>\n",
       "      <td>0.411168</td>\n",
       "      <td>0.025381</td>\n",
       "      <td>1.000000</td>\n",
       "      <td>2.432099</td>\n",
       "      <td>0.014945</td>\n",
       "      <td>inf</td>\n",
       "      <td>1</td>\n",
       "      <td>1</td>\n",
       "    </tr>\n",
       "    <tr>\n",
       "      <th>161</th>\n",
       "      <td>frozenset({'SAP Adaptive Server'})</td>\n",
       "      <td>frozenset({'MySQL'})</td>\n",
       "      <td>0.060914</td>\n",
       "      <td>0.411168</td>\n",
       "      <td>0.060914</td>\n",
       "      <td>1.000000</td>\n",
       "      <td>2.432099</td>\n",
       "      <td>0.035868</td>\n",
       "      <td>inf</td>\n",
       "      <td>1</td>\n",
       "      <td>1</td>\n",
       "    </tr>\n",
       "    <tr>\n",
       "      <th>162</th>\n",
       "      <td>frozenset({'MS Access'})</td>\n",
       "      <td>frozenset({'MySQL'})</td>\n",
       "      <td>0.030457</td>\n",
       "      <td>0.411168</td>\n",
       "      <td>0.030457</td>\n",
       "      <td>1.000000</td>\n",
       "      <td>2.432099</td>\n",
       "      <td>0.017934</td>\n",
       "      <td>inf</td>\n",
       "      <td>1</td>\n",
       "      <td>1</td>\n",
       "    </tr>\n",
       "    <tr>\n",
       "      <th>163</th>\n",
       "      <td>frozenset({'SapHana'})</td>\n",
       "      <td>frozenset({'MySQL'})</td>\n",
       "      <td>0.025381</td>\n",
       "      <td>0.411168</td>\n",
       "      <td>0.025381</td>\n",
       "      <td>1.000000</td>\n",
       "      <td>2.432099</td>\n",
       "      <td>0.014945</td>\n",
       "      <td>inf</td>\n",
       "      <td>1</td>\n",
       "      <td>1</td>\n",
       "    </tr>\n",
       "    <tr>\n",
       "      <th>164</th>\n",
       "      <td>frozenset({'Amazon Redshift'})</td>\n",
       "      <td>frozenset({'MySQL'})</td>\n",
       "      <td>0.025381</td>\n",
       "      <td>0.411168</td>\n",
       "      <td>0.025381</td>\n",
       "      <td>1.000000</td>\n",
       "      <td>2.432099</td>\n",
       "      <td>0.014945</td>\n",
       "      <td>inf</td>\n",
       "      <td>1</td>\n",
       "      <td>1</td>\n",
       "    </tr>\n",
       "    <tr>\n",
       "      <th>172</th>\n",
       "      <td>frozenset({'MS SQL Server'})</td>\n",
       "      <td>frozenset({'MySQL'})</td>\n",
       "      <td>0.131980</td>\n",
       "      <td>0.411168</td>\n",
       "      <td>0.126904</td>\n",
       "      <td>0.961538</td>\n",
       "      <td>2.338557</td>\n",
       "      <td>0.072638</td>\n",
       "      <td>15.309645</td>\n",
       "      <td>1</td>\n",
       "      <td>1</td>\n",
       "    </tr>\n",
       "    <tr>\n",
       "      <th>177</th>\n",
       "      <td>frozenset({'IBM DB2'})</td>\n",
       "      <td>frozenset({'MySQL'})</td>\n",
       "      <td>0.096447</td>\n",
       "      <td>0.411168</td>\n",
       "      <td>0.091371</td>\n",
       "      <td>0.947368</td>\n",
       "      <td>2.304094</td>\n",
       "      <td>0.051715</td>\n",
       "      <td>11.187817</td>\n",
       "      <td>1</td>\n",
       "      <td>1</td>\n",
       "    </tr>\n",
       "    <tr>\n",
       "      <th>184</th>\n",
       "      <td>frozenset({'HBase'})</td>\n",
       "      <td>frozenset({'MySQL'})</td>\n",
       "      <td>0.065990</td>\n",
       "      <td>0.411168</td>\n",
       "      <td>0.060914</td>\n",
       "      <td>0.923077</td>\n",
       "      <td>2.245014</td>\n",
       "      <td>0.033781</td>\n",
       "      <td>7.654822</td>\n",
       "      <td>1</td>\n",
       "      <td>1</td>\n",
       "    </tr>\n",
       "    <tr>\n",
       "      <th>187</th>\n",
       "      <td>frozenset({'MariaDB'})</td>\n",
       "      <td>frozenset({'MySQL'})</td>\n",
       "      <td>0.116751</td>\n",
       "      <td>0.411168</td>\n",
       "      <td>0.106599</td>\n",
       "      <td>0.913043</td>\n",
       "      <td>2.220612</td>\n",
       "      <td>0.058595</td>\n",
       "      <td>6.771574</td>\n",
       "      <td>1</td>\n",
       "      <td>1</td>\n",
       "    </tr>\n",
       "    <tr>\n",
       "      <th>197</th>\n",
       "      <td>frozenset({'PostgreSQL'})</td>\n",
       "      <td>frozenset({'MySQL'})</td>\n",
       "      <td>0.248731</td>\n",
       "      <td>0.411168</td>\n",
       "      <td>0.223350</td>\n",
       "      <td>0.897959</td>\n",
       "      <td>2.183925</td>\n",
       "      <td>0.121080</td>\n",
       "      <td>5.770558</td>\n",
       "      <td>1</td>\n",
       "      <td>1</td>\n",
       "    </tr>\n",
       "    <tr>\n",
       "      <th>199</th>\n",
       "      <td>frozenset({'Hive'})</td>\n",
       "      <td>frozenset({'MySQL'})</td>\n",
       "      <td>0.045685</td>\n",
       "      <td>0.411168</td>\n",
       "      <td>0.040609</td>\n",
       "      <td>0.888889</td>\n",
       "      <td>2.161866</td>\n",
       "      <td>0.021825</td>\n",
       "      <td>5.299492</td>\n",
       "      <td>1</td>\n",
       "      <td>1</td>\n",
       "    </tr>\n",
       "    <tr>\n",
       "      <th>204</th>\n",
       "      <td>frozenset({'Informix'})</td>\n",
       "      <td>frozenset({'MySQL'})</td>\n",
       "      <td>0.030457</td>\n",
       "      <td>0.411168</td>\n",
       "      <td>0.025381</td>\n",
       "      <td>0.833333</td>\n",
       "      <td>2.026749</td>\n",
       "      <td>0.012858</td>\n",
       "      <td>3.532995</td>\n",
       "      <td>1</td>\n",
       "      <td>1</td>\n",
       "    </tr>\n",
       "    <tr>\n",
       "      <th>209</th>\n",
       "      <td>frozenset({'Cassandra'})</td>\n",
       "      <td>frozenset({'MySQL'})</td>\n",
       "      <td>0.055838</td>\n",
       "      <td>0.411168</td>\n",
       "      <td>0.045685</td>\n",
       "      <td>0.818182</td>\n",
       "      <td>1.989899</td>\n",
       "      <td>0.022727</td>\n",
       "      <td>3.238579</td>\n",
       "      <td>1</td>\n",
       "      <td>1</td>\n",
       "    </tr>\n",
       "    <tr>\n",
       "      <th>210</th>\n",
       "      <td>frozenset({'Oracle'})</td>\n",
       "      <td>frozenset({'MySQL'})</td>\n",
       "      <td>0.218274</td>\n",
       "      <td>0.411168</td>\n",
       "      <td>0.177665</td>\n",
       "      <td>0.813953</td>\n",
       "      <td>1.979615</td>\n",
       "      <td>0.087918</td>\n",
       "      <td>3.164975</td>\n",
       "      <td>1</td>\n",
       "      <td>1</td>\n",
       "    </tr>\n",
       "    <tr>\n",
       "      <th>238</th>\n",
       "      <td>frozenset({'MongoDB'})</td>\n",
       "      <td>frozenset({'MySQL'})</td>\n",
       "      <td>0.101523</td>\n",
       "      <td>0.411168</td>\n",
       "      <td>0.076142</td>\n",
       "      <td>0.750000</td>\n",
       "      <td>1.824074</td>\n",
       "      <td>0.034399</td>\n",
       "      <td>2.355330</td>\n",
       "      <td>1</td>\n",
       "      <td>1</td>\n",
       "    </tr>\n",
       "    <tr>\n",
       "      <th>241</th>\n",
       "      <td>frozenset({'H2'})</td>\n",
       "      <td>frozenset({'MySQL'})</td>\n",
       "      <td>0.243655</td>\n",
       "      <td>0.411168</td>\n",
       "      <td>0.182741</td>\n",
       "      <td>0.750000</td>\n",
       "      <td>1.824074</td>\n",
       "      <td>0.082558</td>\n",
       "      <td>2.355330</td>\n",
       "      <td>1</td>\n",
       "      <td>1</td>\n",
       "    </tr>\n",
       "    <tr>\n",
       "      <th>248</th>\n",
       "      <td>frozenset({'DynamoDB'})</td>\n",
       "      <td>frozenset({'MySQL'})</td>\n",
       "      <td>0.035533</td>\n",
       "      <td>0.411168</td>\n",
       "      <td>0.025381</td>\n",
       "      <td>0.714286</td>\n",
       "      <td>1.737213</td>\n",
       "      <td>0.010771</td>\n",
       "      <td>2.060914</td>\n",
       "      <td>1</td>\n",
       "      <td>1</td>\n",
       "    </tr>\n",
       "    <tr>\n",
       "      <th>249</th>\n",
       "      <td>frozenset({'Solr'})</td>\n",
       "      <td>frozenset({'MySQL'})</td>\n",
       "      <td>0.035533</td>\n",
       "      <td>0.411168</td>\n",
       "      <td>0.025381</td>\n",
       "      <td>0.714286</td>\n",
       "      <td>1.737213</td>\n",
       "      <td>0.010771</td>\n",
       "      <td>2.060914</td>\n",
       "      <td>1</td>\n",
       "      <td>1</td>\n",
       "    </tr>\n",
       "  </tbody>\n",
       "</table>\n",
       "</div>"
      ],
      "text/plain": [
       "                            antecedents           consequents  \\\n",
       "160             frozenset({'Firebird'})  frozenset({'MySQL'})   \n",
       "161  frozenset({'SAP Adaptive Server'})  frozenset({'MySQL'})   \n",
       "162            frozenset({'MS Access'})  frozenset({'MySQL'})   \n",
       "163              frozenset({'SapHana'})  frozenset({'MySQL'})   \n",
       "164      frozenset({'Amazon Redshift'})  frozenset({'MySQL'})   \n",
       "172        frozenset({'MS SQL Server'})  frozenset({'MySQL'})   \n",
       "177              frozenset({'IBM DB2'})  frozenset({'MySQL'})   \n",
       "184                frozenset({'HBase'})  frozenset({'MySQL'})   \n",
       "187              frozenset({'MariaDB'})  frozenset({'MySQL'})   \n",
       "197           frozenset({'PostgreSQL'})  frozenset({'MySQL'})   \n",
       "199                 frozenset({'Hive'})  frozenset({'MySQL'})   \n",
       "204             frozenset({'Informix'})  frozenset({'MySQL'})   \n",
       "209            frozenset({'Cassandra'})  frozenset({'MySQL'})   \n",
       "210               frozenset({'Oracle'})  frozenset({'MySQL'})   \n",
       "238              frozenset({'MongoDB'})  frozenset({'MySQL'})   \n",
       "241                   frozenset({'H2'})  frozenset({'MySQL'})   \n",
       "248             frozenset({'DynamoDB'})  frozenset({'MySQL'})   \n",
       "249                 frozenset({'Solr'})  frozenset({'MySQL'})   \n",
       "\n",
       "     antecedent support  consequent support   support  confidence      lift  \\\n",
       "160            0.025381            0.411168  0.025381    1.000000  2.432099   \n",
       "161            0.060914            0.411168  0.060914    1.000000  2.432099   \n",
       "162            0.030457            0.411168  0.030457    1.000000  2.432099   \n",
       "163            0.025381            0.411168  0.025381    1.000000  2.432099   \n",
       "164            0.025381            0.411168  0.025381    1.000000  2.432099   \n",
       "172            0.131980            0.411168  0.126904    0.961538  2.338557   \n",
       "177            0.096447            0.411168  0.091371    0.947368  2.304094   \n",
       "184            0.065990            0.411168  0.060914    0.923077  2.245014   \n",
       "187            0.116751            0.411168  0.106599    0.913043  2.220612   \n",
       "197            0.248731            0.411168  0.223350    0.897959  2.183925   \n",
       "199            0.045685            0.411168  0.040609    0.888889  2.161866   \n",
       "204            0.030457            0.411168  0.025381    0.833333  2.026749   \n",
       "209            0.055838            0.411168  0.045685    0.818182  1.989899   \n",
       "210            0.218274            0.411168  0.177665    0.813953  1.979615   \n",
       "238            0.101523            0.411168  0.076142    0.750000  1.824074   \n",
       "241            0.243655            0.411168  0.182741    0.750000  1.824074   \n",
       "248            0.035533            0.411168  0.025381    0.714286  1.737213   \n",
       "249            0.035533            0.411168  0.025381    0.714286  1.737213   \n",
       "\n",
       "     leverage  conviction  antecedent_len  consequente_len  \n",
       "160  0.014945         inf               1                1  \n",
       "161  0.035868         inf               1                1  \n",
       "162  0.017934         inf               1                1  \n",
       "163  0.014945         inf               1                1  \n",
       "164  0.014945         inf               1                1  \n",
       "172  0.072638   15.309645               1                1  \n",
       "177  0.051715   11.187817               1                1  \n",
       "184  0.033781    7.654822               1                1  \n",
       "187  0.058595    6.771574               1                1  \n",
       "197  0.121080    5.770558               1                1  \n",
       "199  0.021825    5.299492               1                1  \n",
       "204  0.012858    3.532995               1                1  \n",
       "209  0.022727    3.238579               1                1  \n",
       "210  0.087918    3.164975               1                1  \n",
       "238  0.034399    2.355330               1                1  \n",
       "241  0.082558    2.355330               1                1  \n",
       "248  0.010771    2.060914               1                1  \n",
       "249  0.010771    2.060914               1                1  "
      ]
     },
     "execution_count": 11,
     "metadata": {},
     "output_type": "execute_result"
    }
   ],
   "source": [
    "rules2 = df[ (df['consequents'].str.contains('MySQL')) &(df['confidence'] > 0.7)]\n",
    "rules2"
   ]
  },
  {
   "cell_type": "code",
   "execution_count": 51,
   "metadata": {},
   "outputs": [
    {
     "data": {
      "text/html": [
       "<div>\n",
       "<style scoped>\n",
       "    .dataframe tbody tr th:only-of-type {\n",
       "        vertical-align: middle;\n",
       "    }\n",
       "\n",
       "    .dataframe tbody tr th {\n",
       "        vertical-align: top;\n",
       "    }\n",
       "\n",
       "    .dataframe thead th {\n",
       "        text-align: right;\n",
       "    }\n",
       "</style>\n",
       "<table border=\"1\" class=\"dataframe\">\n",
       "  <thead>\n",
       "    <tr style=\"text-align: right;\">\n",
       "      <th></th>\n",
       "      <th>antecedents</th>\n",
       "      <th>consequents</th>\n",
       "      <th>antecedent support</th>\n",
       "      <th>consequent support</th>\n",
       "      <th>support</th>\n",
       "      <th>confidence</th>\n",
       "      <th>lift</th>\n",
       "      <th>leverage</th>\n",
       "      <th>conviction</th>\n",
       "      <th>antecedent_len</th>\n",
       "      <th>consequente_len</th>\n",
       "    </tr>\n",
       "  </thead>\n",
       "  <tbody>\n",
       "    <tr>\n",
       "      <th>89</th>\n",
       "      <td>frozenset({'SapHana'})</td>\n",
       "      <td>frozenset({'PostgreSQL'})</td>\n",
       "      <td>0.025381</td>\n",
       "      <td>0.248731</td>\n",
       "      <td>0.025381</td>\n",
       "      <td>1.000000</td>\n",
       "      <td>4.020408</td>\n",
       "      <td>0.019068</td>\n",
       "      <td>inf</td>\n",
       "      <td>1</td>\n",
       "      <td>1</td>\n",
       "    </tr>\n",
       "    <tr>\n",
       "      <th>91</th>\n",
       "      <td>frozenset({'Firebird'})</td>\n",
       "      <td>frozenset({'PostgreSQL'})</td>\n",
       "      <td>0.025381</td>\n",
       "      <td>0.248731</td>\n",
       "      <td>0.025381</td>\n",
       "      <td>1.000000</td>\n",
       "      <td>4.020408</td>\n",
       "      <td>0.019068</td>\n",
       "      <td>inf</td>\n",
       "      <td>1</td>\n",
       "      <td>1</td>\n",
       "    </tr>\n",
       "    <tr>\n",
       "      <th>93</th>\n",
       "      <td>frozenset({'Amazon Redshift'})</td>\n",
       "      <td>frozenset({'PostgreSQL'})</td>\n",
       "      <td>0.025381</td>\n",
       "      <td>0.248731</td>\n",
       "      <td>0.025381</td>\n",
       "      <td>1.000000</td>\n",
       "      <td>4.020408</td>\n",
       "      <td>0.019068</td>\n",
       "      <td>inf</td>\n",
       "      <td>1</td>\n",
       "      <td>1</td>\n",
       "    </tr>\n",
       "    <tr>\n",
       "      <th>100</th>\n",
       "      <td>frozenset({'MS SQL Server'})</td>\n",
       "      <td>frozenset({'PostgreSQL'})</td>\n",
       "      <td>0.131980</td>\n",
       "      <td>0.248731</td>\n",
       "      <td>0.126904</td>\n",
       "      <td>0.961538</td>\n",
       "      <td>3.865777</td>\n",
       "      <td>0.094076</td>\n",
       "      <td>19.532995</td>\n",
       "      <td>1</td>\n",
       "      <td>1</td>\n",
       "    </tr>\n",
       "    <tr>\n",
       "      <th>109</th>\n",
       "      <td>frozenset({'SAP Adaptive Server'})</td>\n",
       "      <td>frozenset({'PostgreSQL'})</td>\n",
       "      <td>0.060914</td>\n",
       "      <td>0.248731</td>\n",
       "      <td>0.055838</td>\n",
       "      <td>0.916667</td>\n",
       "      <td>3.685374</td>\n",
       "      <td>0.040686</td>\n",
       "      <td>9.015228</td>\n",
       "      <td>1</td>\n",
       "      <td>1</td>\n",
       "    </tr>\n",
       "    <tr>\n",
       "      <th>111</th>\n",
       "      <td>frozenset({'IBM DB2'})</td>\n",
       "      <td>frozenset({'PostgreSQL'})</td>\n",
       "      <td>0.096447</td>\n",
       "      <td>0.248731</td>\n",
       "      <td>0.086294</td>\n",
       "      <td>0.894737</td>\n",
       "      <td>3.597207</td>\n",
       "      <td>0.062305</td>\n",
       "      <td>7.137056</td>\n",
       "      <td>1</td>\n",
       "      <td>1</td>\n",
       "    </tr>\n",
       "    <tr>\n",
       "      <th>119</th>\n",
       "      <td>frozenset({'MS Access'})</td>\n",
       "      <td>frozenset({'PostgreSQL'})</td>\n",
       "      <td>0.030457</td>\n",
       "      <td>0.248731</td>\n",
       "      <td>0.025381</td>\n",
       "      <td>0.833333</td>\n",
       "      <td>3.350340</td>\n",
       "      <td>0.017805</td>\n",
       "      <td>4.507614</td>\n",
       "      <td>1</td>\n",
       "      <td>1</td>\n",
       "    </tr>\n",
       "    <tr>\n",
       "      <th>120</th>\n",
       "      <td>frozenset({'Informix'})</td>\n",
       "      <td>frozenset({'PostgreSQL'})</td>\n",
       "      <td>0.030457</td>\n",
       "      <td>0.248731</td>\n",
       "      <td>0.025381</td>\n",
       "      <td>0.833333</td>\n",
       "      <td>3.350340</td>\n",
       "      <td>0.017805</td>\n",
       "      <td>4.507614</td>\n",
       "      <td>1</td>\n",
       "      <td>1</td>\n",
       "    </tr>\n",
       "    <tr>\n",
       "      <th>132</th>\n",
       "      <td>frozenset({'Hive'})</td>\n",
       "      <td>frozenset({'PostgreSQL'})</td>\n",
       "      <td>0.045685</td>\n",
       "      <td>0.248731</td>\n",
       "      <td>0.035533</td>\n",
       "      <td>0.777778</td>\n",
       "      <td>3.126984</td>\n",
       "      <td>0.024170</td>\n",
       "      <td>3.380711</td>\n",
       "      <td>1</td>\n",
       "      <td>1</td>\n",
       "    </tr>\n",
       "    <tr>\n",
       "      <th>134</th>\n",
       "      <td>frozenset({'MariaDB'})</td>\n",
       "      <td>frozenset({'PostgreSQL'})</td>\n",
       "      <td>0.116751</td>\n",
       "      <td>0.248731</td>\n",
       "      <td>0.086294</td>\n",
       "      <td>0.739130</td>\n",
       "      <td>2.971606</td>\n",
       "      <td>0.057255</td>\n",
       "      <td>2.879865</td>\n",
       "      <td>1</td>\n",
       "      <td>1</td>\n",
       "    </tr>\n",
       "    <tr>\n",
       "      <th>141</th>\n",
       "      <td>frozenset({'Oracle'})</td>\n",
       "      <td>frozenset({'PostgreSQL'})</td>\n",
       "      <td>0.218274</td>\n",
       "      <td>0.248731</td>\n",
       "      <td>0.157360</td>\n",
       "      <td>0.720930</td>\n",
       "      <td>2.898434</td>\n",
       "      <td>0.103069</td>\n",
       "      <td>2.692047</td>\n",
       "      <td>1</td>\n",
       "      <td>1</td>\n",
       "    </tr>\n",
       "    <tr>\n",
       "      <th>142</th>\n",
       "      <td>frozenset({'DynamoDB'})</td>\n",
       "      <td>frozenset({'PostgreSQL'})</td>\n",
       "      <td>0.035533</td>\n",
       "      <td>0.248731</td>\n",
       "      <td>0.025381</td>\n",
       "      <td>0.714286</td>\n",
       "      <td>2.871720</td>\n",
       "      <td>0.016543</td>\n",
       "      <td>2.629442</td>\n",
       "      <td>1</td>\n",
       "      <td>1</td>\n",
       "    </tr>\n",
       "    <tr>\n",
       "      <th>197</th>\n",
       "      <td>frozenset({'PostgreSQL'})</td>\n",
       "      <td>frozenset({'MySQL'})</td>\n",
       "      <td>0.248731</td>\n",
       "      <td>0.411168</td>\n",
       "      <td>0.223350</td>\n",
       "      <td>0.897959</td>\n",
       "      <td>2.183925</td>\n",
       "      <td>0.121080</td>\n",
       "      <td>5.770558</td>\n",
       "      <td>1</td>\n",
       "      <td>1</td>\n",
       "    </tr>\n",
       "  </tbody>\n",
       "</table>\n",
       "</div>"
      ],
      "text/plain": [
       "                            antecedents                consequents  \\\n",
       "89               frozenset({'SapHana'})  frozenset({'PostgreSQL'})   \n",
       "91              frozenset({'Firebird'})  frozenset({'PostgreSQL'})   \n",
       "93       frozenset({'Amazon Redshift'})  frozenset({'PostgreSQL'})   \n",
       "100        frozenset({'MS SQL Server'})  frozenset({'PostgreSQL'})   \n",
       "109  frozenset({'SAP Adaptive Server'})  frozenset({'PostgreSQL'})   \n",
       "111              frozenset({'IBM DB2'})  frozenset({'PostgreSQL'})   \n",
       "119            frozenset({'MS Access'})  frozenset({'PostgreSQL'})   \n",
       "120             frozenset({'Informix'})  frozenset({'PostgreSQL'})   \n",
       "132                 frozenset({'Hive'})  frozenset({'PostgreSQL'})   \n",
       "134              frozenset({'MariaDB'})  frozenset({'PostgreSQL'})   \n",
       "141               frozenset({'Oracle'})  frozenset({'PostgreSQL'})   \n",
       "142             frozenset({'DynamoDB'})  frozenset({'PostgreSQL'})   \n",
       "197           frozenset({'PostgreSQL'})       frozenset({'MySQL'})   \n",
       "\n",
       "     antecedent support  consequent support   support  confidence      lift  \\\n",
       "89             0.025381            0.248731  0.025381    1.000000  4.020408   \n",
       "91             0.025381            0.248731  0.025381    1.000000  4.020408   \n",
       "93             0.025381            0.248731  0.025381    1.000000  4.020408   \n",
       "100            0.131980            0.248731  0.126904    0.961538  3.865777   \n",
       "109            0.060914            0.248731  0.055838    0.916667  3.685374   \n",
       "111            0.096447            0.248731  0.086294    0.894737  3.597207   \n",
       "119            0.030457            0.248731  0.025381    0.833333  3.350340   \n",
       "120            0.030457            0.248731  0.025381    0.833333  3.350340   \n",
       "132            0.045685            0.248731  0.035533    0.777778  3.126984   \n",
       "134            0.116751            0.248731  0.086294    0.739130  2.971606   \n",
       "141            0.218274            0.248731  0.157360    0.720930  2.898434   \n",
       "142            0.035533            0.248731  0.025381    0.714286  2.871720   \n",
       "197            0.248731            0.411168  0.223350    0.897959  2.183925   \n",
       "\n",
       "     leverage  conviction  antecedent_len  consequente_len  \n",
       "89   0.019068         inf               1                1  \n",
       "91   0.019068         inf               1                1  \n",
       "93   0.019068         inf               1                1  \n",
       "100  0.094076   19.532995               1                1  \n",
       "109  0.040686    9.015228               1                1  \n",
       "111  0.062305    7.137056               1                1  \n",
       "119  0.017805    4.507614               1                1  \n",
       "120  0.017805    4.507614               1                1  \n",
       "132  0.024170    3.380711               1                1  \n",
       "134  0.057255    2.879865               1                1  \n",
       "141  0.103069    2.692047               1                1  \n",
       "142  0.016543    2.629442               1                1  \n",
       "197  0.121080    5.770558               1                1  "
      ]
     },
     "execution_count": 51,
     "metadata": {},
     "output_type": "execute_result"
    }
   ],
   "source": [
    "rules3 = df[(df['consequents'].str.contains('PostgreSQL') | (df['antecedents'].str.contains('PostgreSQL'))) & (df['confidence'] > 0.7) ]\n",
    "rules3"
   ]
  },
  {
   "cell_type": "code",
   "execution_count": 13,
   "metadata": {},
   "outputs": [
    {
     "data": {
      "text/html": [
       "<div>\n",
       "<style scoped>\n",
       "    .dataframe tbody tr th:only-of-type {\n",
       "        vertical-align: middle;\n",
       "    }\n",
       "\n",
       "    .dataframe tbody tr th {\n",
       "        vertical-align: top;\n",
       "    }\n",
       "\n",
       "    .dataframe thead th {\n",
       "        text-align: right;\n",
       "    }\n",
       "</style>\n",
       "<table border=\"1\" class=\"dataframe\">\n",
       "  <thead>\n",
       "    <tr style=\"text-align: right;\">\n",
       "      <th></th>\n",
       "      <th>antecedents</th>\n",
       "      <th>consequents</th>\n",
       "      <th>antecedent support</th>\n",
       "      <th>consequent support</th>\n",
       "      <th>support</th>\n",
       "      <th>confidence</th>\n",
       "      <th>lift</th>\n",
       "      <th>leverage</th>\n",
       "      <th>conviction</th>\n",
       "      <th>antecedent_len</th>\n",
       "      <th>consequente_len</th>\n",
       "    </tr>\n",
       "  </thead>\n",
       "  <tbody>\n",
       "    <tr>\n",
       "      <th>79</th>\n",
       "      <td>frozenset({'Informix'})</td>\n",
       "      <td>frozenset({'H2'})</td>\n",
       "      <td>0.030457</td>\n",
       "      <td>0.243655</td>\n",
       "      <td>0.030457</td>\n",
       "      <td>1.000000</td>\n",
       "      <td>4.104167</td>\n",
       "      <td>0.023036</td>\n",
       "      <td>inf</td>\n",
       "      <td>1</td>\n",
       "      <td>1</td>\n",
       "    </tr>\n",
       "    <tr>\n",
       "      <th>80</th>\n",
       "      <td>frozenset({'Firebird'})</td>\n",
       "      <td>frozenset({'H2'})</td>\n",
       "      <td>0.025381</td>\n",
       "      <td>0.243655</td>\n",
       "      <td>0.025381</td>\n",
       "      <td>1.000000</td>\n",
       "      <td>4.104167</td>\n",
       "      <td>0.019197</td>\n",
       "      <td>inf</td>\n",
       "      <td>1</td>\n",
       "      <td>1</td>\n",
       "    </tr>\n",
       "    <tr>\n",
       "      <th>82</th>\n",
       "      <td>frozenset({'SapHana'})</td>\n",
       "      <td>frozenset({'H2'})</td>\n",
       "      <td>0.025381</td>\n",
       "      <td>0.243655</td>\n",
       "      <td>0.025381</td>\n",
       "      <td>1.000000</td>\n",
       "      <td>4.104167</td>\n",
       "      <td>0.019197</td>\n",
       "      <td>inf</td>\n",
       "      <td>1</td>\n",
       "      <td>1</td>\n",
       "    </tr>\n",
       "    <tr>\n",
       "      <th>106</th>\n",
       "      <td>frozenset({'SAP Adaptive Server'})</td>\n",
       "      <td>frozenset({'H2'})</td>\n",
       "      <td>0.060914</td>\n",
       "      <td>0.243655</td>\n",
       "      <td>0.055838</td>\n",
       "      <td>0.916667</td>\n",
       "      <td>3.762153</td>\n",
       "      <td>0.040996</td>\n",
       "      <td>9.076142</td>\n",
       "      <td>1</td>\n",
       "      <td>1</td>\n",
       "    </tr>\n",
       "    <tr>\n",
       "      <th>116</th>\n",
       "      <td>frozenset({'MS Access'})</td>\n",
       "      <td>frozenset({'H2'})</td>\n",
       "      <td>0.030457</td>\n",
       "      <td>0.243655</td>\n",
       "      <td>0.025381</td>\n",
       "      <td>0.833333</td>\n",
       "      <td>3.420139</td>\n",
       "      <td>0.017960</td>\n",
       "      <td>4.538071</td>\n",
       "      <td>1</td>\n",
       "      <td>1</td>\n",
       "    </tr>\n",
       "    <tr>\n",
       "      <th>128</th>\n",
       "      <td>frozenset({'IBM DB2'})</td>\n",
       "      <td>frozenset({'H2'})</td>\n",
       "      <td>0.096447</td>\n",
       "      <td>0.243655</td>\n",
       "      <td>0.076142</td>\n",
       "      <td>0.789474</td>\n",
       "      <td>3.240132</td>\n",
       "      <td>0.052642</td>\n",
       "      <td>3.592640</td>\n",
       "      <td>1</td>\n",
       "      <td>1</td>\n",
       "    </tr>\n",
       "  </tbody>\n",
       "</table>\n",
       "</div>"
      ],
      "text/plain": [
       "                            antecedents        consequents  \\\n",
       "79              frozenset({'Informix'})  frozenset({'H2'})   \n",
       "80              frozenset({'Firebird'})  frozenset({'H2'})   \n",
       "82               frozenset({'SapHana'})  frozenset({'H2'})   \n",
       "106  frozenset({'SAP Adaptive Server'})  frozenset({'H2'})   \n",
       "116            frozenset({'MS Access'})  frozenset({'H2'})   \n",
       "128              frozenset({'IBM DB2'})  frozenset({'H2'})   \n",
       "\n",
       "     antecedent support  consequent support   support  confidence      lift  \\\n",
       "79             0.030457            0.243655  0.030457    1.000000  4.104167   \n",
       "80             0.025381            0.243655  0.025381    1.000000  4.104167   \n",
       "82             0.025381            0.243655  0.025381    1.000000  4.104167   \n",
       "106            0.060914            0.243655  0.055838    0.916667  3.762153   \n",
       "116            0.030457            0.243655  0.025381    0.833333  3.420139   \n",
       "128            0.096447            0.243655  0.076142    0.789474  3.240132   \n",
       "\n",
       "     leverage  conviction  antecedent_len  consequente_len  \n",
       "79   0.023036         inf               1                1  \n",
       "80   0.019197         inf               1                1  \n",
       "82   0.019197         inf               1                1  \n",
       "106  0.040996    9.076142               1                1  \n",
       "116  0.017960    4.538071               1                1  \n",
       "128  0.052642    3.592640               1                1  "
      ]
     },
     "execution_count": 13,
     "metadata": {},
     "output_type": "execute_result"
    }
   ],
   "source": [
    "rules4 = df[(df['consequents'].str.contains('H2')) & (df['confidence'] > 0.7) ]\n",
    "rules4"
   ]
  },
  {
   "cell_type": "code",
   "execution_count": 14,
   "metadata": {},
   "outputs": [
    {
     "data": {
      "text/html": [
       "<div>\n",
       "<style scoped>\n",
       "    .dataframe tbody tr th:only-of-type {\n",
       "        vertical-align: middle;\n",
       "    }\n",
       "\n",
       "    .dataframe tbody tr th {\n",
       "        vertical-align: top;\n",
       "    }\n",
       "\n",
       "    .dataframe thead th {\n",
       "        text-align: right;\n",
       "    }\n",
       "</style>\n",
       "<table border=\"1\" class=\"dataframe\">\n",
       "  <thead>\n",
       "    <tr style=\"text-align: right;\">\n",
       "      <th></th>\n",
       "      <th>antecedents</th>\n",
       "      <th>consequents</th>\n",
       "      <th>antecedent support</th>\n",
       "      <th>consequent support</th>\n",
       "      <th>support</th>\n",
       "      <th>confidence</th>\n",
       "      <th>lift</th>\n",
       "      <th>leverage</th>\n",
       "      <th>conviction</th>\n",
       "      <th>antecedent_len</th>\n",
       "      <th>consequente_len</th>\n",
       "    </tr>\n",
       "  </thead>\n",
       "  <tbody>\n",
       "    <tr>\n",
       "      <th>64</th>\n",
       "      <td>frozenset({'SAP Adaptive Server'})</td>\n",
       "      <td>frozenset({'Oracle'})</td>\n",
       "      <td>0.060914</td>\n",
       "      <td>0.218274</td>\n",
       "      <td>0.060914</td>\n",
       "      <td>1.000000</td>\n",
       "      <td>4.581395</td>\n",
       "      <td>0.047618</td>\n",
       "      <td>inf</td>\n",
       "      <td>1</td>\n",
       "      <td>1</td>\n",
       "    </tr>\n",
       "    <tr>\n",
       "      <th>65</th>\n",
       "      <td>frozenset({'MS Access'})</td>\n",
       "      <td>frozenset({'Oracle'})</td>\n",
       "      <td>0.030457</td>\n",
       "      <td>0.218274</td>\n",
       "      <td>0.030457</td>\n",
       "      <td>1.000000</td>\n",
       "      <td>4.581395</td>\n",
       "      <td>0.023809</td>\n",
       "      <td>inf</td>\n",
       "      <td>1</td>\n",
       "      <td>1</td>\n",
       "    </tr>\n",
       "    <tr>\n",
       "      <th>67</th>\n",
       "      <td>frozenset({'Firebird'})</td>\n",
       "      <td>frozenset({'Oracle'})</td>\n",
       "      <td>0.025381</td>\n",
       "      <td>0.218274</td>\n",
       "      <td>0.025381</td>\n",
       "      <td>1.000000</td>\n",
       "      <td>4.581395</td>\n",
       "      <td>0.019841</td>\n",
       "      <td>inf</td>\n",
       "      <td>1</td>\n",
       "      <td>1</td>\n",
       "    </tr>\n",
       "    <tr>\n",
       "      <th>69</th>\n",
       "      <td>frozenset({'SapHana'})</td>\n",
       "      <td>frozenset({'Oracle'})</td>\n",
       "      <td>0.025381</td>\n",
       "      <td>0.218274</td>\n",
       "      <td>0.025381</td>\n",
       "      <td>1.000000</td>\n",
       "      <td>4.581395</td>\n",
       "      <td>0.019841</td>\n",
       "      <td>inf</td>\n",
       "      <td>1</td>\n",
       "      <td>1</td>\n",
       "    </tr>\n",
       "    <tr>\n",
       "      <th>86</th>\n",
       "      <td>frozenset({'IBM DB2'})</td>\n",
       "      <td>frozenset({'Oracle'})</td>\n",
       "      <td>0.096447</td>\n",
       "      <td>0.218274</td>\n",
       "      <td>0.086294</td>\n",
       "      <td>0.894737</td>\n",
       "      <td>4.099143</td>\n",
       "      <td>0.065243</td>\n",
       "      <td>7.426396</td>\n",
       "      <td>1</td>\n",
       "      <td>1</td>\n",
       "    </tr>\n",
       "    <tr>\n",
       "      <th>98</th>\n",
       "      <td>frozenset({'MS SQL Server'})</td>\n",
       "      <td>frozenset({'Oracle'})</td>\n",
       "      <td>0.131980</td>\n",
       "      <td>0.218274</td>\n",
       "      <td>0.111675</td>\n",
       "      <td>0.846154</td>\n",
       "      <td>3.876565</td>\n",
       "      <td>0.082867</td>\n",
       "      <td>5.081218</td>\n",
       "      <td>1</td>\n",
       "      <td>1</td>\n",
       "    </tr>\n",
       "    <tr>\n",
       "      <th>103</th>\n",
       "      <td>frozenset({'Informix'})</td>\n",
       "      <td>frozenset({'Oracle'})</td>\n",
       "      <td>0.030457</td>\n",
       "      <td>0.218274</td>\n",
       "      <td>0.025381</td>\n",
       "      <td>0.833333</td>\n",
       "      <td>3.817829</td>\n",
       "      <td>0.018733</td>\n",
       "      <td>4.690355</td>\n",
       "      <td>1</td>\n",
       "      <td>1</td>\n",
       "    </tr>\n",
       "  </tbody>\n",
       "</table>\n",
       "</div>"
      ],
      "text/plain": [
       "                            antecedents            consequents  \\\n",
       "64   frozenset({'SAP Adaptive Server'})  frozenset({'Oracle'})   \n",
       "65             frozenset({'MS Access'})  frozenset({'Oracle'})   \n",
       "67              frozenset({'Firebird'})  frozenset({'Oracle'})   \n",
       "69               frozenset({'SapHana'})  frozenset({'Oracle'})   \n",
       "86               frozenset({'IBM DB2'})  frozenset({'Oracle'})   \n",
       "98         frozenset({'MS SQL Server'})  frozenset({'Oracle'})   \n",
       "103             frozenset({'Informix'})  frozenset({'Oracle'})   \n",
       "\n",
       "     antecedent support  consequent support   support  confidence      lift  \\\n",
       "64             0.060914            0.218274  0.060914    1.000000  4.581395   \n",
       "65             0.030457            0.218274  0.030457    1.000000  4.581395   \n",
       "67             0.025381            0.218274  0.025381    1.000000  4.581395   \n",
       "69             0.025381            0.218274  0.025381    1.000000  4.581395   \n",
       "86             0.096447            0.218274  0.086294    0.894737  4.099143   \n",
       "98             0.131980            0.218274  0.111675    0.846154  3.876565   \n",
       "103            0.030457            0.218274  0.025381    0.833333  3.817829   \n",
       "\n",
       "     leverage  conviction  antecedent_len  consequente_len  \n",
       "64   0.047618         inf               1                1  \n",
       "65   0.023809         inf               1                1  \n",
       "67   0.019841         inf               1                1  \n",
       "69   0.019841         inf               1                1  \n",
       "86   0.065243    7.426396               1                1  \n",
       "98   0.082867    5.081218               1                1  \n",
       "103  0.018733    4.690355               1                1  "
      ]
     },
     "execution_count": 14,
     "metadata": {},
     "output_type": "execute_result"
    }
   ],
   "source": [
    "rules5 = df[(df['consequents'].str.contains('Oracle')) & (df['confidence'] > 0.7) ]\n",
    "rules5"
   ]
  },
  {
   "cell_type": "code",
   "execution_count": 25,
   "metadata": {},
   "outputs": [
    {
     "data": {
      "text/html": [
       "<div>\n",
       "<style scoped>\n",
       "    .dataframe tbody tr th:only-of-type {\n",
       "        vertical-align: middle;\n",
       "    }\n",
       "\n",
       "    .dataframe tbody tr th {\n",
       "        vertical-align: top;\n",
       "    }\n",
       "\n",
       "    .dataframe thead th {\n",
       "        text-align: right;\n",
       "    }\n",
       "</style>\n",
       "<table border=\"1\" class=\"dataframe\">\n",
       "  <thead>\n",
       "    <tr style=\"text-align: right;\">\n",
       "      <th></th>\n",
       "      <th>antecedents</th>\n",
       "      <th>consequents</th>\n",
       "      <th>antecedent support</th>\n",
       "      <th>consequent support</th>\n",
       "      <th>support</th>\n",
       "      <th>confidence</th>\n",
       "      <th>lift</th>\n",
       "      <th>leverage</th>\n",
       "      <th>conviction</th>\n",
       "      <th>antecedent_len</th>\n",
       "      <th>consequente_len</th>\n",
       "    </tr>\n",
       "  </thead>\n",
       "  <tbody>\n",
       "    <tr>\n",
       "      <th>31</th>\n",
       "      <td>frozenset({'SapHana'})</td>\n",
       "      <td>frozenset({'MS SQL Server'})</td>\n",
       "      <td>0.025381</td>\n",
       "      <td>0.13198</td>\n",
       "      <td>0.025381</td>\n",
       "      <td>1.000000</td>\n",
       "      <td>7.576923</td>\n",
       "      <td>0.022031</td>\n",
       "      <td>inf</td>\n",
       "      <td>1</td>\n",
       "      <td>1</td>\n",
       "    </tr>\n",
       "    <tr>\n",
       "      <th>33</th>\n",
       "      <td>frozenset({'Firebird'})</td>\n",
       "      <td>frozenset({'MS SQL Server'})</td>\n",
       "      <td>0.025381</td>\n",
       "      <td>0.13198</td>\n",
       "      <td>0.025381</td>\n",
       "      <td>1.000000</td>\n",
       "      <td>7.576923</td>\n",
       "      <td>0.022031</td>\n",
       "      <td>inf</td>\n",
       "      <td>1</td>\n",
       "      <td>1</td>\n",
       "    </tr>\n",
       "    <tr>\n",
       "      <th>41</th>\n",
       "      <td>frozenset({'IBM DB2'})</td>\n",
       "      <td>frozenset({'MS SQL Server'})</td>\n",
       "      <td>0.096447</td>\n",
       "      <td>0.13198</td>\n",
       "      <td>0.081218</td>\n",
       "      <td>0.842105</td>\n",
       "      <td>6.380567</td>\n",
       "      <td>0.068489</td>\n",
       "      <td>5.497462</td>\n",
       "      <td>1</td>\n",
       "      <td>1</td>\n",
       "    </tr>\n",
       "    <tr>\n",
       "      <th>43</th>\n",
       "      <td>frozenset({'Informix'})</td>\n",
       "      <td>frozenset({'MS SQL Server'})</td>\n",
       "      <td>0.030457</td>\n",
       "      <td>0.13198</td>\n",
       "      <td>0.025381</td>\n",
       "      <td>0.833333</td>\n",
       "      <td>6.314103</td>\n",
       "      <td>0.021361</td>\n",
       "      <td>5.208122</td>\n",
       "      <td>1</td>\n",
       "      <td>1</td>\n",
       "    </tr>\n",
       "    <tr>\n",
       "      <th>45</th>\n",
       "      <td>frozenset({'MS Access'})</td>\n",
       "      <td>frozenset({'MS SQL Server'})</td>\n",
       "      <td>0.030457</td>\n",
       "      <td>0.13198</td>\n",
       "      <td>0.025381</td>\n",
       "      <td>0.833333</td>\n",
       "      <td>6.314103</td>\n",
       "      <td>0.021361</td>\n",
       "      <td>5.208122</td>\n",
       "      <td>1</td>\n",
       "      <td>1</td>\n",
       "    </tr>\n",
       "    <tr>\n",
       "      <th>47</th>\n",
       "      <td>frozenset({'SAP Adaptive Server'})</td>\n",
       "      <td>frozenset({'MS SQL Server'})</td>\n",
       "      <td>0.060914</td>\n",
       "      <td>0.13198</td>\n",
       "      <td>0.050761</td>\n",
       "      <td>0.833333</td>\n",
       "      <td>6.314103</td>\n",
       "      <td>0.042722</td>\n",
       "      <td>5.208122</td>\n",
       "      <td>1</td>\n",
       "      <td>1</td>\n",
       "    </tr>\n",
       "  </tbody>\n",
       "</table>\n",
       "</div>"
      ],
      "text/plain": [
       "                           antecedents                   consequents  \\\n",
       "31              frozenset({'SapHana'})  frozenset({'MS SQL Server'})   \n",
       "33             frozenset({'Firebird'})  frozenset({'MS SQL Server'})   \n",
       "41              frozenset({'IBM DB2'})  frozenset({'MS SQL Server'})   \n",
       "43             frozenset({'Informix'})  frozenset({'MS SQL Server'})   \n",
       "45            frozenset({'MS Access'})  frozenset({'MS SQL Server'})   \n",
       "47  frozenset({'SAP Adaptive Server'})  frozenset({'MS SQL Server'})   \n",
       "\n",
       "    antecedent support  consequent support   support  confidence      lift  \\\n",
       "31            0.025381             0.13198  0.025381    1.000000  7.576923   \n",
       "33            0.025381             0.13198  0.025381    1.000000  7.576923   \n",
       "41            0.096447             0.13198  0.081218    0.842105  6.380567   \n",
       "43            0.030457             0.13198  0.025381    0.833333  6.314103   \n",
       "45            0.030457             0.13198  0.025381    0.833333  6.314103   \n",
       "47            0.060914             0.13198  0.050761    0.833333  6.314103   \n",
       "\n",
       "    leverage  conviction  antecedent_len  consequente_len  \n",
       "31  0.022031         inf               1                1  \n",
       "33  0.022031         inf               1                1  \n",
       "41  0.068489    5.497462               1                1  \n",
       "43  0.021361    5.208122               1                1  \n",
       "45  0.021361    5.208122               1                1  \n",
       "47  0.042722    5.208122               1                1  "
      ]
     },
     "execution_count": 25,
     "metadata": {},
     "output_type": "execute_result"
    }
   ],
   "source": [
    "#rules6 = df[(df['consequents'].str.contains('Ehcache'))]# & (df['confidence'] > 0.7) ]\n",
    "rules6 = df[ (df['consequents'].str.contains('MS SQL Server')) & (df['confidence'] > 0.7) ]\n",
    "rules6"
   ]
  },
  {
   "cell_type": "code",
   "execution_count": 29,
   "metadata": {},
   "outputs": [
    {
     "data": {
      "text/html": [
       "<div>\n",
       "<style scoped>\n",
       "    .dataframe tbody tr th:only-of-type {\n",
       "        vertical-align: middle;\n",
       "    }\n",
       "\n",
       "    .dataframe tbody tr th {\n",
       "        vertical-align: top;\n",
       "    }\n",
       "\n",
       "    .dataframe thead th {\n",
       "        text-align: right;\n",
       "    }\n",
       "</style>\n",
       "<table border=\"1\" class=\"dataframe\">\n",
       "  <thead>\n",
       "    <tr style=\"text-align: right;\">\n",
       "      <th></th>\n",
       "      <th>antecedents</th>\n",
       "      <th>consequents</th>\n",
       "      <th>antecedent support</th>\n",
       "      <th>consequent support</th>\n",
       "      <th>support</th>\n",
       "      <th>confidence</th>\n",
       "      <th>lift</th>\n",
       "      <th>leverage</th>\n",
       "      <th>conviction</th>\n",
       "      <th>antecedent_len</th>\n",
       "      <th>consequente_len</th>\n",
       "    </tr>\n",
       "  </thead>\n",
       "  <tbody>\n",
       "    <tr>\n",
       "      <th>76</th>\n",
       "      <td>frozenset({'SAP Adaptive Server'})</td>\n",
       "      <td>frozenset({'MariaDB'})</td>\n",
       "      <td>0.060914</td>\n",
       "      <td>0.116751</td>\n",
       "      <td>0.030457</td>\n",
       "      <td>0.500000</td>\n",
       "      <td>4.282609</td>\n",
       "      <td>0.023345</td>\n",
       "      <td>1.766497</td>\n",
       "      <td>1</td>\n",
       "      <td>1</td>\n",
       "    </tr>\n",
       "    <tr>\n",
       "      <th>97</th>\n",
       "      <td>frozenset({'Cassandra'})</td>\n",
       "      <td>frozenset({'MariaDB'})</td>\n",
       "      <td>0.055838</td>\n",
       "      <td>0.116751</td>\n",
       "      <td>0.025381</td>\n",
       "      <td>0.454545</td>\n",
       "      <td>3.893281</td>\n",
       "      <td>0.018862</td>\n",
       "      <td>1.619289</td>\n",
       "      <td>1</td>\n",
       "      <td>1</td>\n",
       "    </tr>\n",
       "  </tbody>\n",
       "</table>\n",
       "</div>"
      ],
      "text/plain": [
       "                           antecedents             consequents  \\\n",
       "76  frozenset({'SAP Adaptive Server'})  frozenset({'MariaDB'})   \n",
       "97            frozenset({'Cassandra'})  frozenset({'MariaDB'})   \n",
       "\n",
       "    antecedent support  consequent support   support  confidence      lift  \\\n",
       "76            0.060914            0.116751  0.030457    0.500000  4.282609   \n",
       "97            0.055838            0.116751  0.025381    0.454545  3.893281   \n",
       "\n",
       "    leverage  conviction  antecedent_len  consequente_len  \n",
       "76  0.023345    1.766497               1                1  \n",
       "97  0.018862    1.619289               1                1  "
      ]
     },
     "execution_count": 29,
     "metadata": {},
     "output_type": "execute_result"
    }
   ],
   "source": [
    "rules7 =df[ (df['consequents'] .str.contains('MariaDB'))  & (df['confidence'] > 0.4) ]\n",
    "rules7"
   ]
  },
  {
   "cell_type": "code",
   "execution_count": 30,
   "metadata": {},
   "outputs": [
    {
     "data": {
      "text/html": [
       "<div>\n",
       "<style scoped>\n",
       "    .dataframe tbody tr th:only-of-type {\n",
       "        vertical-align: middle;\n",
       "    }\n",
       "\n",
       "    .dataframe tbody tr th {\n",
       "        vertical-align: top;\n",
       "    }\n",
       "\n",
       "    .dataframe thead th {\n",
       "        text-align: right;\n",
       "    }\n",
       "</style>\n",
       "<table border=\"1\" class=\"dataframe\">\n",
       "  <thead>\n",
       "    <tr style=\"text-align: right;\">\n",
       "      <th></th>\n",
       "      <th>antecedents</th>\n",
       "      <th>consequents</th>\n",
       "      <th>antecedent support</th>\n",
       "      <th>consequent support</th>\n",
       "      <th>support</th>\n",
       "      <th>confidence</th>\n",
       "      <th>lift</th>\n",
       "      <th>leverage</th>\n",
       "      <th>conviction</th>\n",
       "      <th>antecedent_len</th>\n",
       "      <th>consequente_len</th>\n",
       "    </tr>\n",
       "  </thead>\n",
       "  <tbody>\n",
       "    <tr>\n",
       "      <th>48</th>\n",
       "      <td>frozenset({'Solr'})</td>\n",
       "      <td>frozenset({'Redis'})</td>\n",
       "      <td>0.035533</td>\n",
       "      <td>0.152284</td>\n",
       "      <td>0.030457</td>\n",
       "      <td>0.857143</td>\n",
       "      <td>5.628571</td>\n",
       "      <td>0.025046</td>\n",
       "      <td>5.934010</td>\n",
       "      <td>1</td>\n",
       "      <td>1</td>\n",
       "    </tr>\n",
       "    <tr>\n",
       "      <th>54</th>\n",
       "      <td>frozenset({'Cassandra'})</td>\n",
       "      <td>frozenset({'Redis'})</td>\n",
       "      <td>0.055838</td>\n",
       "      <td>0.152284</td>\n",
       "      <td>0.045685</td>\n",
       "      <td>0.818182</td>\n",
       "      <td>5.372727</td>\n",
       "      <td>0.037182</td>\n",
       "      <td>4.662437</td>\n",
       "      <td>1</td>\n",
       "      <td>1</td>\n",
       "    </tr>\n",
       "    <tr>\n",
       "      <th>59</th>\n",
       "      <td>frozenset({'Memcached'})</td>\n",
       "      <td>frozenset({'Redis'})</td>\n",
       "      <td>0.035533</td>\n",
       "      <td>0.152284</td>\n",
       "      <td>0.025381</td>\n",
       "      <td>0.714286</td>\n",
       "      <td>4.690476</td>\n",
       "      <td>0.019970</td>\n",
       "      <td>2.967005</td>\n",
       "      <td>1</td>\n",
       "      <td>1</td>\n",
       "    </tr>\n",
       "    <tr>\n",
       "      <th>61</th>\n",
       "      <td>frozenset({'DynamoDB'})</td>\n",
       "      <td>frozenset({'Redis'})</td>\n",
       "      <td>0.035533</td>\n",
       "      <td>0.152284</td>\n",
       "      <td>0.025381</td>\n",
       "      <td>0.714286</td>\n",
       "      <td>4.690476</td>\n",
       "      <td>0.019970</td>\n",
       "      <td>2.967005</td>\n",
       "      <td>1</td>\n",
       "      <td>1</td>\n",
       "    </tr>\n",
       "    <tr>\n",
       "      <th>70</th>\n",
       "      <td>frozenset({'HBase'})</td>\n",
       "      <td>frozenset({'Redis'})</td>\n",
       "      <td>0.065990</td>\n",
       "      <td>0.152284</td>\n",
       "      <td>0.045685</td>\n",
       "      <td>0.692308</td>\n",
       "      <td>4.546154</td>\n",
       "      <td>0.035636</td>\n",
       "      <td>2.755076</td>\n",
       "      <td>1</td>\n",
       "      <td>1</td>\n",
       "    </tr>\n",
       "    <tr>\n",
       "      <th>74</th>\n",
       "      <td>frozenset({'Hive'})</td>\n",
       "      <td>frozenset({'Redis'})</td>\n",
       "      <td>0.045685</td>\n",
       "      <td>0.152284</td>\n",
       "      <td>0.030457</td>\n",
       "      <td>0.666667</td>\n",
       "      <td>4.377778</td>\n",
       "      <td>0.023500</td>\n",
       "      <td>2.543147</td>\n",
       "      <td>1</td>\n",
       "      <td>1</td>\n",
       "    </tr>\n",
       "    <tr>\n",
       "      <th>124</th>\n",
       "      <td>frozenset({'Elasticsearch'})</td>\n",
       "      <td>frozenset({'Redis'})</td>\n",
       "      <td>0.101523</td>\n",
       "      <td>0.152284</td>\n",
       "      <td>0.050761</td>\n",
       "      <td>0.500000</td>\n",
       "      <td>3.283333</td>\n",
       "      <td>0.035301</td>\n",
       "      <td>1.695431</td>\n",
       "      <td>1</td>\n",
       "      <td>1</td>\n",
       "    </tr>\n",
       "    <tr>\n",
       "      <th>127</th>\n",
       "      <td>frozenset({'MongoDB'})</td>\n",
       "      <td>frozenset({'Redis'})</td>\n",
       "      <td>0.101523</td>\n",
       "      <td>0.152284</td>\n",
       "      <td>0.050761</td>\n",
       "      <td>0.500000</td>\n",
       "      <td>3.283333</td>\n",
       "      <td>0.035301</td>\n",
       "      <td>1.695431</td>\n",
       "      <td>1</td>\n",
       "      <td>1</td>\n",
       "    </tr>\n",
       "    <tr>\n",
       "      <th>170</th>\n",
       "      <td>frozenset({'Google Cloud Datastore'})</td>\n",
       "      <td>frozenset({'Redis'})</td>\n",
       "      <td>0.071066</td>\n",
       "      <td>0.152284</td>\n",
       "      <td>0.025381</td>\n",
       "      <td>0.357143</td>\n",
       "      <td>2.345238</td>\n",
       "      <td>0.014558</td>\n",
       "      <td>1.318669</td>\n",
       "      <td>1</td>\n",
       "      <td>1</td>\n",
       "    </tr>\n",
       "    <tr>\n",
       "      <th>224</th>\n",
       "      <td>frozenset({'PostgreSQL'})</td>\n",
       "      <td>frozenset({'Redis'})</td>\n",
       "      <td>0.248731</td>\n",
       "      <td>0.152284</td>\n",
       "      <td>0.071066</td>\n",
       "      <td>0.285714</td>\n",
       "      <td>1.876190</td>\n",
       "      <td>0.033188</td>\n",
       "      <td>1.186802</td>\n",
       "      <td>1</td>\n",
       "      <td>1</td>\n",
       "    </tr>\n",
       "    <tr>\n",
       "      <th>232</th>\n",
       "      <td>frozenset({'Oracle'})</td>\n",
       "      <td>frozenset({'Redis'})</td>\n",
       "      <td>0.218274</td>\n",
       "      <td>0.152284</td>\n",
       "      <td>0.060914</td>\n",
       "      <td>0.279070</td>\n",
       "      <td>1.832558</td>\n",
       "      <td>0.027674</td>\n",
       "      <td>1.175864</td>\n",
       "      <td>1</td>\n",
       "      <td>1</td>\n",
       "    </tr>\n",
       "    <tr>\n",
       "      <th>251</th>\n",
       "      <td>frozenset({'MariaDB'})</td>\n",
       "      <td>frozenset({'Redis'})</td>\n",
       "      <td>0.116751</td>\n",
       "      <td>0.152284</td>\n",
       "      <td>0.030457</td>\n",
       "      <td>0.260870</td>\n",
       "      <td>1.713043</td>\n",
       "      <td>0.012677</td>\n",
       "      <td>1.146910</td>\n",
       "      <td>1</td>\n",
       "      <td>1</td>\n",
       "    </tr>\n",
       "    <tr>\n",
       "      <th>256</th>\n",
       "      <td>frozenset({'Ehcache'})</td>\n",
       "      <td>frozenset({'Redis'})</td>\n",
       "      <td>0.182741</td>\n",
       "      <td>0.152284</td>\n",
       "      <td>0.045685</td>\n",
       "      <td>0.250000</td>\n",
       "      <td>1.641667</td>\n",
       "      <td>0.017857</td>\n",
       "      <td>1.130288</td>\n",
       "      <td>1</td>\n",
       "      <td>1</td>\n",
       "    </tr>\n",
       "    <tr>\n",
       "      <th>258</th>\n",
       "      <td>frozenset({'H2'})</td>\n",
       "      <td>frozenset({'Redis'})</td>\n",
       "      <td>0.243655</td>\n",
       "      <td>0.152284</td>\n",
       "      <td>0.060914</td>\n",
       "      <td>0.250000</td>\n",
       "      <td>1.641667</td>\n",
       "      <td>0.023809</td>\n",
       "      <td>1.130288</td>\n",
       "      <td>1</td>\n",
       "      <td>1</td>\n",
       "    </tr>\n",
       "    <tr>\n",
       "      <th>261</th>\n",
       "      <td>frozenset({'MySQL'})</td>\n",
       "      <td>frozenset({'Redis'})</td>\n",
       "      <td>0.411168</td>\n",
       "      <td>0.152284</td>\n",
       "      <td>0.101523</td>\n",
       "      <td>0.246914</td>\n",
       "      <td>1.621399</td>\n",
       "      <td>0.038909</td>\n",
       "      <td>1.125655</td>\n",
       "      <td>1</td>\n",
       "      <td>1</td>\n",
       "    </tr>\n",
       "    <tr>\n",
       "      <th>277</th>\n",
       "      <td>frozenset({'MS SQL Server'})</td>\n",
       "      <td>frozenset({'Redis'})</td>\n",
       "      <td>0.131980</td>\n",
       "      <td>0.152284</td>\n",
       "      <td>0.025381</td>\n",
       "      <td>0.192308</td>\n",
       "      <td>1.262821</td>\n",
       "      <td>0.005282</td>\n",
       "      <td>1.049553</td>\n",
       "      <td>1</td>\n",
       "      <td>1</td>\n",
       "    </tr>\n",
       "  </tbody>\n",
       "</table>\n",
       "</div>"
      ],
      "text/plain": [
       "                               antecedents           consequents  \\\n",
       "48                     frozenset({'Solr'})  frozenset({'Redis'})   \n",
       "54                frozenset({'Cassandra'})  frozenset({'Redis'})   \n",
       "59                frozenset({'Memcached'})  frozenset({'Redis'})   \n",
       "61                 frozenset({'DynamoDB'})  frozenset({'Redis'})   \n",
       "70                    frozenset({'HBase'})  frozenset({'Redis'})   \n",
       "74                     frozenset({'Hive'})  frozenset({'Redis'})   \n",
       "124           frozenset({'Elasticsearch'})  frozenset({'Redis'})   \n",
       "127                 frozenset({'MongoDB'})  frozenset({'Redis'})   \n",
       "170  frozenset({'Google Cloud Datastore'})  frozenset({'Redis'})   \n",
       "224              frozenset({'PostgreSQL'})  frozenset({'Redis'})   \n",
       "232                  frozenset({'Oracle'})  frozenset({'Redis'})   \n",
       "251                 frozenset({'MariaDB'})  frozenset({'Redis'})   \n",
       "256                 frozenset({'Ehcache'})  frozenset({'Redis'})   \n",
       "258                      frozenset({'H2'})  frozenset({'Redis'})   \n",
       "261                   frozenset({'MySQL'})  frozenset({'Redis'})   \n",
       "277           frozenset({'MS SQL Server'})  frozenset({'Redis'})   \n",
       "\n",
       "     antecedent support  consequent support   support  confidence      lift  \\\n",
       "48             0.035533            0.152284  0.030457    0.857143  5.628571   \n",
       "54             0.055838            0.152284  0.045685    0.818182  5.372727   \n",
       "59             0.035533            0.152284  0.025381    0.714286  4.690476   \n",
       "61             0.035533            0.152284  0.025381    0.714286  4.690476   \n",
       "70             0.065990            0.152284  0.045685    0.692308  4.546154   \n",
       "74             0.045685            0.152284  0.030457    0.666667  4.377778   \n",
       "124            0.101523            0.152284  0.050761    0.500000  3.283333   \n",
       "127            0.101523            0.152284  0.050761    0.500000  3.283333   \n",
       "170            0.071066            0.152284  0.025381    0.357143  2.345238   \n",
       "224            0.248731            0.152284  0.071066    0.285714  1.876190   \n",
       "232            0.218274            0.152284  0.060914    0.279070  1.832558   \n",
       "251            0.116751            0.152284  0.030457    0.260870  1.713043   \n",
       "256            0.182741            0.152284  0.045685    0.250000  1.641667   \n",
       "258            0.243655            0.152284  0.060914    0.250000  1.641667   \n",
       "261            0.411168            0.152284  0.101523    0.246914  1.621399   \n",
       "277            0.131980            0.152284  0.025381    0.192308  1.262821   \n",
       "\n",
       "     leverage  conviction  antecedent_len  consequente_len  \n",
       "48   0.025046    5.934010               1                1  \n",
       "54   0.037182    4.662437               1                1  \n",
       "59   0.019970    2.967005               1                1  \n",
       "61   0.019970    2.967005               1                1  \n",
       "70   0.035636    2.755076               1                1  \n",
       "74   0.023500    2.543147               1                1  \n",
       "124  0.035301    1.695431               1                1  \n",
       "127  0.035301    1.695431               1                1  \n",
       "170  0.014558    1.318669               1                1  \n",
       "224  0.033188    1.186802               1                1  \n",
       "232  0.027674    1.175864               1                1  \n",
       "251  0.012677    1.146910               1                1  \n",
       "256  0.017857    1.130288               1                1  \n",
       "258  0.023809    1.130288               1                1  \n",
       "261  0.038909    1.125655               1                1  \n",
       "277  0.005282    1.049553               1                1  "
      ]
     },
     "execution_count": 30,
     "metadata": {},
     "output_type": "execute_result"
    }
   ],
   "source": [
    "rules8 = df[ (df['consequents'].str.contains('Redis'))] #& (df['confidence'] > 0.7) ]\n",
    "rules8"
   ]
  },
  {
   "cell_type": "code",
   "execution_count": 48,
   "metadata": {},
   "outputs": [
    {
     "data": {
      "text/html": [
       "<div>\n",
       "<style scoped>\n",
       "    .dataframe tbody tr th:only-of-type {\n",
       "        vertical-align: middle;\n",
       "    }\n",
       "\n",
       "    .dataframe tbody tr th {\n",
       "        vertical-align: top;\n",
       "    }\n",
       "\n",
       "    .dataframe thead th {\n",
       "        text-align: right;\n",
       "    }\n",
       "</style>\n",
       "<table border=\"1\" class=\"dataframe\">\n",
       "  <thead>\n",
       "    <tr style=\"text-align: right;\">\n",
       "      <th></th>\n",
       "      <th>antecedents</th>\n",
       "      <th>consequents</th>\n",
       "      <th>antecedent support</th>\n",
       "      <th>consequent support</th>\n",
       "      <th>support</th>\n",
       "      <th>confidence</th>\n",
       "      <th>lift</th>\n",
       "      <th>leverage</th>\n",
       "      <th>conviction</th>\n",
       "      <th>antecedent_len</th>\n",
       "      <th>consequente_len</th>\n",
       "    </tr>\n",
       "  </thead>\n",
       "  <tbody>\n",
       "    <tr>\n",
       "      <th>95</th>\n",
       "      <td>frozenset({'Memcached'})</td>\n",
       "      <td>frozenset({'Ehcache'})</td>\n",
       "      <td>0.035533</td>\n",
       "      <td>0.182741</td>\n",
       "      <td>0.025381</td>\n",
       "      <td>0.714286</td>\n",
       "      <td>3.908730</td>\n",
       "      <td>0.018887</td>\n",
       "      <td>2.860406</td>\n",
       "      <td>1</td>\n",
       "      <td>1</td>\n",
       "    </tr>\n",
       "    <tr>\n",
       "      <th>181</th>\n",
       "      <td>frozenset({'SAP Adaptive Server'})</td>\n",
       "      <td>frozenset({'Ehcache'})</td>\n",
       "      <td>0.060914</td>\n",
       "      <td>0.182741</td>\n",
       "      <td>0.025381</td>\n",
       "      <td>0.416667</td>\n",
       "      <td>2.280093</td>\n",
       "      <td>0.014249</td>\n",
       "      <td>1.401015</td>\n",
       "      <td>1</td>\n",
       "      <td>1</td>\n",
       "    </tr>\n",
       "    <tr>\n",
       "      <th>212</th>\n",
       "      <td>frozenset({'Elasticsearch'})</td>\n",
       "      <td>frozenset({'Ehcache'})</td>\n",
       "      <td>0.101523</td>\n",
       "      <td>0.182741</td>\n",
       "      <td>0.035533</td>\n",
       "      <td>0.350000</td>\n",
       "      <td>1.915278</td>\n",
       "      <td>0.016981</td>\n",
       "      <td>1.257321</td>\n",
       "      <td>1</td>\n",
       "      <td>1</td>\n",
       "    </tr>\n",
       "    <tr>\n",
       "      <th>214</th>\n",
       "      <td>frozenset({'MongoDB'})</td>\n",
       "      <td>frozenset({'Ehcache'})</td>\n",
       "      <td>0.101523</td>\n",
       "      <td>0.182741</td>\n",
       "      <td>0.035533</td>\n",
       "      <td>0.350000</td>\n",
       "      <td>1.915278</td>\n",
       "      <td>0.016981</td>\n",
       "      <td>1.257321</td>\n",
       "      <td>1</td>\n",
       "      <td>1</td>\n",
       "    </tr>\n",
       "    <tr>\n",
       "      <th>216</th>\n",
       "      <td>frozenset({'Oracle'})</td>\n",
       "      <td>frozenset({'Ehcache'})</td>\n",
       "      <td>0.218274</td>\n",
       "      <td>0.182741</td>\n",
       "      <td>0.076142</td>\n",
       "      <td>0.348837</td>\n",
       "      <td>1.908915</td>\n",
       "      <td>0.036254</td>\n",
       "      <td>1.255076</td>\n",
       "      <td>1</td>\n",
       "      <td>1</td>\n",
       "    </tr>\n",
       "    <tr>\n",
       "      <th>242</th>\n",
       "      <td>frozenset({'PostgreSQL'})</td>\n",
       "      <td>frozenset({'Ehcache'})</td>\n",
       "      <td>0.248731</td>\n",
       "      <td>0.182741</td>\n",
       "      <td>0.081218</td>\n",
       "      <td>0.326531</td>\n",
       "      <td>1.786848</td>\n",
       "      <td>0.035765</td>\n",
       "      <td>1.213506</td>\n",
       "      <td>1</td>\n",
       "      <td>1</td>\n",
       "    </tr>\n",
       "    <tr>\n",
       "      <th>252</th>\n",
       "      <td>frozenset({'MS SQL Server'})</td>\n",
       "      <td>frozenset({'Ehcache'})</td>\n",
       "      <td>0.131980</td>\n",
       "      <td>0.182741</td>\n",
       "      <td>0.040609</td>\n",
       "      <td>0.307692</td>\n",
       "      <td>1.683761</td>\n",
       "      <td>0.016491</td>\n",
       "      <td>1.180485</td>\n",
       "      <td>1</td>\n",
       "      <td>1</td>\n",
       "    </tr>\n",
       "    <tr>\n",
       "      <th>255</th>\n",
       "      <td>frozenset({'MariaDB'})</td>\n",
       "      <td>frozenset({'Ehcache'})</td>\n",
       "      <td>0.116751</td>\n",
       "      <td>0.182741</td>\n",
       "      <td>0.035533</td>\n",
       "      <td>0.304348</td>\n",
       "      <td>1.665459</td>\n",
       "      <td>0.014198</td>\n",
       "      <td>1.174810</td>\n",
       "      <td>1</td>\n",
       "      <td>1</td>\n",
       "    </tr>\n",
       "    <tr>\n",
       "      <th>257</th>\n",
       "      <td>frozenset({'Redis'})</td>\n",
       "      <td>frozenset({'Ehcache'})</td>\n",
       "      <td>0.152284</td>\n",
       "      <td>0.182741</td>\n",
       "      <td>0.045685</td>\n",
       "      <td>0.300000</td>\n",
       "      <td>1.641667</td>\n",
       "      <td>0.017857</td>\n",
       "      <td>1.167513</td>\n",
       "      <td>1</td>\n",
       "      <td>1</td>\n",
       "    </tr>\n",
       "    <tr>\n",
       "      <th>267</th>\n",
       "      <td>frozenset({'IBM DB2'})</td>\n",
       "      <td>frozenset({'Ehcache'})</td>\n",
       "      <td>0.096447</td>\n",
       "      <td>0.182741</td>\n",
       "      <td>0.025381</td>\n",
       "      <td>0.263158</td>\n",
       "      <td>1.440058</td>\n",
       "      <td>0.007756</td>\n",
       "      <td>1.109137</td>\n",
       "      <td>1</td>\n",
       "      <td>1</td>\n",
       "    </tr>\n",
       "    <tr>\n",
       "      <th>273</th>\n",
       "      <td>frozenset({'H2'})</td>\n",
       "      <td>frozenset({'Ehcache'})</td>\n",
       "      <td>0.243655</td>\n",
       "      <td>0.182741</td>\n",
       "      <td>0.060914</td>\n",
       "      <td>0.250000</td>\n",
       "      <td>1.368056</td>\n",
       "      <td>0.016388</td>\n",
       "      <td>1.089679</td>\n",
       "      <td>1</td>\n",
       "      <td>1</td>\n",
       "    </tr>\n",
       "    <tr>\n",
       "      <th>274</th>\n",
       "      <td>frozenset({'MySQL'})</td>\n",
       "      <td>frozenset({'Ehcache'})</td>\n",
       "      <td>0.411168</td>\n",
       "      <td>0.182741</td>\n",
       "      <td>0.096447</td>\n",
       "      <td>0.234568</td>\n",
       "      <td>1.283608</td>\n",
       "      <td>0.021309</td>\n",
       "      <td>1.067709</td>\n",
       "      <td>1</td>\n",
       "      <td>1</td>\n",
       "    </tr>\n",
       "  </tbody>\n",
       "</table>\n",
       "</div>"
      ],
      "text/plain": [
       "                            antecedents             consequents  \\\n",
       "95             frozenset({'Memcached'})  frozenset({'Ehcache'})   \n",
       "181  frozenset({'SAP Adaptive Server'})  frozenset({'Ehcache'})   \n",
       "212        frozenset({'Elasticsearch'})  frozenset({'Ehcache'})   \n",
       "214              frozenset({'MongoDB'})  frozenset({'Ehcache'})   \n",
       "216               frozenset({'Oracle'})  frozenset({'Ehcache'})   \n",
       "242           frozenset({'PostgreSQL'})  frozenset({'Ehcache'})   \n",
       "252        frozenset({'MS SQL Server'})  frozenset({'Ehcache'})   \n",
       "255              frozenset({'MariaDB'})  frozenset({'Ehcache'})   \n",
       "257                frozenset({'Redis'})  frozenset({'Ehcache'})   \n",
       "267              frozenset({'IBM DB2'})  frozenset({'Ehcache'})   \n",
       "273                   frozenset({'H2'})  frozenset({'Ehcache'})   \n",
       "274                frozenset({'MySQL'})  frozenset({'Ehcache'})   \n",
       "\n",
       "     antecedent support  consequent support   support  confidence      lift  \\\n",
       "95             0.035533            0.182741  0.025381    0.714286  3.908730   \n",
       "181            0.060914            0.182741  0.025381    0.416667  2.280093   \n",
       "212            0.101523            0.182741  0.035533    0.350000  1.915278   \n",
       "214            0.101523            0.182741  0.035533    0.350000  1.915278   \n",
       "216            0.218274            0.182741  0.076142    0.348837  1.908915   \n",
       "242            0.248731            0.182741  0.081218    0.326531  1.786848   \n",
       "252            0.131980            0.182741  0.040609    0.307692  1.683761   \n",
       "255            0.116751            0.182741  0.035533    0.304348  1.665459   \n",
       "257            0.152284            0.182741  0.045685    0.300000  1.641667   \n",
       "267            0.096447            0.182741  0.025381    0.263158  1.440058   \n",
       "273            0.243655            0.182741  0.060914    0.250000  1.368056   \n",
       "274            0.411168            0.182741  0.096447    0.234568  1.283608   \n",
       "\n",
       "     leverage  conviction  antecedent_len  consequente_len  \n",
       "95   0.018887    2.860406               1                1  \n",
       "181  0.014249    1.401015               1                1  \n",
       "212  0.016981    1.257321               1                1  \n",
       "214  0.016981    1.257321               1                1  \n",
       "216  0.036254    1.255076               1                1  \n",
       "242  0.035765    1.213506               1                1  \n",
       "252  0.016491    1.180485               1                1  \n",
       "255  0.014198    1.174810               1                1  \n",
       "257  0.017857    1.167513               1                1  \n",
       "267  0.007756    1.109137               1                1  \n",
       "273  0.016388    1.089679               1                1  \n",
       "274  0.021309    1.067709               1                1  "
      ]
     },
     "execution_count": 48,
     "metadata": {},
     "output_type": "execute_result"
    }
   ],
   "source": [
    "#rules9 = df[(df['consequents'].str.contains('MongoDB')) & (df['confidence'] > 0.7) ]\n",
    "rules9 = df[(df['consequents'].str.contains('Ehcache'))]# & (df['confidence'] > 0.7) ]\n",
    "rules9"
   ]
  },
  {
   "cell_type": "code",
   "execution_count": 42,
   "metadata": {},
   "outputs": [
    {
     "data": {
      "text/html": [
       "<div>\n",
       "<style scoped>\n",
       "    .dataframe tbody tr th:only-of-type {\n",
       "        vertical-align: middle;\n",
       "    }\n",
       "\n",
       "    .dataframe tbody tr th {\n",
       "        vertical-align: top;\n",
       "    }\n",
       "\n",
       "    .dataframe thead th {\n",
       "        text-align: right;\n",
       "    }\n",
       "</style>\n",
       "<table border=\"1\" class=\"dataframe\">\n",
       "  <thead>\n",
       "    <tr style=\"text-align: right;\">\n",
       "      <th></th>\n",
       "      <th>antecedents</th>\n",
       "      <th>consequents</th>\n",
       "      <th>antecedent support</th>\n",
       "      <th>consequent support</th>\n",
       "      <th>support</th>\n",
       "      <th>confidence</th>\n",
       "      <th>lift</th>\n",
       "      <th>leverage</th>\n",
       "      <th>conviction</th>\n",
       "      <th>antecedent_len</th>\n",
       "      <th>consequente_len</th>\n",
       "    </tr>\n",
       "  </thead>\n",
       "  <tbody>\n",
       "    <tr>\n",
       "      <th>12</th>\n",
       "      <td>frozenset({'SapHana'})</td>\n",
       "      <td>frozenset({'IBM DB2'})</td>\n",
       "      <td>0.025381</td>\n",
       "      <td>0.096447</td>\n",
       "      <td>0.025381</td>\n",
       "      <td>1.000000</td>\n",
       "      <td>10.368421</td>\n",
       "      <td>0.022933</td>\n",
       "      <td>inf</td>\n",
       "      <td>1</td>\n",
       "      <td>1</td>\n",
       "    </tr>\n",
       "    <tr>\n",
       "      <th>14</th>\n",
       "      <td>frozenset({'Firebird'})</td>\n",
       "      <td>frozenset({'IBM DB2'})</td>\n",
       "      <td>0.025381</td>\n",
       "      <td>0.096447</td>\n",
       "      <td>0.025381</td>\n",
       "      <td>1.000000</td>\n",
       "      <td>10.368421</td>\n",
       "      <td>0.022933</td>\n",
       "      <td>inf</td>\n",
       "      <td>1</td>\n",
       "      <td>1</td>\n",
       "    </tr>\n",
       "    <tr>\n",
       "      <th>24</th>\n",
       "      <td>frozenset({'Informix'})</td>\n",
       "      <td>frozenset({'IBM DB2'})</td>\n",
       "      <td>0.030457</td>\n",
       "      <td>0.096447</td>\n",
       "      <td>0.025381</td>\n",
       "      <td>0.833333</td>\n",
       "      <td>8.640351</td>\n",
       "      <td>0.022443</td>\n",
       "      <td>5.42132</td>\n",
       "      <td>1</td>\n",
       "      <td>1</td>\n",
       "    </tr>\n",
       "    <tr>\n",
       "      <th>25</th>\n",
       "      <td>frozenset({'SAP Adaptive Server'})</td>\n",
       "      <td>frozenset({'IBM DB2'})</td>\n",
       "      <td>0.060914</td>\n",
       "      <td>0.096447</td>\n",
       "      <td>0.050761</td>\n",
       "      <td>0.833333</td>\n",
       "      <td>8.640351</td>\n",
       "      <td>0.044886</td>\n",
       "      <td>5.42132</td>\n",
       "      <td>1</td>\n",
       "      <td>1</td>\n",
       "    </tr>\n",
       "  </tbody>\n",
       "</table>\n",
       "</div>"
      ],
      "text/plain": [
       "                           antecedents             consequents  \\\n",
       "12              frozenset({'SapHana'})  frozenset({'IBM DB2'})   \n",
       "14             frozenset({'Firebird'})  frozenset({'IBM DB2'})   \n",
       "24             frozenset({'Informix'})  frozenset({'IBM DB2'})   \n",
       "25  frozenset({'SAP Adaptive Server'})  frozenset({'IBM DB2'})   \n",
       "\n",
       "    antecedent support  consequent support   support  confidence       lift  \\\n",
       "12            0.025381            0.096447  0.025381    1.000000  10.368421   \n",
       "14            0.025381            0.096447  0.025381    1.000000  10.368421   \n",
       "24            0.030457            0.096447  0.025381    0.833333   8.640351   \n",
       "25            0.060914            0.096447  0.050761    0.833333   8.640351   \n",
       "\n",
       "    leverage  conviction  antecedent_len  consequente_len  \n",
       "12  0.022933         inf               1                1  \n",
       "14  0.022933         inf               1                1  \n",
       "24  0.022443     5.42132               1                1  \n",
       "25  0.044886     5.42132               1                1  "
      ]
     },
     "execution_count": 42,
     "metadata": {},
     "output_type": "execute_result"
    }
   ],
   "source": [
    "#rules10 = df[ (df['consequents'].str.contains('MS SQL Server')) & (df['confidence'] > 0.7) ]\n",
    "rules10 = df[ (df['consequents'].str.contains('IBM DB2')) & (df['confidence'] > 0.7) ]\n",
    "rules10"
   ]
  },
  {
   "cell_type": "code",
   "execution_count": 44,
   "metadata": {},
   "outputs": [
    {
     "data": {
      "text/html": [
       "<div>\n",
       "<style scoped>\n",
       "    .dataframe tbody tr th:only-of-type {\n",
       "        vertical-align: middle;\n",
       "    }\n",
       "\n",
       "    .dataframe tbody tr th {\n",
       "        vertical-align: top;\n",
       "    }\n",
       "\n",
       "    .dataframe thead th {\n",
       "        text-align: right;\n",
       "    }\n",
       "</style>\n",
       "<table border=\"1\" class=\"dataframe\">\n",
       "  <thead>\n",
       "    <tr style=\"text-align: right;\">\n",
       "      <th></th>\n",
       "      <th>antecedents</th>\n",
       "      <th>consequents</th>\n",
       "      <th>antecedent support</th>\n",
       "      <th>consequent support</th>\n",
       "      <th>support</th>\n",
       "      <th>confidence</th>\n",
       "      <th>lift</th>\n",
       "      <th>leverage</th>\n",
       "      <th>conviction</th>\n",
       "      <th>antecedent_len</th>\n",
       "      <th>consequente_len</th>\n",
       "    </tr>\n",
       "  </thead>\n",
       "  <tbody>\n",
       "    <tr>\n",
       "      <th>39</th>\n",
       "      <td>frozenset({'DynamoDB'})</td>\n",
       "      <td>frozenset({'MongoDB'})</td>\n",
       "      <td>0.035533</td>\n",
       "      <td>0.101523</td>\n",
       "      <td>0.025381</td>\n",
       "      <td>0.714286</td>\n",
       "      <td>7.035714</td>\n",
       "      <td>0.021773</td>\n",
       "      <td>3.14467</td>\n",
       "      <td>1</td>\n",
       "      <td>1</td>\n",
       "    </tr>\n",
       "    <tr>\n",
       "      <th>53</th>\n",
       "      <td>frozenset({'Cassandra'})</td>\n",
       "      <td>frozenset({'MongoDB'})</td>\n",
       "      <td>0.055838</td>\n",
       "      <td>0.101523</td>\n",
       "      <td>0.030457</td>\n",
       "      <td>0.545455</td>\n",
       "      <td>5.372727</td>\n",
       "      <td>0.024788</td>\n",
       "      <td>1.97665</td>\n",
       "      <td>1</td>\n",
       "      <td>1</td>\n",
       "    </tr>\n",
       "  </tbody>\n",
       "</table>\n",
       "</div>"
      ],
      "text/plain": [
       "                 antecedents             consequents  antecedent support  \\\n",
       "39   frozenset({'DynamoDB'})  frozenset({'MongoDB'})            0.035533   \n",
       "53  frozenset({'Cassandra'})  frozenset({'MongoDB'})            0.055838   \n",
       "\n",
       "    consequent support   support  confidence      lift  leverage  conviction  \\\n",
       "39            0.101523  0.025381    0.714286  7.035714  0.021773     3.14467   \n",
       "53            0.101523  0.030457    0.545455  5.372727  0.024788     1.97665   \n",
       "\n",
       "    antecedent_len  consequente_len  \n",
       "39               1                1  \n",
       "53               1                1  "
      ]
     },
     "execution_count": 44,
     "metadata": {},
     "output_type": "execute_result"
    }
   ],
   "source": [
    "#rules11 = df[ (df['consequents'] .str.contains('MariaDB')) & (df['confidence'] > 0.7) ]\n",
    "rules11 = df[ (df['consequents'] .str.contains('MongoDB')) & (df['confidence'] > 0.5) ]\n",
    "rules11"
   ]
  },
  {
   "cell_type": "code",
   "execution_count": 46,
   "metadata": {},
   "outputs": [
    {
     "data": {
      "text/html": [
       "<div>\n",
       "<style scoped>\n",
       "    .dataframe tbody tr th:only-of-type {\n",
       "        vertical-align: middle;\n",
       "    }\n",
       "\n",
       "    .dataframe tbody tr th {\n",
       "        vertical-align: top;\n",
       "    }\n",
       "\n",
       "    .dataframe thead th {\n",
       "        text-align: right;\n",
       "    }\n",
       "</style>\n",
       "<table border=\"1\" class=\"dataframe\">\n",
       "  <thead>\n",
       "    <tr style=\"text-align: right;\">\n",
       "      <th></th>\n",
       "      <th>antecedents</th>\n",
       "      <th>consequents</th>\n",
       "      <th>antecedent support</th>\n",
       "      <th>consequent support</th>\n",
       "      <th>support</th>\n",
       "      <th>confidence</th>\n",
       "      <th>lift</th>\n",
       "      <th>leverage</th>\n",
       "      <th>conviction</th>\n",
       "      <th>antecedent_len</th>\n",
       "      <th>consequente_len</th>\n",
       "    </tr>\n",
       "  </thead>\n",
       "  <tbody>\n",
       "    <tr>\n",
       "      <th>18</th>\n",
       "      <td>frozenset({'Firebird'})</td>\n",
       "      <td>frozenset({'SQLite'})</td>\n",
       "      <td>0.025381</td>\n",
       "      <td>0.111675</td>\n",
       "      <td>0.025381</td>\n",
       "      <td>1.000000</td>\n",
       "      <td>8.954545</td>\n",
       "      <td>0.022546</td>\n",
       "      <td>inf</td>\n",
       "      <td>1</td>\n",
       "      <td>1</td>\n",
       "    </tr>\n",
       "    <tr>\n",
       "      <th>21</th>\n",
       "      <td>frozenset({'SapHana'})</td>\n",
       "      <td>frozenset({'SQLite'})</td>\n",
       "      <td>0.025381</td>\n",
       "      <td>0.111675</td>\n",
       "      <td>0.025381</td>\n",
       "      <td>1.000000</td>\n",
       "      <td>8.954545</td>\n",
       "      <td>0.022546</td>\n",
       "      <td>inf</td>\n",
       "      <td>1</td>\n",
       "      <td>1</td>\n",
       "    </tr>\n",
       "    <tr>\n",
       "      <th>35</th>\n",
       "      <td>frozenset({'Informix'})</td>\n",
       "      <td>frozenset({'SQLite'})</td>\n",
       "      <td>0.030457</td>\n",
       "      <td>0.111675</td>\n",
       "      <td>0.025381</td>\n",
       "      <td>0.833333</td>\n",
       "      <td>7.462121</td>\n",
       "      <td>0.021979</td>\n",
       "      <td>5.329949</td>\n",
       "      <td>1</td>\n",
       "      <td>1</td>\n",
       "    </tr>\n",
       "  </tbody>\n",
       "</table>\n",
       "</div>"
      ],
      "text/plain": [
       "                antecedents            consequents  antecedent support  \\\n",
       "18  frozenset({'Firebird'})  frozenset({'SQLite'})            0.025381   \n",
       "21   frozenset({'SapHana'})  frozenset({'SQLite'})            0.025381   \n",
       "35  frozenset({'Informix'})  frozenset({'SQLite'})            0.030457   \n",
       "\n",
       "    consequent support   support  confidence      lift  leverage  conviction  \\\n",
       "18            0.111675  0.025381    1.000000  8.954545  0.022546         inf   \n",
       "21            0.111675  0.025381    1.000000  8.954545  0.022546         inf   \n",
       "35            0.111675  0.025381    0.833333  7.462121  0.021979    5.329949   \n",
       "\n",
       "    antecedent_len  consequente_len  \n",
       "18               1                1  \n",
       "21               1                1  \n",
       "35               1                1  "
      ]
     },
     "execution_count": 46,
     "metadata": {},
     "output_type": "execute_result"
    }
   ],
   "source": [
    "rules12 = df[ (df['consequents'] .str.contains('SQLite')) & (df['confidence'] > 0.7) ]\n",
    "rules12"
   ]
  },
  {
   "attachments": {},
   "cell_type": "markdown",
   "metadata": {},
   "source": [
    "Expected Patterns Session\n",
    "In the rules below, we highlight the dependence presented in opposite directions and the expected correlation."
   ]
  },
  {
   "cell_type": "code",
   "execution_count": 49,
   "metadata": {},
   "outputs": [
    {
     "data": {
      "text/html": [
       "<div>\n",
       "<style scoped>\n",
       "    .dataframe tbody tr th:only-of-type {\n",
       "        vertical-align: middle;\n",
       "    }\n",
       "\n",
       "    .dataframe tbody tr th {\n",
       "        vertical-align: top;\n",
       "    }\n",
       "\n",
       "    .dataframe thead th {\n",
       "        text-align: right;\n",
       "    }\n",
       "</style>\n",
       "<table border=\"1\" class=\"dataframe\">\n",
       "  <thead>\n",
       "    <tr style=\"text-align: right;\">\n",
       "      <th></th>\n",
       "      <th>antecedents</th>\n",
       "      <th>consequents</th>\n",
       "      <th>antecedent support</th>\n",
       "      <th>consequent support</th>\n",
       "      <th>support</th>\n",
       "      <th>confidence</th>\n",
       "      <th>lift</th>\n",
       "      <th>leverage</th>\n",
       "      <th>conviction</th>\n",
       "      <th>antecedent_len</th>\n",
       "      <th>consequente_len</th>\n",
       "    </tr>\n",
       "  </thead>\n",
       "  <tbody>\n",
       "    <tr>\n",
       "      <th>186</th>\n",
       "      <td>frozenset({'MySQL'})</td>\n",
       "      <td>frozenset({'MariaDB'})</td>\n",
       "      <td>0.411168</td>\n",
       "      <td>0.116751</td>\n",
       "      <td>0.106599</td>\n",
       "      <td>0.259259</td>\n",
       "      <td>2.220612</td>\n",
       "      <td>0.058595</td>\n",
       "      <td>1.192386</td>\n",
       "      <td>1</td>\n",
       "      <td>1</td>\n",
       "    </tr>\n",
       "    <tr>\n",
       "      <th>187</th>\n",
       "      <td>frozenset({'MariaDB'})</td>\n",
       "      <td>frozenset({'MySQL'})</td>\n",
       "      <td>0.116751</td>\n",
       "      <td>0.411168</td>\n",
       "      <td>0.106599</td>\n",
       "      <td>0.913043</td>\n",
       "      <td>2.220612</td>\n",
       "      <td>0.058595</td>\n",
       "      <td>6.771574</td>\n",
       "      <td>1</td>\n",
       "      <td>1</td>\n",
       "    </tr>\n",
       "  </tbody>\n",
       "</table>\n",
       "</div>"
      ],
      "text/plain": [
       "                antecedents             consequents  antecedent support  \\\n",
       "186    frozenset({'MySQL'})  frozenset({'MariaDB'})            0.411168   \n",
       "187  frozenset({'MariaDB'})    frozenset({'MySQL'})            0.116751   \n",
       "\n",
       "     consequent support   support  confidence      lift  leverage  conviction  \\\n",
       "186            0.116751  0.106599    0.259259  2.220612  0.058595    1.192386   \n",
       "187            0.411168  0.106599    0.913043  2.220612  0.058595    6.771574   \n",
       "\n",
       "     antecedent_len  consequente_len  \n",
       "186               1                1  \n",
       "187               1                1  "
      ]
     },
     "execution_count": 49,
     "metadata": {},
     "output_type": "execute_result"
    }
   ],
   "source": [
    "rules7a = df[((df['antecedents'].str.contains('MariaDB')) & (df['consequents'].str.contains('MySQL'))) | \n",
    "((df['antecedents'].str.contains('MySQL')) & (df['consequents'].str.contains('MariaDB')))]\n",
    "rules7a"
   ]
  },
  {
   "cell_type": "code",
   "execution_count": 56,
   "metadata": {},
   "outputs": [
    {
     "data": {
      "text/html": [
       "<div>\n",
       "<style scoped>\n",
       "    .dataframe tbody tr th:only-of-type {\n",
       "        vertical-align: middle;\n",
       "    }\n",
       "\n",
       "    .dataframe tbody tr th {\n",
       "        vertical-align: top;\n",
       "    }\n",
       "\n",
       "    .dataframe thead th {\n",
       "        text-align: right;\n",
       "    }\n",
       "</style>\n",
       "<table border=\"1\" class=\"dataframe\">\n",
       "  <thead>\n",
       "    <tr style=\"text-align: right;\">\n",
       "      <th></th>\n",
       "      <th>antecedents</th>\n",
       "      <th>consequents</th>\n",
       "      <th>antecedent support</th>\n",
       "      <th>consequent support</th>\n",
       "      <th>support</th>\n",
       "      <th>confidence</th>\n",
       "      <th>lift</th>\n",
       "      <th>leverage</th>\n",
       "      <th>conviction</th>\n",
       "      <th>antecedent_len</th>\n",
       "      <th>consequente_len</th>\n",
       "    </tr>\n",
       "  </thead>\n",
       "  <tbody>\n",
       "  </tbody>\n",
       "</table>\n",
       "</div>"
      ],
      "text/plain": [
       "Empty DataFrame\n",
       "Columns: [antecedents, consequents, antecedent support, consequent support, support, confidence, lift, leverage, conviction, antecedent_len, consequente_len]\n",
       "Index: []"
      ]
     },
     "execution_count": 56,
     "metadata": {},
     "output_type": "execute_result"
    }
   ],
   "source": [
    "rules3a = df2[((df2['antecedents'].str.contains('PostgreSQL')) & (df2['consequents'].str.contains('PostGIS'))) | \n",
    "((df2['antecedents'].str.contains('PostGIS')) & (df2['consequents'].str.contains('PostgreSQL')))]\n",
    "#rules3a = df2[(df2['consequents'].str.contains('PostGIS'))]\n",
    "rules3a"
   ]
  },
  {
   "attachments": {},
   "cell_type": "markdown",
   "metadata": {},
   "source": [
    "Unexpected Patterns Session\n",
    "In the rules below we highlight competition and high lift values."
   ]
  },
  {
   "cell_type": "code",
   "execution_count": 59,
   "metadata": {},
   "outputs": [
    {
     "data": {
      "text/html": [
       "<div>\n",
       "<style scoped>\n",
       "    .dataframe tbody tr th:only-of-type {\n",
       "        vertical-align: middle;\n",
       "    }\n",
       "\n",
       "    .dataframe tbody tr th {\n",
       "        vertical-align: top;\n",
       "    }\n",
       "\n",
       "    .dataframe thead th {\n",
       "        text-align: right;\n",
       "    }\n",
       "</style>\n",
       "<table border=\"1\" class=\"dataframe\">\n",
       "  <thead>\n",
       "    <tr style=\"text-align: right;\">\n",
       "      <th></th>\n",
       "      <th>antecedents</th>\n",
       "      <th>consequents</th>\n",
       "      <th>antecedent support</th>\n",
       "      <th>consequent support</th>\n",
       "      <th>support</th>\n",
       "      <th>confidence</th>\n",
       "      <th>lift</th>\n",
       "      <th>leverage</th>\n",
       "      <th>conviction</th>\n",
       "      <th>antecedent_len</th>\n",
       "      <th>consequente_len</th>\n",
       "    </tr>\n",
       "  </thead>\n",
       "  <tbody>\n",
       "    <tr>\n",
       "      <th>0</th>\n",
       "      <td>frozenset({'Firebird'})</td>\n",
       "      <td>frozenset({'Informix'})</td>\n",
       "      <td>0.025381</td>\n",
       "      <td>0.030457</td>\n",
       "      <td>0.025381</td>\n",
       "      <td>1.000000</td>\n",
       "      <td>32.833333</td>\n",
       "      <td>0.024608</td>\n",
       "      <td>inf</td>\n",
       "      <td>1</td>\n",
       "      <td>1</td>\n",
       "    </tr>\n",
       "    <tr>\n",
       "      <th>1</th>\n",
       "      <td>frozenset({'Informix'})</td>\n",
       "      <td>frozenset({'Firebird'})</td>\n",
       "      <td>0.030457</td>\n",
       "      <td>0.025381</td>\n",
       "      <td>0.025381</td>\n",
       "      <td>0.833333</td>\n",
       "      <td>32.833333</td>\n",
       "      <td>0.024608</td>\n",
       "      <td>5.847716</td>\n",
       "      <td>1</td>\n",
       "      <td>1</td>\n",
       "    </tr>\n",
       "    <tr>\n",
       "      <th>2</th>\n",
       "      <td>frozenset({'Firebird'})</td>\n",
       "      <td>frozenset({'SAP Adaptive Server'})</td>\n",
       "      <td>0.025381</td>\n",
       "      <td>0.060914</td>\n",
       "      <td>0.025381</td>\n",
       "      <td>1.000000</td>\n",
       "      <td>16.416667</td>\n",
       "      <td>0.023835</td>\n",
       "      <td>inf</td>\n",
       "      <td>1</td>\n",
       "      <td>1</td>\n",
       "    </tr>\n",
       "    <tr>\n",
       "      <th>3</th>\n",
       "      <td>frozenset({'SapHana'})</td>\n",
       "      <td>frozenset({'SAP Adaptive Server'})</td>\n",
       "      <td>0.025381</td>\n",
       "      <td>0.060914</td>\n",
       "      <td>0.025381</td>\n",
       "      <td>1.000000</td>\n",
       "      <td>16.416667</td>\n",
       "      <td>0.023835</td>\n",
       "      <td>inf</td>\n",
       "      <td>1</td>\n",
       "      <td>1</td>\n",
       "    </tr>\n",
       "    <tr>\n",
       "      <th>4</th>\n",
       "      <td>frozenset({'SAP Adaptive Server'})</td>\n",
       "      <td>frozenset({'Firebird'})</td>\n",
       "      <td>0.060914</td>\n",
       "      <td>0.025381</td>\n",
       "      <td>0.025381</td>\n",
       "      <td>0.416667</td>\n",
       "      <td>16.416667</td>\n",
       "      <td>0.023835</td>\n",
       "      <td>1.670776</td>\n",
       "      <td>1</td>\n",
       "      <td>1</td>\n",
       "    </tr>\n",
       "    <tr>\n",
       "      <th>5</th>\n",
       "      <td>frozenset({'SAP Adaptive Server'})</td>\n",
       "      <td>frozenset({'SapHana'})</td>\n",
       "      <td>0.060914</td>\n",
       "      <td>0.025381</td>\n",
       "      <td>0.025381</td>\n",
       "      <td>0.416667</td>\n",
       "      <td>16.416667</td>\n",
       "      <td>0.023835</td>\n",
       "      <td>1.670776</td>\n",
       "      <td>1</td>\n",
       "      <td>1</td>\n",
       "    </tr>\n",
       "    <tr>\n",
       "      <th>6</th>\n",
       "      <td>frozenset({'Informix'})</td>\n",
       "      <td>frozenset({'SAP Adaptive Server'})</td>\n",
       "      <td>0.030457</td>\n",
       "      <td>0.060914</td>\n",
       "      <td>0.025381</td>\n",
       "      <td>0.833333</td>\n",
       "      <td>13.680556</td>\n",
       "      <td>0.023525</td>\n",
       "      <td>5.634518</td>\n",
       "      <td>1</td>\n",
       "      <td>1</td>\n",
       "    </tr>\n",
       "    <tr>\n",
       "      <th>7</th>\n",
       "      <td>frozenset({'SAP Adaptive Server'})</td>\n",
       "      <td>frozenset({'Informix'})</td>\n",
       "      <td>0.060914</td>\n",
       "      <td>0.030457</td>\n",
       "      <td>0.025381</td>\n",
       "      <td>0.416667</td>\n",
       "      <td>13.680556</td>\n",
       "      <td>0.023525</td>\n",
       "      <td>1.662074</td>\n",
       "      <td>1</td>\n",
       "      <td>1</td>\n",
       "    </tr>\n",
       "    <tr>\n",
       "      <th>8</th>\n",
       "      <td>frozenset({'Solr'})</td>\n",
       "      <td>frozenset({'Cassandra'})</td>\n",
       "      <td>0.035533</td>\n",
       "      <td>0.055838</td>\n",
       "      <td>0.025381</td>\n",
       "      <td>0.714286</td>\n",
       "      <td>12.792208</td>\n",
       "      <td>0.023397</td>\n",
       "      <td>3.304569</td>\n",
       "      <td>1</td>\n",
       "      <td>1</td>\n",
       "    </tr>\n",
       "    <tr>\n",
       "      <th>9</th>\n",
       "      <td>frozenset({'Cassandra'})</td>\n",
       "      <td>frozenset({'Solr'})</td>\n",
       "      <td>0.055838</td>\n",
       "      <td>0.035533</td>\n",
       "      <td>0.025381</td>\n",
       "      <td>0.454545</td>\n",
       "      <td>12.792208</td>\n",
       "      <td>0.023397</td>\n",
       "      <td>1.768190</td>\n",
       "      <td>1</td>\n",
       "      <td>1</td>\n",
       "    </tr>\n",
       "    <tr>\n",
       "      <th>10</th>\n",
       "      <td>frozenset({'HBase'})</td>\n",
       "      <td>frozenset({'Solr'})</td>\n",
       "      <td>0.065990</td>\n",
       "      <td>0.035533</td>\n",
       "      <td>0.025381</td>\n",
       "      <td>0.384615</td>\n",
       "      <td>10.824176</td>\n",
       "      <td>0.023036</td>\n",
       "      <td>1.567259</td>\n",
       "      <td>1</td>\n",
       "      <td>1</td>\n",
       "    </tr>\n",
       "    <tr>\n",
       "      <th>11</th>\n",
       "      <td>frozenset({'Solr'})</td>\n",
       "      <td>frozenset({'HBase'})</td>\n",
       "      <td>0.035533</td>\n",
       "      <td>0.065990</td>\n",
       "      <td>0.025381</td>\n",
       "      <td>0.714286</td>\n",
       "      <td>10.824176</td>\n",
       "      <td>0.023036</td>\n",
       "      <td>3.269036</td>\n",
       "      <td>1</td>\n",
       "      <td>1</td>\n",
       "    </tr>\n",
       "    <tr>\n",
       "      <th>12</th>\n",
       "      <td>frozenset({'SapHana'})</td>\n",
       "      <td>frozenset({'IBM DB2'})</td>\n",
       "      <td>0.025381</td>\n",
       "      <td>0.096447</td>\n",
       "      <td>0.025381</td>\n",
       "      <td>1.000000</td>\n",
       "      <td>10.368421</td>\n",
       "      <td>0.022933</td>\n",
       "      <td>inf</td>\n",
       "      <td>1</td>\n",
       "      <td>1</td>\n",
       "    </tr>\n",
       "    <tr>\n",
       "      <th>13</th>\n",
       "      <td>frozenset({'IBM DB2'})</td>\n",
       "      <td>frozenset({'SapHana'})</td>\n",
       "      <td>0.096447</td>\n",
       "      <td>0.025381</td>\n",
       "      <td>0.025381</td>\n",
       "      <td>0.263158</td>\n",
       "      <td>10.368421</td>\n",
       "      <td>0.022933</td>\n",
       "      <td>1.322698</td>\n",
       "      <td>1</td>\n",
       "      <td>1</td>\n",
       "    </tr>\n",
       "    <tr>\n",
       "      <th>14</th>\n",
       "      <td>frozenset({'Firebird'})</td>\n",
       "      <td>frozenset({'IBM DB2'})</td>\n",
       "      <td>0.025381</td>\n",
       "      <td>0.096447</td>\n",
       "      <td>0.025381</td>\n",
       "      <td>1.000000</td>\n",
       "      <td>10.368421</td>\n",
       "      <td>0.022933</td>\n",
       "      <td>inf</td>\n",
       "      <td>1</td>\n",
       "      <td>1</td>\n",
       "    </tr>\n",
       "    <tr>\n",
       "      <th>15</th>\n",
       "      <td>frozenset({'IBM DB2'})</td>\n",
       "      <td>frozenset({'Firebird'})</td>\n",
       "      <td>0.096447</td>\n",
       "      <td>0.025381</td>\n",
       "      <td>0.025381</td>\n",
       "      <td>0.263158</td>\n",
       "      <td>10.368421</td>\n",
       "      <td>0.022933</td>\n",
       "      <td>1.322698</td>\n",
       "      <td>1</td>\n",
       "      <td>1</td>\n",
       "    </tr>\n",
       "    <tr>\n",
       "      <th>16</th>\n",
       "      <td>frozenset({'Hive'})</td>\n",
       "      <td>frozenset({'HBase'})</td>\n",
       "      <td>0.045685</td>\n",
       "      <td>0.065990</td>\n",
       "      <td>0.030457</td>\n",
       "      <td>0.666667</td>\n",
       "      <td>10.102564</td>\n",
       "      <td>0.027442</td>\n",
       "      <td>2.802030</td>\n",
       "      <td>1</td>\n",
       "      <td>1</td>\n",
       "    </tr>\n",
       "    <tr>\n",
       "      <th>17</th>\n",
       "      <td>frozenset({'HBase'})</td>\n",
       "      <td>frozenset({'Hive'})</td>\n",
       "      <td>0.065990</td>\n",
       "      <td>0.045685</td>\n",
       "      <td>0.030457</td>\n",
       "      <td>0.461538</td>\n",
       "      <td>10.102564</td>\n",
       "      <td>0.027442</td>\n",
       "      <td>1.772299</td>\n",
       "      <td>1</td>\n",
       "      <td>1</td>\n",
       "    </tr>\n",
       "  </tbody>\n",
       "</table>\n",
       "</div>"
      ],
      "text/plain": [
       "                           antecedents                         consequents  \\\n",
       "0              frozenset({'Firebird'})             frozenset({'Informix'})   \n",
       "1              frozenset({'Informix'})             frozenset({'Firebird'})   \n",
       "2              frozenset({'Firebird'})  frozenset({'SAP Adaptive Server'})   \n",
       "3               frozenset({'SapHana'})  frozenset({'SAP Adaptive Server'})   \n",
       "4   frozenset({'SAP Adaptive Server'})             frozenset({'Firebird'})   \n",
       "5   frozenset({'SAP Adaptive Server'})              frozenset({'SapHana'})   \n",
       "6              frozenset({'Informix'})  frozenset({'SAP Adaptive Server'})   \n",
       "7   frozenset({'SAP Adaptive Server'})             frozenset({'Informix'})   \n",
       "8                  frozenset({'Solr'})            frozenset({'Cassandra'})   \n",
       "9             frozenset({'Cassandra'})                 frozenset({'Solr'})   \n",
       "10                frozenset({'HBase'})                 frozenset({'Solr'})   \n",
       "11                 frozenset({'Solr'})                frozenset({'HBase'})   \n",
       "12              frozenset({'SapHana'})              frozenset({'IBM DB2'})   \n",
       "13              frozenset({'IBM DB2'})              frozenset({'SapHana'})   \n",
       "14             frozenset({'Firebird'})              frozenset({'IBM DB2'})   \n",
       "15              frozenset({'IBM DB2'})             frozenset({'Firebird'})   \n",
       "16                 frozenset({'Hive'})                frozenset({'HBase'})   \n",
       "17                frozenset({'HBase'})                 frozenset({'Hive'})   \n",
       "\n",
       "    antecedent support  consequent support   support  confidence       lift  \\\n",
       "0             0.025381            0.030457  0.025381    1.000000  32.833333   \n",
       "1             0.030457            0.025381  0.025381    0.833333  32.833333   \n",
       "2             0.025381            0.060914  0.025381    1.000000  16.416667   \n",
       "3             0.025381            0.060914  0.025381    1.000000  16.416667   \n",
       "4             0.060914            0.025381  0.025381    0.416667  16.416667   \n",
       "5             0.060914            0.025381  0.025381    0.416667  16.416667   \n",
       "6             0.030457            0.060914  0.025381    0.833333  13.680556   \n",
       "7             0.060914            0.030457  0.025381    0.416667  13.680556   \n",
       "8             0.035533            0.055838  0.025381    0.714286  12.792208   \n",
       "9             0.055838            0.035533  0.025381    0.454545  12.792208   \n",
       "10            0.065990            0.035533  0.025381    0.384615  10.824176   \n",
       "11            0.035533            0.065990  0.025381    0.714286  10.824176   \n",
       "12            0.025381            0.096447  0.025381    1.000000  10.368421   \n",
       "13            0.096447            0.025381  0.025381    0.263158  10.368421   \n",
       "14            0.025381            0.096447  0.025381    1.000000  10.368421   \n",
       "15            0.096447            0.025381  0.025381    0.263158  10.368421   \n",
       "16            0.045685            0.065990  0.030457    0.666667  10.102564   \n",
       "17            0.065990            0.045685  0.030457    0.461538  10.102564   \n",
       "\n",
       "    leverage  conviction  antecedent_len  consequente_len  \n",
       "0   0.024608         inf               1                1  \n",
       "1   0.024608    5.847716               1                1  \n",
       "2   0.023835         inf               1                1  \n",
       "3   0.023835         inf               1                1  \n",
       "4   0.023835    1.670776               1                1  \n",
       "5   0.023835    1.670776               1                1  \n",
       "6   0.023525    5.634518               1                1  \n",
       "7   0.023525    1.662074               1                1  \n",
       "8   0.023397    3.304569               1                1  \n",
       "9   0.023397    1.768190               1                1  \n",
       "10  0.023036    1.567259               1                1  \n",
       "11  0.023036    3.269036               1                1  \n",
       "12  0.022933         inf               1                1  \n",
       "13  0.022933    1.322698               1                1  \n",
       "14  0.022933         inf               1                1  \n",
       "15  0.022933    1.322698               1                1  \n",
       "16  0.027442    2.802030               1                1  \n",
       "17  0.027442    1.772299               1                1  "
      ]
     },
     "execution_count": 59,
     "metadata": {},
     "output_type": "execute_result"
    }
   ],
   "source": [
    "rules13 = df2[(df2['lift'] > 10)] #>20\n",
    "rules13"
   ]
  },
  {
   "cell_type": "code",
   "execution_count": null,
   "metadata": {},
   "outputs": [],
   "source": [
    "#if you need to generate the rules in excel\n",
    "#rules_filter = df2.to_excel('historical_filters.xlsx', index=False)"
   ]
  }
 ],
 "metadata": {
  "kernelspec": {
   "display_name": "db-mining-pBhgzAM8",
   "language": "python",
   "name": "python3"
  },
  "language_info": {
   "codemirror_mode": {
    "name": "ipython",
    "version": 3
   },
   "file_extension": ".py",
   "mimetype": "text/x-python",
   "name": "python",
   "nbconvert_exporter": "python",
   "pygments_lexer": "ipython3",
   "version": "3.10.2"
  },
  "orig_nbformat": 4,
  "vscode": {
   "interpreter": {
    "hash": "eed6e006056345fe12a16d8ae079f8487d9044571f40a6ccc26e6f8260551aa5"
   }
  }
 },
 "nbformat": 4,
 "nbformat_minor": 2
}
